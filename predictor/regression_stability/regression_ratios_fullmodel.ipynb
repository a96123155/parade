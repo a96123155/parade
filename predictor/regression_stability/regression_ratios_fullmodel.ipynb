{
 "cells": [
  {
   "cell_type": "code",
   "execution_count": 1,
   "id": "b8f45815",
   "metadata": {
    "execution": {
     "iopub.execute_input": "2024-10-27T18:57:18.351311Z",
     "iopub.status.busy": "2024-10-27T18:57:18.350102Z",
     "iopub.status.idle": "2024-10-27T18:57:20.968895Z",
     "shell.execute_reply": "2024-10-27T18:57:20.968153Z",
     "shell.execute_reply.started": "2024-10-27T18:57:18.351264Z"
    },
    "tags": []
   },
   "outputs": [],
   "source": [
    "import os\n",
    "import importlib\n",
    "import math\n",
    "import time\n",
    "\n",
    "import itertools\n",
    "from collections import defaultdict\n",
    "\n",
    "import numpy as np\n",
    "import pandas as pd\n",
    "import scipy.stats as ss\n",
    "import matplotlib as mpl\n",
    "import matplotlib.pyplot as plt\n",
    "import seaborn as sns\n",
    "\n",
    "from tqdm.auto import tqdm as tqdm_auto\n",
    "from tqdm.notebook import tqdm\n",
    "\n",
    "import torch\n",
    "import torch.nn as nn\n",
    "import torch.nn.functional as F\n",
    "import torch.optim as optim\n",
    "from torch.utils.data import DataLoader\n",
    "import pytorch_lightning as pl\n",
    "\n",
    "from IPython.display import clear_output"
   ]
  },
  {
   "cell_type": "code",
   "execution_count": 2,
   "id": "e1cc66fe",
   "metadata": {
    "execution": {
     "iopub.execute_input": "2024-10-27T18:57:20.970161Z",
     "iopub.status.busy": "2024-10-27T18:57:20.969880Z",
     "iopub.status.idle": "2024-10-27T18:57:20.974176Z",
     "shell.execute_reply": "2024-10-27T18:57:20.973567Z",
     "shell.execute_reply.started": "2024-10-27T18:57:20.970144Z"
    },
    "tags": []
   },
   "outputs": [],
   "source": [
    "sys.path.append(\"../model/\")\n",
    "import stability_data as stability_data\n",
    "from legnet import LegNetClassifier\n",
    "from pl_regressor import RNARegressor"
   ]
  },
  {
   "cell_type": "markdown",
   "id": "6e499667-0eae-4e02-8908-5b1344c4032c",
   "metadata": {},
   "source": [
    "## Loading data"
   ]
  },
  {
   "cell_type": "code",
   "execution_count": 3,
   "id": "ca3929a5",
   "metadata": {
    "execution": {
     "iopub.execute_input": "2024-10-27T18:57:20.974849Z",
     "iopub.status.busy": "2024-10-27T18:57:20.974706Z",
     "iopub.status.idle": "2024-10-27T18:57:20.998870Z",
     "shell.execute_reply": "2024-10-27T18:57:20.998494Z",
     "shell.execute_reply.started": "2024-10-27T18:57:20.974836Z"
    },
    "tags": []
   },
   "outputs": [
    {
     "data": {
      "text/html": [
       "<div>\n",
       "<style scoped>\n",
       "    .dataframe tbody tr th:only-of-type {\n",
       "        vertical-align: middle;\n",
       "    }\n",
       "\n",
       "    .dataframe tbody tr th {\n",
       "        vertical-align: top;\n",
       "    }\n",
       "\n",
       "    .dataframe thead th {\n",
       "        text-align: right;\n",
       "    }\n",
       "</style>\n",
       "<table border=\"1\" class=\"dataframe\">\n",
       "  <thead>\n",
       "    <tr style=\"text-align: right;\">\n",
       "      <th></th>\n",
       "      <th>seq</th>\n",
       "      <th>fold</th>\n",
       "      <th>log_ratio</th>\n",
       "    </tr>\n",
       "  </thead>\n",
       "  <tbody>\n",
       "    <tr>\n",
       "      <th>0</th>\n",
       "      <td>AAAAAAAAACAACAGCACCTGTCCAGGCTTCCTTAGGTACATCTTC...</td>\n",
       "      <td>train</td>\n",
       "      <td>-0.806329</td>\n",
       "    </tr>\n",
       "    <tr>\n",
       "      <th>1</th>\n",
       "      <td>AAAAAACTCACCCGTTTTCCTGGGATTTGTTGTAAGGAGTTTTCAC...</td>\n",
       "      <td>train</td>\n",
       "      <td>-0.798038</td>\n",
       "    </tr>\n",
       "    <tr>\n",
       "      <th>2</th>\n",
       "      <td>AAAAAGACATAAACTGGCACCAGTTAACTTTCTTGTACTTTTTTGC...</td>\n",
       "      <td>train</td>\n",
       "      <td>-0.843010</td>\n",
       "    </tr>\n",
       "  </tbody>\n",
       "</table>\n",
       "</div>"
      ],
      "text/plain": [
       "                                                 seq   fold  log_ratio\n",
       "0  AAAAAAAAACAACAGCACCTGTCCAGGCTTCCTTAGGTACATCTTC...  train  -0.806329\n",
       "1  AAAAAACTCACCCGTTTTCCTGGGATTTGTTGTAAGGAGTTTTCAC...  train  -0.798038\n",
       "2  AAAAAGACATAAACTGGCACCAGTTAACTTTCTTGTACTTTTTTGC...  train  -0.843010"
      ]
     },
     "execution_count": 3,
     "metadata": {},
     "output_type": "execute_result"
    }
   ],
   "source": [
    "PATH_FROM = './ratios_log_stability.csv'\n",
    "df_src = pd.read_csv(PATH_FROM)\n",
    "df_src.head(3)"
   ]
  },
  {
   "cell_type": "code",
   "execution_count": 4,
   "id": "2e19da5b-4944-409e-8396-dbbc4354258c",
   "metadata": {
    "execution": {
     "iopub.execute_input": "2024-10-27T18:57:21.777148Z",
     "iopub.status.busy": "2024-10-27T18:57:21.776270Z",
     "iopub.status.idle": "2024-10-27T18:57:21.782182Z",
     "shell.execute_reply": "2024-10-27T18:57:21.781161Z",
     "shell.execute_reply.started": "2024-10-27T18:57:21.777101Z"
    },
    "tags": []
   },
   "outputs": [],
   "source": [
    "Y_NAME = \"log_ratio\""
   ]
  },
  {
   "cell_type": "code",
   "execution_count": 5,
   "id": "d37dbe06-fa5d-4319-a06b-2d499b333fc0",
   "metadata": {
    "execution": {
     "iopub.execute_input": "2024-10-27T18:57:22.224377Z",
     "iopub.status.busy": "2024-10-27T18:57:22.223686Z",
     "iopub.status.idle": "2024-10-27T18:57:22.236993Z",
     "shell.execute_reply": "2024-10-27T18:57:22.236445Z",
     "shell.execute_reply.started": "2024-10-27T18:57:22.224329Z"
    },
    "tags": []
   },
   "outputs": [
    {
     "data": {
      "text/html": [
       "<div>\n",
       "<style scoped>\n",
       "    .dataframe tbody tr th:only-of-type {\n",
       "        vertical-align: middle;\n",
       "    }\n",
       "\n",
       "    .dataframe tbody tr th {\n",
       "        vertical-align: top;\n",
       "    }\n",
       "\n",
       "    .dataframe thead th {\n",
       "        text-align: right;\n",
       "    }\n",
       "</style>\n",
       "<table border=\"1\" class=\"dataframe\">\n",
       "  <thead>\n",
       "    <tr style=\"text-align: right;\">\n",
       "      <th></th>\n",
       "      <th>seq</th>\n",
       "      <th>fold</th>\n",
       "      <th>log_ratio</th>\n",
       "    </tr>\n",
       "  </thead>\n",
       "  <tbody>\n",
       "    <tr>\n",
       "      <th>0</th>\n",
       "      <td>AAACAGGCCCCCTTCCCATCTACCTAGCCAGTACCCATCCAATGAG...</td>\n",
       "      <td>val</td>\n",
       "      <td>-0.665711</td>\n",
       "    </tr>\n",
       "    <tr>\n",
       "      <th>1</th>\n",
       "      <td>AAAGTCCCAAAGGCGGACCCGCTGGTGCTGGAAGCCAGAACTGTGG...</td>\n",
       "      <td>val</td>\n",
       "      <td>-0.801373</td>\n",
       "    </tr>\n",
       "    <tr>\n",
       "      <th>2</th>\n",
       "      <td>AAATACATATTTAGTGTTACTTGGAAAACAGCTGCTGCCAGCTAGC...</td>\n",
       "      <td>val</td>\n",
       "      <td>-0.989821</td>\n",
       "    </tr>\n",
       "    <tr>\n",
       "      <th>3</th>\n",
       "      <td>AACCACATGAACTGGACTGAGAGGGGGAAGAAGCGGGGAGGAAGAA...</td>\n",
       "      <td>val</td>\n",
       "      <td>-0.843702</td>\n",
       "    </tr>\n",
       "    <tr>\n",
       "      <th>4</th>\n",
       "      <td>AACCGGAGGGGCTGCCATTACGAGTTTACCAGCTTTTGCACGGGTA...</td>\n",
       "      <td>val</td>\n",
       "      <td>-0.737987</td>\n",
       "    </tr>\n",
       "  </tbody>\n",
       "</table>\n",
       "</div>"
      ],
      "text/plain": [
       "                                                 seq fold  log_ratio\n",
       "0  AAACAGGCCCCCTTCCCATCTACCTAGCCAGTACCCATCCAATGAG...  val  -0.665711\n",
       "1  AAAGTCCCAAAGGCGGACCCGCTGGTGCTGGAAGCCAGAACTGTGG...  val  -0.801373\n",
       "2  AAATACATATTTAGTGTTACTTGGAAAACAGCTGCTGCCAGCTAGC...  val  -0.989821\n",
       "3  AACCACATGAACTGGACTGAGAGGGGGAAGAAGCGGGGAGGAAGAA...  val  -0.843702\n",
       "4  AACCGGAGGGGCTGCCATTACGAGTTTACCAGCTTTTGCACGGGTA...  val  -0.737987"
      ]
     },
     "execution_count": 5,
     "metadata": {},
     "output_type": "execute_result"
    }
   ],
   "source": [
    "splits = dict(tuple(df_src.groupby('fold')))\n",
    "for split_df in splits.values():\n",
    "    split_df.reset_index(drop=True, inplace=True)\n",
    "splits[\"val\"].head()"
   ]
  },
  {
   "cell_type": "code",
   "execution_count": 6,
   "id": "ec976669-ec8f-418b-81af-ac737735da83",
   "metadata": {
    "execution": {
     "iopub.execute_input": "2024-10-27T18:57:22.909974Z",
     "iopub.status.busy": "2024-10-27T18:57:22.909253Z",
     "iopub.status.idle": "2024-10-27T18:57:22.914530Z",
     "shell.execute_reply": "2024-10-27T18:57:22.913678Z",
     "shell.execute_reply.started": "2024-10-27T18:57:22.909939Z"
    },
    "tags": []
   },
   "outputs": [],
   "source": [
    "batch_size = 128\n",
    "steps_per_epoch = max(1, splits[\"train\"].shape[0] // batch_size)"
   ]
  },
  {
   "cell_type": "code",
   "execution_count": 7,
   "id": "a8034baf-7f7d-4032-859d-d8f337c2898d",
   "metadata": {
    "execution": {
     "iopub.execute_input": "2024-10-27T18:57:23.284124Z",
     "iopub.status.busy": "2024-10-27T18:57:23.282923Z",
     "iopub.status.idle": "2024-10-27T18:57:23.289255Z",
     "shell.execute_reply": "2024-10-27T18:57:23.288025Z",
     "shell.execute_reply.started": "2024-10-27T18:57:23.284077Z"
    },
    "tags": []
   },
   "outputs": [],
   "source": [
    "num_workers = 32"
   ]
  },
  {
   "cell_type": "code",
   "execution_count": 8,
   "id": "c7586065-f11c-4319-9b50-8ad620da703b",
   "metadata": {
    "execution": {
     "iopub.execute_input": "2024-10-27T18:57:23.546872Z",
     "iopub.status.busy": "2024-10-27T18:57:23.546006Z",
     "iopub.status.idle": "2024-10-27T18:57:23.560493Z",
     "shell.execute_reply": "2024-10-27T18:57:23.559686Z",
     "shell.execute_reply.started": "2024-10-27T18:57:23.546824Z"
    },
    "tags": []
   },
   "outputs": [],
   "source": [
    "def launch_model(\n",
    "    seed: int,\n",
    "    train_ds_kws: dict,\n",
    "    val_ds_kws: dict,\n",
    "    model_class,\n",
    "    model_kws: dict,\n",
    "    criterion_class,\n",
    "    criterion_kws: dict,\n",
    "    optimizer_class,\n",
    "    optimizer_kws: dict,\n",
    "    lr_scheduler_class,\n",
    "    lr_scheduler_kws: dict,\n",
    "    epochs: int,\n",
    "):\n",
    "    pl.seed_everything(seed)\n",
    "\n",
    "    # Creating Datasets\n",
    "    train_set = stability_data.StabilityData(\n",
    "        df=splits[\"train\"],\n",
    "        **train_ds_kws,\n",
    "    )\n",
    "    val_set = stability_data.StabilityData(\n",
    "        df=splits[\"val\"],\n",
    "        **val_ds_kws,\n",
    "    )\n",
    "\n",
    "    assert train_set.num_channels == val_set.num_channels\n",
    "\n",
    "    # Creating DataLoaders\n",
    "    dl_train = DataLoader(\n",
    "        train_set,\n",
    "        batch_size=batch_size,\n",
    "        num_workers=num_workers,\n",
    "        shuffle=True,\n",
    "        drop_last=True\n",
    "    )\n",
    "    dl_val = DataLoader(\n",
    "        val_set,\n",
    "        batch_size=val_set.__len__(),\n",
    "        num_workers=num_workers,\n",
    "        shuffle=False,\n",
    "        drop_last=False\n",
    "    )\n",
    "\n",
    "    model = RNARegressor(\n",
    "        model_class=model_class,\n",
    "        model_kws=model_kws | dict(\n",
    "            in_channels=train_set.num_channels\n",
    "        ),\n",
    "        criterion_class=criterion_class,\n",
    "        criterion_kws=criterion_kws,\n",
    "        optimizer_class=optimizer_class,\n",
    "        optimizer_kws=optimizer_kws,\n",
    "        lr_scheduler_class=lr_scheduler_class,\n",
    "        lr_scheduler_kws=lr_scheduler_kws,\n",
    "    )\n",
    "    checkpoint_callback = pl.callbacks.ModelCheckpoint(\n",
    "        dirpath=\"saved_models\",\n",
    "        save_top_k=1,\n",
    "        save_last=False,\n",
    "        monitor=\"val_pearson_r_0\",\n",
    "        mode=\"max\"\n",
    "    )\n",
    "    progressbar_callback = pl.callbacks.TQDMProgressBar(refresh_rate=0.5)\n",
    "\n",
    "    logger = pl.loggers.tensorboard.TensorBoardLogger(\"tb_logs\", name=model.model_name)\n",
    "    trainer = pl.Trainer(\n",
    "        callbacks=[checkpoint_callback, progressbar_callback],\n",
    "        logger=logger,\n",
    "        accelerator=\"gpu\",\n",
    "        devices=1,\n",
    "        deterministic=True,\n",
    "        max_epochs=epochs,\n",
    "        num_sanity_val_steps=0,\n",
    "        log_every_n_steps=10,\n",
    "        gradient_clip_val=1e-3,\n",
    "        gradient_clip_algorithm=\"value\",\n",
    "    )\n",
    "    trainer.fit(model=model, train_dataloaders=dl_train, val_dataloaders=dl_val)\n",
    "    best_model = RNARegressor.load_from_checkpoint(checkpoint_callback.best_model_path)\n",
    "\n",
    "    prediction = trainer.predict(model=best_model, dataloaders=dl_val)\n",
    "    val_pred, val_real = zip(*prediction)\n",
    "    val_pred = torch.concat(val_pred).numpy()\n",
    "    val_real = torch.concat(val_real).numpy()\n",
    "    val_df = splits[\"val\"].copy()\n",
    "    val_df[\"prediction\"] = val_pred[:, 0]\n",
    "\n",
    "    return trainer, val_df"
   ]
  },
  {
   "cell_type": "code",
   "execution_count": null,
   "id": "ec411459-6b2b-4b97-9b57-eb0d6240bbe9",
   "metadata": {
    "execution": {
     "iopub.execute_input": "2024-10-27T17:03:42.545238Z",
     "iopub.status.busy": "2024-10-27T17:03:42.545080Z",
     "iopub.status.idle": "2024-10-27T17:10:11.105541Z",
     "shell.execute_reply": "2024-10-27T17:10:11.104860Z",
     "shell.execute_reply.started": "2024-10-27T17:03:42.545223Z"
    },
    "tags": []
   },
   "outputs": [],
   "source": [
    "checked = {\n",
    "    \"seed\": [0],\n",
    "    \"features\": [\n",
    "        (\"sequence\",),  # (\"sequence\", \"positional\",)\n",
    "    ],\n",
    "    \"epochs\": [25],\n",
    "}\n",
    "\n",
    "for subset in itertools.product(\n",
    "    *checked.values()\n",
    "):\n",
    "    PARAMS = dict(zip(checked.keys(), subset))\n",
    "\n",
    "    trainer_last, prediction_best_last = launch_model(\n",
    "        seed=PARAMS[\"seed\"],\n",
    "        train_ds_kws=dict(\n",
    "            features=PARAMS[\"features\"],\n",
    "            predict_cols=[Y_NAME],\n",
    "        ),\n",
    "        val_ds_kws=dict(\n",
    "            features=PARAMS[\"features\"],\n",
    "            predict_cols=[Y_NAME],\n",
    "        ),\n",
    "        model_class=LegNetClassifier,\n",
    "        model_kws=dict(\n",
    "            seqsize=186,\n",
    "            ks=3,\n",
    "            out_channels=1,\n",
    "            conv_sizes=(128, 64, 64, 32, 32),\n",
    "            mapper_size=256,\n",
    "            linear_sizes=None,\n",
    "            use_max_pooling=False,\n",
    "            final_activation=nn.Identity\n",
    "        ),\n",
    "        criterion_class=nn.HuberLoss,  # nn.MSELoss,  # \n",
    "        criterion_kws=dict(),\n",
    "        optimizer_class=torch.optim.AdamW,\n",
    "        optimizer_kws=dict(\n",
    "            # lr=0.01,\n",
    "            weight_decay=0.1,\n",
    "        ),\n",
    "        lr_scheduler_class=torch.optim.lr_scheduler.OneCycleLR,\n",
    "        lr_scheduler_kws=dict(\n",
    "            max_lr=0.025,\n",
    "            steps_per_epoch=steps_per_epoch,\n",
    "            epochs=PARAMS[\"epochs\"],\n",
    "            pct_start=0.3,\n",
    "            three_phase=False,\n",
    "            cycle_momentum=True,\n",
    "        ),\n",
    "        epochs=PARAMS[\"epochs\"],\n",
    "    )"
   ]
  }
 ],
 "metadata": {
  "kernelspec": {
   "display_name": "Python [conda env:ml]",
   "language": "python",
   "name": "conda-env-ml-py"
  },
  "language_info": {
   "codemirror_mode": {
    "name": "ipython",
    "version": 3
   },
   "file_extension": ".py",
   "mimetype": "text/x-python",
   "name": "python",
   "nbconvert_exporter": "python",
   "pygments_lexer": "ipython3",
   "version": "3.11.3"
  },
  "vscode": {
   "interpreter": {
    "hash": "64b0dffe91cf8f88d3a84eea1f79c78b7512619aa8cb3e6f3df2fb7199efc743"
   }
  }
 },
 "nbformat": 4,
 "nbformat_minor": 5
}

{
 "cells": [
  {
   "cell_type": "code",
   "execution_count": 1,
   "id": "b8f45815",
   "metadata": {
    "execution": {
     "iopub.execute_input": "2023-07-16T16:48:47.450846Z",
     "iopub.status.busy": "2023-07-16T16:48:47.450376Z",
     "iopub.status.idle": "2023-07-16T16:48:59.059916Z",
     "shell.execute_reply": "2023-07-16T16:48:59.058866Z",
     "shell.execute_reply.started": "2023-07-16T16:48:47.450807Z"
    },
    "tags": []
   },
   "outputs": [],
   "source": [
    "import os\n",
    "import sys\n",
    "import importlib\n",
    "import math\n",
    "import time\n",
    "\n",
    "import itertools\n",
    "from collections import defaultdict\n",
    "\n",
    "import numpy as np\n",
    "import pandas as pd\n",
    "import scipy.stats as ss\n",
    "import matplotlib as mpl\n",
    "import matplotlib.pyplot as plt\n",
    "import seaborn as sns\n",
    "\n",
    "from tqdm.auto import tqdm as tqdm_auto\n",
    "from tqdm.notebook import tqdm\n",
    "\n",
    "import torch\n",
    "import torch.nn as nn\n",
    "import torch.nn.functional as F\n",
    "import torch.optim as optim\n",
    "from torch.utils.data import DataLoader\n",
    "import pytorch_lightning as pl\n",
    "\n",
    "from IPython.display import clear_output"
   ]
  },
  {
   "cell_type": "code",
   "execution_count": 2,
   "id": "e1cc66fe",
   "metadata": {
    "execution": {
     "iopub.execute_input": "2023-07-16T16:48:59.063888Z",
     "iopub.status.busy": "2023-07-16T16:48:59.062960Z",
     "iopub.status.idle": "2023-07-16T16:48:59.093825Z",
     "shell.execute_reply": "2023-07-16T16:48:59.093108Z",
     "shell.execute_reply.started": "2023-07-16T16:48:59.063839Z"
    },
    "tags": []
   },
   "outputs": [],
   "source": [
    "sys.path.append(\"../model/\")\n",
    "import utrdata_cl as utrdata\n",
    "from legnet import LegNetClassifier\n",
    "from pl_regressor import RNARegressor"
   ]
  },
  {
   "cell_type": "markdown",
   "id": "6e499667-0eae-4e02-8908-5b1344c4032c",
   "metadata": {},
   "source": [
    "## Loading data"
   ]
  },
  {
   "cell_type": "code",
   "execution_count": 3,
   "id": "ca3929a5",
   "metadata": {
    "execution": {
     "iopub.execute_input": "2023-07-16T16:48:59.094819Z",
     "iopub.status.busy": "2023-07-16T16:48:59.094600Z",
     "iopub.status.idle": "2023-07-16T16:48:59.319805Z",
     "shell.execute_reply": "2023-07-16T16:48:59.319109Z",
     "shell.execute_reply.started": "2023-07-16T16:48:59.094797Z"
    },
    "tags": []
   },
   "outputs": [],
   "source": [
    "PATH_FROM = \"./UTR3_zscores_replicateagg.csv\"\n",
    "df = pd.read_csv(PATH_FROM)"
   ]
  },
  {
   "cell_type": "code",
   "execution_count": 5,
   "id": "43f6ca03-0abf-4488-9faf-80bc84428bc9",
   "metadata": {
    "execution": {
     "iopub.execute_input": "2023-07-16T16:48:59.324958Z",
     "iopub.status.busy": "2023-07-16T16:48:59.324819Z",
     "iopub.status.idle": "2023-07-16T16:48:59.333534Z",
     "shell.execute_reply": "2023-07-16T16:48:59.333139Z",
     "shell.execute_reply.started": "2023-07-16T16:48:59.324946Z"
    },
    "tags": []
   },
   "outputs": [
    {
     "data": {
      "text/plain": [
       "5"
      ]
     },
     "execution_count": 5,
     "metadata": {},
     "output_type": "execute_result"
    }
   ],
   "source": [
    "num_classes = df[\"cell_type\"].unique().shape[0]\n",
    "num_classes"
   ]
  },
  {
   "cell_type": "code",
   "execution_count": 6,
   "id": "d37dbe06-fa5d-4319-a06b-2d499b333fc0",
   "metadata": {
    "execution": {
     "iopub.execute_input": "2023-07-16T16:48:59.334210Z",
     "iopub.status.busy": "2023-07-16T16:48:59.334061Z",
     "iopub.status.idle": "2023-07-16T16:48:59.358644Z",
     "shell.execute_reply": "2023-07-16T16:48:59.358097Z",
     "shell.execute_reply.started": "2023-07-16T16:48:59.334197Z"
    },
    "tags": []
   },
   "outputs": [
    {
     "data": {
      "text/html": [
       "<div>\n",
       "<style scoped>\n",
       "    .dataframe tbody tr th:only-of-type {\n",
       "        vertical-align: middle;\n",
       "    }\n",
       "\n",
       "    .dataframe tbody tr th {\n",
       "        vertical-align: top;\n",
       "    }\n",
       "\n",
       "    .dataframe thead th {\n",
       "        text-align: right;\n",
       "    }\n",
       "</style>\n",
       "<table border=\"1\" class=\"dataframe\">\n",
       "  <thead>\n",
       "    <tr style=\"text-align: right;\">\n",
       "      <th></th>\n",
       "      <th>seq</th>\n",
       "      <th>cell_type</th>\n",
       "      <th>fold</th>\n",
       "      <th>1</th>\n",
       "      <th>2</th>\n",
       "      <th>3</th>\n",
       "      <th>4</th>\n",
       "      <th>mass_center</th>\n",
       "      <th>mass_center_mean</th>\n",
       "      <th>diff</th>\n",
       "      <th>zscore</th>\n",
       "      <th>mass_center_std</th>\n",
       "    </tr>\n",
       "  </thead>\n",
       "  <tbody>\n",
       "    <tr>\n",
       "      <th>0</th>\n",
       "      <td>AAACAAATGTAGCAGGCACAGCGTGGGGTGGACAGTCAGCTGTCGG...</td>\n",
       "      <td>c1</td>\n",
       "      <td>val</td>\n",
       "      <td>68.449816</td>\n",
       "      <td>60.870873</td>\n",
       "      <td>47.590087</td>\n",
       "      <td>41.838243</td>\n",
       "      <td>2.287164</td>\n",
       "      <td>2.29667</td>\n",
       "      <td>-0.009506</td>\n",
       "      <td>-0.062351</td>\n",
       "      <td>0.152462</td>\n",
       "    </tr>\n",
       "    <tr>\n",
       "      <th>1</th>\n",
       "      <td>AAACAAATGTAGCAGGCACAGCGTGGGGTGGACAGTCAGCTGTCGG...</td>\n",
       "      <td>c17</td>\n",
       "      <td>val</td>\n",
       "      <td>72.812510</td>\n",
       "      <td>53.335530</td>\n",
       "      <td>34.751567</td>\n",
       "      <td>42.078913</td>\n",
       "      <td>2.227102</td>\n",
       "      <td>2.29667</td>\n",
       "      <td>-0.069567</td>\n",
       "      <td>-0.456294</td>\n",
       "      <td>0.152462</td>\n",
       "    </tr>\n",
       "    <tr>\n",
       "      <th>2</th>\n",
       "      <td>AAACAAATGTAGCAGGCACAGCGTGGGGTGGACAGTCAGCTGTCGG...</td>\n",
       "      <td>c2</td>\n",
       "      <td>val</td>\n",
       "      <td>71.853249</td>\n",
       "      <td>67.896625</td>\n",
       "      <td>57.267869</td>\n",
       "      <td>55.146572</td>\n",
       "      <td>2.379545</td>\n",
       "      <td>2.29667</td>\n",
       "      <td>0.082875</td>\n",
       "      <td>0.543581</td>\n",
       "      <td>0.152462</td>\n",
       "    </tr>\n",
       "    <tr>\n",
       "      <th>3</th>\n",
       "      <td>AAACAAATGTAGCAGGCACAGCGTGGGGTGGACAGTCAGCTGTCGG...</td>\n",
       "      <td>c4</td>\n",
       "      <td>val</td>\n",
       "      <td>77.312032</td>\n",
       "      <td>66.148593</td>\n",
       "      <td>64.039833</td>\n",
       "      <td>77.299136</td>\n",
       "      <td>2.496230</td>\n",
       "      <td>2.29667</td>\n",
       "      <td>0.199560</td>\n",
       "      <td>1.308917</td>\n",
       "      <td>0.152462</td>\n",
       "    </tr>\n",
       "    <tr>\n",
       "      <th>4</th>\n",
       "      <td>AAACAAATGTAGCAGGCACAGCGTGGGGTGGACAGTCAGCTGTCGG...</td>\n",
       "      <td>c6</td>\n",
       "      <td>val</td>\n",
       "      <td>86.538512</td>\n",
       "      <td>56.970286</td>\n",
       "      <td>42.241073</td>\n",
       "      <td>32.322653</td>\n",
       "      <td>2.093308</td>\n",
       "      <td>2.29667</td>\n",
       "      <td>-0.203362</td>\n",
       "      <td>-1.333853</td>\n",
       "      <td>0.152462</td>\n",
       "    </tr>\n",
       "  </tbody>\n",
       "</table>\n",
       "</div>"
      ],
      "text/plain": [
       "                                                 seq cell_type fold  \\\n",
       "0  AAACAAATGTAGCAGGCACAGCGTGGGGTGGACAGTCAGCTGTCGG...        c1  val   \n",
       "1  AAACAAATGTAGCAGGCACAGCGTGGGGTGGACAGTCAGCTGTCGG...       c17  val   \n",
       "2  AAACAAATGTAGCAGGCACAGCGTGGGGTGGACAGTCAGCTGTCGG...        c2  val   \n",
       "3  AAACAAATGTAGCAGGCACAGCGTGGGGTGGACAGTCAGCTGTCGG...        c4  val   \n",
       "4  AAACAAATGTAGCAGGCACAGCGTGGGGTGGACAGTCAGCTGTCGG...        c6  val   \n",
       "\n",
       "           1          2          3          4  mass_center  mass_center_mean  \\\n",
       "0  68.449816  60.870873  47.590087  41.838243     2.287164           2.29667   \n",
       "1  72.812510  53.335530  34.751567  42.078913     2.227102           2.29667   \n",
       "2  71.853249  67.896625  57.267869  55.146572     2.379545           2.29667   \n",
       "3  77.312032  66.148593  64.039833  77.299136     2.496230           2.29667   \n",
       "4  86.538512  56.970286  42.241073  32.322653     2.093308           2.29667   \n",
       "\n",
       "       diff    zscore  mass_center_std  \n",
       "0 -0.009506 -0.062351         0.152462  \n",
       "1 -0.069567 -0.456294         0.152462  \n",
       "2  0.082875  0.543581         0.152462  \n",
       "3  0.199560  1.308917         0.152462  \n",
       "4 -0.203362 -1.333853         0.152462  "
      ]
     },
     "execution_count": 6,
     "metadata": {},
     "output_type": "execute_result"
    }
   ],
   "source": [
    "splits = dict(tuple(df.groupby('fold')))\n",
    "for split_df in splits.values():\n",
    "    split_df.reset_index(drop=True, inplace=True)\n",
    "splits[\"val\"].head()"
   ]
  },
  {
   "cell_type": "code",
   "execution_count": 7,
   "id": "ec976669-ec8f-418b-81af-ac737735da83",
   "metadata": {
    "execution": {
     "iopub.execute_input": "2023-07-16T16:48:59.360063Z",
     "iopub.status.busy": "2023-07-16T16:48:59.359924Z",
     "iopub.status.idle": "2023-07-16T16:48:59.363554Z",
     "shell.execute_reply": "2023-07-16T16:48:59.362865Z",
     "shell.execute_reply.started": "2023-07-16T16:48:59.360051Z"
    },
    "tags": []
   },
   "outputs": [],
   "source": [
    "batch_size = 1024\n",
    "steps_per_epoch = max(1, splits[\"train\"].shape[0] // batch_size)\n",
    "\n",
    "# batch_per_epoch = 128  # None\n",
    "\n",
    "# if batch_per_epoch is None:\n",
    "#     # batch_per_epoch = int(np.ceil(splits[\"train\"].shape[0] / batch_size))\n",
    "#     batch_per_epoch = splits[\"train\"].shape[0] // batch_size  # drop_last=True @ DataLoader\n",
    "\n",
    "epochs = 20"
   ]
  },
  {
   "cell_type": "code",
   "execution_count": 8,
   "id": "a8034baf-7f7d-4032-859d-d8f337c2898d",
   "metadata": {
    "execution": {
     "iopub.execute_input": "2023-07-16T16:48:59.364326Z",
     "iopub.status.busy": "2023-07-16T16:48:59.364177Z",
     "iopub.status.idle": "2023-07-16T16:48:59.366761Z",
     "shell.execute_reply": "2023-07-16T16:48:59.366172Z",
     "shell.execute_reply.started": "2023-07-16T16:48:59.364312Z"
    },
    "tags": []
   },
   "outputs": [],
   "source": [
    "num_workers = 32"
   ]
  },
  {
   "cell_type": "code",
   "execution_count": 9,
   "id": "c7586065-f11c-4319-9b50-8ad620da703b",
   "metadata": {
    "execution": {
     "iopub.execute_input": "2023-07-16T16:48:59.367563Z",
     "iopub.status.busy": "2023-07-16T16:48:59.367417Z",
     "iopub.status.idle": "2023-07-16T16:48:59.375458Z",
     "shell.execute_reply": "2023-07-16T16:48:59.374828Z",
     "shell.execute_reply.started": "2023-07-16T16:48:59.367550Z"
    },
    "tags": []
   },
   "outputs": [],
   "source": [
    "def launch_model(\n",
    "    seed: int,\n",
    "    train_ds_kws: dict,\n",
    "    val_ds_kws: dict,\n",
    "    model_class,\n",
    "    model_kws: dict,\n",
    "    criterion_class,\n",
    "    criterion_kws: dict,\n",
    "    optimizer_class,\n",
    "    optimizer_kws: dict,\n",
    "    lr_scheduler_class,\n",
    "    lr_scheduler_kws: dict,\n",
    "    test_time_validation: bool,\n",
    "    epochs: int = epochs,\n",
    "):\n",
    "    pl.seed_everything(seed)\n",
    "\n",
    "    # Creating Datasets\n",
    "    train_set = utrdata.UTRData(\n",
    "        df=splits[\"train\"],\n",
    "        **train_ds_kws,\n",
    "    )\n",
    "    val_set = utrdata.UTRData(\n",
    "        df=splits[\"val\"],\n",
    "        **val_ds_kws,\n",
    "    )\n",
    "\n",
    "    assert train_set.num_channels == val_set.num_channels\n",
    "    try:\n",
    "        div_factor = val_ds_kws[\"augment_kws\"][\"shift_left\"] + \\\n",
    "                     val_ds_kws[\"augment_kws\"][\"shift_right\"] + 1\n",
    "    except KeyError:\n",
    "        div_factor = 1\n",
    "\n",
    "    # Creating DataLoaders\n",
    "    dl_train = DataLoader(\n",
    "        train_set,\n",
    "        batch_size=batch_size,\n",
    "        num_workers=num_workers,\n",
    "        shuffle=True,\n",
    "        drop_last=True\n",
    "    )\n",
    "    # dl_train = utrdata.DataLoaderWrapper(dl_train, batch_per_epoch=batch_per_epoch)\n",
    "    dl_val = DataLoader(\n",
    "        val_set,\n",
    "        batch_size=batch_size // div_factor,\n",
    "        num_workers=num_workers,\n",
    "        shuffle=False,\n",
    "        drop_last=False\n",
    "    )\n",
    "\n",
    "    model = RNARegressor(\n",
    "        model_class=model_class,\n",
    "        model_kws=model_kws | dict(\n",
    "            in_channels=train_set.num_channels\n",
    "        ),\n",
    "        criterion_class=criterion_class,\n",
    "        criterion_kws=criterion_kws,\n",
    "        optimizer_class=optimizer_class,\n",
    "        optimizer_kws=optimizer_kws,\n",
    "        lr_scheduler_class=lr_scheduler_class,\n",
    "        lr_scheduler_kws=lr_scheduler_kws,\n",
    "        test_time_validation=test_time_validation,\n",
    "    )\n",
    "    checkpoint_callback = pl.callbacks.ModelCheckpoint(\n",
    "        dirpath=\"saved_models\",\n",
    "        save_top_k=1,\n",
    "        save_last=False,\n",
    "        monitor=\"val_pearson_r_0\",\n",
    "        mode=\"max\"\n",
    "    )\n",
    "    progressbar_callback = pl.callbacks.TQDMProgressBar(refresh_rate=0.5)\n",
    "\n",
    "    logger = pl.loggers.tensorboard.TensorBoardLogger(\"tb_logs\", name=model.model_name)\n",
    "    trainer = pl.Trainer(\n",
    "        callbacks=[checkpoint_callback, progressbar_callback],\n",
    "        logger=logger,\n",
    "        accelerator=\"gpu\",\n",
    "        devices=1,\n",
    "        deterministic=True,\n",
    "        max_epochs=epochs,\n",
    "        num_sanity_val_steps=0,\n",
    "        # gradient_clip_val=1e-5,\n",
    "        # gradient_clip_algorithm=\"norm\",\n",
    "    )\n",
    "    trainer.fit(model=model, train_dataloaders=dl_train, val_dataloaders=dl_val)\n",
    "    best_model = RNARegressor.load_from_checkpoint(checkpoint_callback.best_model_path)\n",
    "\n",
    "    prediction = trainer.predict(model=best_model, dataloaders=dl_val)\n",
    "    val_pred, val_real = zip(*prediction)\n",
    "    val_pred = torch.concat(val_pred).numpy()\n",
    "    val_real = torch.concat(val_real).numpy()\n",
    "    val_df = splits[\"val\"].copy()\n",
    "    val_df[\"real_0\"] = val_real[:, 0]\n",
    "    val_df[\"real_1\"] = val_real[:, 1]\n",
    "    val_df[\"pred_0\"] = val_pred[:, 0]\n",
    "    val_df[\"pred_1\"] = val_pred[:, 1]\n",
    "\n",
    "    return trainer, val_df"
   ]
  },
  {
   "cell_type": "code",
   "execution_count": 10,
   "id": "ec411459-6b2b-4b97-9b57-eb0d6240bbe9",
   "metadata": {
    "execution": {
     "iopub.execute_input": "2023-07-16T16:48:59.376321Z",
     "iopub.status.busy": "2023-07-16T16:48:59.376163Z",
     "iopub.status.idle": "2023-07-16T16:53:58.306449Z",
     "shell.execute_reply": "2023-07-16T16:53:58.305667Z",
     "shell.execute_reply.started": "2023-07-16T16:48:59.376308Z"
    },
    "tags": []
   },
   "outputs": [
    {
     "name": "stderr",
     "output_type": "stream",
     "text": [
      "Global seed set to 3\n",
      "GPU available: True (cuda), used: True\n",
      "TPU available: False, using: 0 TPU cores\n",
      "IPU available: False, using: 0 IPUs\n",
      "HPU available: False, using: 0 HPUs\n",
      "You are using a CUDA device ('NVIDIA GeForce RTX 3090') that has Tensor Cores. To properly utilize them, you should set `torch.set_float32_matmul_precision('medium' | 'high')` which will trade-off precision for performance. For more details, read https://pytorch.org/docs/stable/generated/torch.set_float32_matmul_precision.html#torch.set_float32_matmul_precision\n",
      "Missing logger folder: tb_logs/LegNetClassifier_C128-64-64-32-32_M256_L1\n",
      "LOCAL_RANK: 0 - CUDA_VISIBLE_DEVICES: [0,1]\n",
      "\n",
      "  | Name      | Type             | Params\n",
      "-----------------------------------------------\n",
      "0 | model     | LegNetClassifier | 268 K \n",
      "1 | criterion | MSELoss          | 0     \n",
      "-----------------------------------------------\n",
      "268 K     Trainable params\n",
      "0         Non-trainable params\n",
      "268 K     Total params\n",
      "1.073     Total estimated model params size (MB)\n"
     ]
    },
    {
     "data": {
      "application/vnd.jupyter.widget-view+json": {
       "model_id": "c3672c7b11f5485b88b6754dd737230b",
       "version_major": 2,
       "version_minor": 0
      },
      "text/plain": [
       "Training: 0it [00:00, ?it/s]"
      ]
     },
     "metadata": {},
     "output_type": "display_data"
    },
    {
     "data": {
      "application/vnd.jupyter.widget-view+json": {
       "model_id": "",
       "version_major": 2,
       "version_minor": 0
      },
      "text/plain": [
       "Validation: 0it [00:00, ?it/s]"
      ]
     },
     "metadata": {},
     "output_type": "display_data"
    },
    {
     "data": {
      "application/vnd.jupyter.widget-view+json": {
       "model_id": "",
       "version_major": 2,
       "version_minor": 0
      },
      "text/plain": [
       "Validation: 0it [00:00, ?it/s]"
      ]
     },
     "metadata": {},
     "output_type": "display_data"
    },
    {
     "data": {
      "application/vnd.jupyter.widget-view+json": {
       "model_id": "",
       "version_major": 2,
       "version_minor": 0
      },
      "text/plain": [
       "Validation: 0it [00:00, ?it/s]"
      ]
     },
     "metadata": {},
     "output_type": "display_data"
    },
    {
     "data": {
      "application/vnd.jupyter.widget-view+json": {
       "model_id": "",
       "version_major": 2,
       "version_minor": 0
      },
      "text/plain": [
       "Validation: 0it [00:00, ?it/s]"
      ]
     },
     "metadata": {},
     "output_type": "display_data"
    },
    {
     "data": {
      "application/vnd.jupyter.widget-view+json": {
       "model_id": "",
       "version_major": 2,
       "version_minor": 0
      },
      "text/plain": [
       "Validation: 0it [00:00, ?it/s]"
      ]
     },
     "metadata": {},
     "output_type": "display_data"
    },
    {
     "data": {
      "application/vnd.jupyter.widget-view+json": {
       "model_id": "",
       "version_major": 2,
       "version_minor": 0
      },
      "text/plain": [
       "Validation: 0it [00:00, ?it/s]"
      ]
     },
     "metadata": {},
     "output_type": "display_data"
    },
    {
     "data": {
      "application/vnd.jupyter.widget-view+json": {
       "model_id": "",
       "version_major": 2,
       "version_minor": 0
      },
      "text/plain": [
       "Validation: 0it [00:00, ?it/s]"
      ]
     },
     "metadata": {},
     "output_type": "display_data"
    },
    {
     "data": {
      "application/vnd.jupyter.widget-view+json": {
       "model_id": "",
       "version_major": 2,
       "version_minor": 0
      },
      "text/plain": [
       "Validation: 0it [00:00, ?it/s]"
      ]
     },
     "metadata": {},
     "output_type": "display_data"
    },
    {
     "data": {
      "application/vnd.jupyter.widget-view+json": {
       "model_id": "",
       "version_major": 2,
       "version_minor": 0
      },
      "text/plain": [
       "Validation: 0it [00:00, ?it/s]"
      ]
     },
     "metadata": {},
     "output_type": "display_data"
    },
    {
     "data": {
      "application/vnd.jupyter.widget-view+json": {
       "model_id": "",
       "version_major": 2,
       "version_minor": 0
      },
      "text/plain": [
       "Validation: 0it [00:00, ?it/s]"
      ]
     },
     "metadata": {},
     "output_type": "display_data"
    },
    {
     "name": "stderr",
     "output_type": "stream",
     "text": [
      "`Trainer.fit` stopped: `max_epochs=10` reached.\n",
      "You are using a CUDA device ('NVIDIA GeForce RTX 3090') that has Tensor Cores. To properly utilize them, you should set `torch.set_float32_matmul_precision('medium' | 'high')` which will trade-off precision for performance. For more details, read https://pytorch.org/docs/stable/generated/torch.set_float32_matmul_precision.html#torch.set_float32_matmul_precision\n",
      "LOCAL_RANK: 0 - CUDA_VISIBLE_DEVICES: [0,1]\n"
     ]
    },
    {
     "data": {
      "application/vnd.jupyter.widget-view+json": {
       "model_id": "82da4ee6e39b40dbb16e935565524856",
       "version_major": 2,
       "version_minor": 0
      },
      "text/plain": [
       "Predicting: 0it [00:00, ?it/s]"
      ]
     },
     "metadata": {},
     "output_type": "display_data"
    }
   ],
   "source": [
    "checked = {\n",
    "    \"seed\": [3],  # 3, 7, 13, 42, 100\n",
    "    \"features\": [\n",
    "        # (\"sequence\", \"revcomp\", \"intensity\", \"positional\", \"conditions\"),\n",
    "        (\"sequence\", \"positional\", \"conditions\"),\n",
    "    ],\n",
    "    \"augment_dict\": [\n",
    "        dict(\n",
    "            extend_left=0,\n",
    "            extend_right=0,\n",
    "            shift_left=0,\n",
    "            shift_right=0,\n",
    "            revcomp=False,\n",
    "        ),\n",
    "    ],\n",
    "    \"epochs\": [10],\n",
    "    # \"task_loss\": [\n",
    "    #     (\"soft_classification\", nn.CrossEntropyLoss),\n",
    "    #     (\"soft_regression\", nn.MSELoss),\n",
    "    #     (\"regression\", nn.MSELoss),\n",
    "    # ]\n",
    "}\n",
    "\n",
    "for subset in itertools.product(\n",
    "    *checked.values()\n",
    "):\n",
    "    PARAMS = dict(zip(checked.keys(), subset))\n",
    "    AUGMENT_KEY = any(PARAMS[\"augment_dict\"].values())\n",
    "    AUGMENT_TEST_TIME = AUGMENT_KEY\n",
    "\n",
    "    trainer_last, prediction_best_last = launch_model(\n",
    "        seed=PARAMS[\"seed\"],\n",
    "        train_ds_kws=dict(\n",
    "            construct_type=\"utr3\",\n",
    "            features=PARAMS[\"features\"],  # (\"sequence\", \"conditions\", \"positional\", \"revcomp\")\n",
    "            augment=AUGMENT_KEY,\n",
    "            augment_test_time=False,\n",
    "            augment_kws=PARAMS[\"augment_dict\"],\n",
    "        ),\n",
    "        val_ds_kws=dict(\n",
    "            construct_type=\"utr3\",\n",
    "            features=PARAMS[\"features\"],  # (\"sequence\", \"conditions\", \"positional\", \"revcomp\")\n",
    "            augment=False,\n",
    "            augment_test_time=AUGMENT_TEST_TIME,\n",
    "            augment_kws=PARAMS[\"augment_dict\"],\n",
    "        ),\n",
    "        model_class=LegNetClassifier,\n",
    "        model_kws=dict(\n",
    "            seqsize=50,\n",
    "            in_channels=4,  # IS REPLACED\n",
    "            ks=3,\n",
    "            out_channels=2,\n",
    "            conv_sizes=(128, 64, 64, 32, 32),\n",
    "            mapper_size=256,\n",
    "            linear_sizes=None,\n",
    "            use_max_pooling=False,\n",
    "            final_activation=nn.Identity\n",
    "        ),\n",
    "        criterion_class=nn.MSELoss,\n",
    "        criterion_kws=dict(),\n",
    "        optimizer_class=torch.optim.AdamW,\n",
    "        optimizer_kws=dict(\n",
    "            # lr=0.01,\n",
    "            weight_decay=0.1,\n",
    "        ),\n",
    "        lr_scheduler_class=torch.optim.lr_scheduler.OneCycleLR,\n",
    "        lr_scheduler_kws=dict(\n",
    "            max_lr=0.01,\n",
    "            steps_per_epoch=steps_per_epoch,\n",
    "            epochs=PARAMS[\"epochs\"],\n",
    "            pct_start=0.3,\n",
    "            three_phase=False,\n",
    "            cycle_momentum=True,\n",
    "        ),\n",
    "        test_time_validation=AUGMENT_TEST_TIME,\n",
    "        epochs=PARAMS[\"epochs\"],\n",
    "    )"
   ]
  },
  {
   "cell_type": "markdown",
   "id": "cadfb347-3d1e-4531-843b-6844f3f73078",
   "metadata": {},
   "source": [
    "## Launching model"
   ]
  },
  {
   "cell_type": "code",
   "execution_count": null,
   "id": "b110ba52-244b-4d2e-95a5-b4cc128a7ca2",
   "metadata": {
    "tags": []
   },
   "outputs": [],
   "source": [
    "plt.figure(figsize=(12, 8))\n",
    "\n",
    "rows = 2\n",
    "cols = 3\n",
    "\n",
    "x = \"mass_center\"\n",
    "y = \"pred_1\"\n",
    "\n",
    "ax = plt.subplot(rows, cols, 1)\n",
    "r = ss.pearsonr(prediction_best_last[x], prediction_best_last[y]).statistic\n",
    "plt.scatter(prediction_best_last[x], prediction_best_last[y], color=\"C4\", marker=\".\", alpha=0.05)\n",
    "plt.text(0.1, 0.9, f\"r = {r:.04f}\", color=\"C3\", transform=ax.transAxes)\n",
    "plt.title(\"All cell lines\")\n",
    "plt.ylabel(\"Predicted bin mass center\")\n",
    "\n",
    "for i, (ct, ctdf) in enumerate(prediction_best_last.groupby(by=\"cell_type\"), 2):\n",
    "    r = ss.pearsonr(ctdf[x], ctdf[y]).statistic\n",
    "    ax = plt.subplot(rows, cols, i)\n",
    "    plt.scatter(ctdf[x], ctdf[y], color=\"C0\", marker=\".\", alpha=0.1)\n",
    "    plt.text(0.1, 0.9, f\"$r_1$ = {r:.04f}\", transform=ax.transAxes)\n",
    "    plt.title(f\"Cell line: {ct}\")\n",
    "    if (i - 1) // cols == rows - 1:\n",
    "        plt.xlabel(\"Real bin mass center\")\n",
    "    if i % cols == 1:\n",
    "        plt.ylabel(\"Predicted bin mass center\")\n",
    "plt.tight_layout()\n",
    "\n",
    "plt.suptitle(PATH_FROM)\n",
    "plt.tight_layout()\n",
    "plt.show()"
   ]
  },
  {
   "cell_type": "code",
   "execution_count": null,
   "id": "7ccfdfdf-82d8-4812-85e5-60ae34ba8ebc",
   "metadata": {
    "tags": []
   },
   "outputs": [],
   "source": [
    "plt.figure(figsize=(12, 8))\n",
    "\n",
    "rows = 2\n",
    "cols = 3\n",
    "\n",
    "x = \"real_0\"\n",
    "y = \"pred_0\"\n",
    "\n",
    "ax = plt.subplot(rows, cols, 1)\n",
    "r = ss.pearsonr(prediction_best_last[x], prediction_best_last[y]).statistic\n",
    "plt.scatter(prediction_best_last[x], prediction_best_last[y], color=\"C4\", marker=\".\", alpha=0.05)\n",
    "plt.text(0.1, 0.9, f\"r = {r:.04f}\", color=\"C3\", transform=ax.transAxes)\n",
    "plt.title(\"All cell lines\")\n",
    "# plt.ylabel(\"Predicted bin mass center\")\n",
    "\n",
    "for i, (ct, ctdf) in enumerate(prediction_best_last.groupby(by=\"cell_type\"), 2):\n",
    "    r = ss.pearsonr(ctdf[x], ctdf[y]).statistic\n",
    "    ax = plt.subplot(rows, cols, i)\n",
    "    sns.scatterplot(x=ctdf[x], y=ctdf[y], color=\"C0\", marker=\".\", alpha=0.5)\n",
    "    plt.text(0.1, 0.85, f\"$r_1$ = {r:.04f}\", transform=ax.transAxes)\n",
    "    plt.title(f\"Cell line: {ct}\")\n",
    "    # if (i - 1) // cols == rows - 1:\n",
    "    #     plt.xlabel(\"Real bin mass center\")\n",
    "    # if i % cols == 1:\n",
    "    #     plt.ylabel(\"Predicted bin mass center\")\n",
    "plt.tight_layout()\n",
    "\n",
    "plt.suptitle(PATH_FROM)\n",
    "plt.tight_layout()\n",
    "plt.show()"
   ]
  },
  {
   "cell_type": "code",
   "execution_count": null,
   "id": "13a7c59b-a793-48ca-9ef3-bc1d3de25328",
   "metadata": {
    "tags": []
   },
   "outputs": [],
   "source": [
    "plt.figure(figsize=(12, 8))\n",
    "\n",
    "rows = 2\n",
    "cols = 3\n",
    "\n",
    "x = \"real_0\"\n",
    "y = \"pred_0\"\n",
    "\n",
    "ax = plt.subplot(rows, cols, 1)\n",
    "r = ss.pearsonr(prediction_best_last[x], prediction_best_last[y]).statistic\n",
    "plt.scatter(prediction_best_last[x], prediction_best_last[y], color=\"C4\", marker=\".\", alpha=0.05)\n",
    "plt.text(0.1, 0.9, f\"r = {r:.04f}\", color=\"C3\", transform=ax.transAxes)\n",
    "plt.title(\"All cell lines\")\n",
    "# plt.ylabel(\"Predicted bin mass center\")\n",
    "\n",
    "for i, (ct, ctdf) in enumerate(prediction_best_last.groupby(by=\"cell_type\"), 2):\n",
    "    xx = ctdf.groupby(\"seq\")[x].mean()\n",
    "    yy = ctdf.groupby(\"seq\")[y].mean()\n",
    "    r = ss.pearsonr(xx, yy).statistic\n",
    "    ax = plt.subplot(rows, cols, i)\n",
    "    plt.scatter(x=xx, y=yy, color=\"C0\", marker=\".\", alpha=0.25)\n",
    "    plt.text(0.1, 0.85, f\"$r_1$ = {r:.04f}\", transform=ax.transAxes)\n",
    "    plt.title(f\"Cell line: {ct}\")\n",
    "    # if (i - 1) // cols == rows - 1:\n",
    "    #     plt.xlabel(\"Real bin mass center\")\n",
    "    # if i % cols == 1:\n",
    "    #     plt.ylabel(\"Predicted bin mass center\")\n",
    "plt.tight_layout()\n",
    "\n",
    "plt.suptitle(PATH_FROM)\n",
    "plt.tight_layout()\n",
    "plt.show()"
   ]
  },
  {
   "cell_type": "markdown",
   "id": "829e1e23",
   "metadata": {},
   "source": [
    "---"
   ]
  }
 ],
 "metadata": {
  "kernelspec": {
   "display_name": "Python [conda env:ml]",
   "language": "python",
   "name": "conda-env-ml-py"
  },
  "language_info": {
   "codemirror_mode": {
    "name": "ipython",
    "version": 3
   },
   "file_extension": ".py",
   "mimetype": "text/x-python",
   "name": "python",
   "nbconvert_exporter": "python",
   "pygments_lexer": "ipython3",
   "version": "3.11.3"
  },
  "vscode": {
   "interpreter": {
    "hash": "64b0dffe91cf8f88d3a84eea1f79c78b7512619aa8cb3e6f3df2fb7199efc743"
   }
  }
 },
 "nbformat": 4,
 "nbformat_minor": 5
}

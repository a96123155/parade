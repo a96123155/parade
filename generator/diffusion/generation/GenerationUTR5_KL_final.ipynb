{
 "cells": [
  {
   "cell_type": "code",
   "execution_count": 1,
   "id": "6d1164c7-feae-4e0e-a1fa-874988d20334",
   "metadata": {
    "execution": {
     "iopub.execute_input": "2023-07-28T06:45:50.087714Z",
     "iopub.status.busy": "2023-07-28T06:45:50.086701Z",
     "iopub.status.idle": "2023-07-28T06:45:50.101053Z",
     "shell.execute_reply": "2023-07-28T06:45:50.099897Z",
     "shell.execute_reply.started": "2023-07-28T06:45:50.087659Z"
    },
    "tags": []
   },
   "outputs": [],
   "source": [
    "import os\n",
    "\n",
    "os.environ[\"OMP_NUM_THREADS\"] = \"20\" "
   ]
  },
  {
   "cell_type": "code",
   "execution_count": 2,
   "id": "0414a861",
   "metadata": {
    "execution": {
     "iopub.execute_input": "2023-07-28T06:45:51.058493Z",
     "iopub.status.busy": "2023-07-28T06:45:51.057891Z",
     "iopub.status.idle": "2023-07-28T06:45:53.215715Z",
     "shell.execute_reply": "2023-07-28T06:45:53.214720Z",
     "shell.execute_reply.started": "2023-07-28T06:45:51.058443Z"
    },
    "tags": []
   },
   "outputs": [],
   "source": [
    "import pandas as pd\n",
    "import numpy as np\n",
    "import seaborn as sns\n",
    "import matplotlib\n",
    "\n",
    "from tqdm.auto import tqdm as tqdm_auto\n",
    "from tqdm.notebook import tqdm\n",
    "\n",
    "import matplotlib.pyplot as plt\n",
    "import importlib\n",
    "from scipy import stats \n",
    "\n",
    "import torch\n",
    "import torch.cuda\n",
    "from torch.utils.data import DataLoader\n",
    "import torch.nn as nn\n",
    "import torch.nn.functional as F \n",
    "import pytorch_lightning as pl\n",
    "\n",
    "import matplotlib.colors as clr"
   ]
  },
  {
   "cell_type": "code",
   "execution_count": 3,
   "id": "4408ed90",
   "metadata": {
    "execution": {
     "iopub.execute_input": "2023-07-28T06:45:54.521989Z",
     "iopub.status.busy": "2023-07-28T06:45:54.520993Z",
     "iopub.status.idle": "2023-07-28T06:45:54.532179Z",
     "shell.execute_reply": "2023-07-28T06:45:54.530829Z",
     "shell.execute_reply.started": "2023-07-28T06:45:54.521939Z"
    },
    "tags": []
   },
   "outputs": [],
   "source": [
    "import dataset_regressiondiffusion as dataset\n",
    "importlib.reload(dataset)\n",
    "\n",
    "\n",
    "from lit_regressor import RNARegressor\n",
    "import legnet_difgenerator\n",
    "import legnet_classifier"
   ]
  },
  {
   "cell_type": "code",
   "execution_count": 4,
   "id": "a4537fbb-0ce5-4f46-bfae-f57004feebcf",
   "metadata": {
    "execution": {
     "iopub.execute_input": "2023-07-28T06:45:56.537607Z",
     "iopub.status.busy": "2023-07-28T06:45:56.536728Z",
     "iopub.status.idle": "2023-07-28T06:45:56.545511Z",
     "shell.execute_reply": "2023-07-28T06:45:56.544424Z",
     "shell.execute_reply.started": "2023-07-28T06:45:56.537552Z"
    },
    "tags": []
   },
   "outputs": [],
   "source": [
    "batch_size = 4*1024\n",
    "num_workers = 8\n",
    "batch_per_epoch = 1\n",
    "device= torch.device('cuda:0')\n",
    "CELL_TYPE_FILTER = 'c6'\n",
    "SEQ_LEN = 50 # UTR5, if UTR3 -> 240\n",
    "epoch = 139\n",
    "np.random.seed(seed=42)\n",
    "num = 1\n"
   ]
  },
  {
   "cell_type": "code",
   "execution_count": 5,
   "id": "8fe17419-01e4-4ac1-9010-f069c1412092",
   "metadata": {
    "execution": {
     "iopub.execute_input": "2023-07-28T06:45:56.896945Z",
     "iopub.status.busy": "2023-07-28T06:45:56.896446Z",
     "iopub.status.idle": "2023-07-28T06:45:57.173237Z",
     "shell.execute_reply": "2023-07-28T06:45:57.172415Z",
     "shell.execute_reply.started": "2023-07-28T06:45:56.896905Z"
    },
    "tags": []
   },
   "outputs": [],
   "source": [
    "PATH_FROM = '../../../data/UTR5_zinb_norm_singleref_2023-05-23.csv'\n",
    "df = pd.read_csv(PATH_FROM)\n",
    "\n",
    "df = df[df.cell_type == CELL_TYPE_FILTER].reset_index(drop=True)\n",
    "scores = (df['1']*1+df['2']*2+df['3']*3+df['4']*4) / df[['1', '2', '3', '4']].sum(axis=1)\n",
    "df['mass_center'] = scores"
   ]
  },
  {
   "cell_type": "code",
   "execution_count": 6,
   "id": "246c4278-41d5-44cc-8b66-dc8f017e656c",
   "metadata": {
    "execution": {
     "iopub.execute_input": "2023-07-28T06:45:57.269871Z",
     "iopub.status.busy": "2023-07-28T06:45:57.268747Z",
     "iopub.status.idle": "2023-07-28T06:45:57.438998Z",
     "shell.execute_reply": "2023-07-28T06:45:57.437914Z",
     "shell.execute_reply.started": "2023-07-28T06:45:57.269826Z"
    },
    "tags": []
   },
   "outputs": [],
   "source": [
    "df['A'] = df[\"seq\"].str.count('A')/SEQ_LEN\n",
    "df['C'] = df[\"seq\"].str.count('C')/SEQ_LEN\n",
    "df['G'] = df[\"seq\"].str.count('G')/SEQ_LEN\n",
    "df['T'] = df[\"seq\"].str.count('T')/SEQ_LEN\n",
    "\n",
    "subdf = df.sort_values(by='mass_center', ascending = True).reset_index(drop=True)\n",
    "subdf = subdf.drop(['1','2','3','4'], axis=1)\n"
   ]
  },
  {
   "cell_type": "code",
   "execution_count": 7,
   "id": "7419e0d3-fe0d-4dd7-a07d-c64129325f57",
   "metadata": {
    "execution": {
     "iopub.execute_input": "2023-07-28T06:45:57.585957Z",
     "iopub.status.busy": "2023-07-28T06:45:57.585706Z",
     "iopub.status.idle": "2023-07-28T06:45:57.604526Z",
     "shell.execute_reply": "2023-07-28T06:45:57.603855Z",
     "shell.execute_reply.started": "2023-07-28T06:45:57.585936Z"
    },
    "tags": []
   },
   "outputs": [
    {
     "data": {
      "text/html": [
       "<div>\n",
       "<style scoped>\n",
       "    .dataframe tbody tr th:only-of-type {\n",
       "        vertical-align: middle;\n",
       "    }\n",
       "\n",
       "    .dataframe tbody tr th {\n",
       "        vertical-align: top;\n",
       "    }\n",
       "\n",
       "    .dataframe thead th {\n",
       "        text-align: right;\n",
       "    }\n",
       "</style>\n",
       "<table border=\"1\" class=\"dataframe\">\n",
       "  <thead>\n",
       "    <tr style=\"text-align: right;\">\n",
       "      <th></th>\n",
       "      <th>seq</th>\n",
       "      <th>cell_type</th>\n",
       "      <th>replicate</th>\n",
       "      <th>fold</th>\n",
       "      <th>mass_center</th>\n",
       "      <th>A</th>\n",
       "      <th>C</th>\n",
       "      <th>G</th>\n",
       "      <th>T</th>\n",
       "    </tr>\n",
       "  </thead>\n",
       "  <tbody>\n",
       "    <tr>\n",
       "      <th>0</th>\n",
       "      <td>GCCCGTAAGATGCTCTGACCTTTGACCCCTGCCGTTCAGCTCTAGG...</td>\n",
       "      <td>c6</td>\n",
       "      <td>2</td>\n",
       "      <td>test</td>\n",
       "      <td>1.540099</td>\n",
       "      <td>0.14</td>\n",
       "      <td>0.38</td>\n",
       "      <td>0.24</td>\n",
       "      <td>0.24</td>\n",
       "    </tr>\n",
       "    <tr>\n",
       "      <th>1</th>\n",
       "      <td>ACACAAATAAACCCCTGGACCCCCTTGTTCCCTCAGCTCTAAGGGC...</td>\n",
       "      <td>c6</td>\n",
       "      <td>2</td>\n",
       "      <td>test</td>\n",
       "      <td>1.558744</td>\n",
       "      <td>0.24</td>\n",
       "      <td>0.40</td>\n",
       "      <td>0.18</td>\n",
       "      <td>0.18</td>\n",
       "    </tr>\n",
       "    <tr>\n",
       "      <th>2</th>\n",
       "      <td>GTGCCACTGCTCAACAGTGAGTGACGTCATGGGCACGGCCAGGTCT...</td>\n",
       "      <td>c6</td>\n",
       "      <td>2</td>\n",
       "      <td>train</td>\n",
       "      <td>1.635900</td>\n",
       "      <td>0.20</td>\n",
       "      <td>0.26</td>\n",
       "      <td>0.30</td>\n",
       "      <td>0.24</td>\n",
       "    </tr>\n",
       "    <tr>\n",
       "      <th>3</th>\n",
       "      <td>TACAGGCCCTATTCCAGGCCCTATGGCCTGTGGAACCTCACCACGG...</td>\n",
       "      <td>c6</td>\n",
       "      <td>2</td>\n",
       "      <td>train</td>\n",
       "      <td>1.648169</td>\n",
       "      <td>0.18</td>\n",
       "      <td>0.34</td>\n",
       "      <td>0.30</td>\n",
       "      <td>0.18</td>\n",
       "    </tr>\n",
       "    <tr>\n",
       "      <th>4</th>\n",
       "      <td>CCCGGGGCCCGCCGCAGGTCGGGTGGCTCAGCCATGGCTCCTCGGG...</td>\n",
       "      <td>c6</td>\n",
       "      <td>1</td>\n",
       "      <td>train</td>\n",
       "      <td>1.663258</td>\n",
       "      <td>0.06</td>\n",
       "      <td>0.40</td>\n",
       "      <td>0.42</td>\n",
       "      <td>0.12</td>\n",
       "    </tr>\n",
       "    <tr>\n",
       "      <th>...</th>\n",
       "      <td>...</td>\n",
       "      <td>...</td>\n",
       "      <td>...</td>\n",
       "      <td>...</td>\n",
       "      <td>...</td>\n",
       "      <td>...</td>\n",
       "      <td>...</td>\n",
       "      <td>...</td>\n",
       "      <td>...</td>\n",
       "    </tr>\n",
       "    <tr>\n",
       "      <th>43213</th>\n",
       "      <td>CGGCGGGCGGCGGGGACCGGGTGCGGTGGTGGCTGCGGCGGCGGCG...</td>\n",
       "      <td>c6</td>\n",
       "      <td>2</td>\n",
       "      <td>train</td>\n",
       "      <td>3.174427</td>\n",
       "      <td>0.02</td>\n",
       "      <td>0.26</td>\n",
       "      <td>0.64</td>\n",
       "      <td>0.08</td>\n",
       "    </tr>\n",
       "    <tr>\n",
       "      <th>43214</th>\n",
       "      <td>CGGCAGCGGCACAGCGAGGTCGGCAGCGGCAGCGAGGTCGGCAGCG...</td>\n",
       "      <td>c6</td>\n",
       "      <td>1</td>\n",
       "      <td>train</td>\n",
       "      <td>3.178135</td>\n",
       "      <td>0.18</td>\n",
       "      <td>0.32</td>\n",
       "      <td>0.46</td>\n",
       "      <td>0.04</td>\n",
       "    </tr>\n",
       "    <tr>\n",
       "      <th>43215</th>\n",
       "      <td>GAGAACAGGGGGCGCCTGGCCAAGGGACCAGCGGCTTGCTGAGACT...</td>\n",
       "      <td>c6</td>\n",
       "      <td>1</td>\n",
       "      <td>train</td>\n",
       "      <td>3.242883</td>\n",
       "      <td>0.24</td>\n",
       "      <td>0.28</td>\n",
       "      <td>0.38</td>\n",
       "      <td>0.10</td>\n",
       "    </tr>\n",
       "    <tr>\n",
       "      <th>43216</th>\n",
       "      <td>CCTCGCTTTCTCTGTCTCTCTGTCTCTCTCTCTCTCTCTCCCTCGT...</td>\n",
       "      <td>c6</td>\n",
       "      <td>1</td>\n",
       "      <td>train</td>\n",
       "      <td>3.324971</td>\n",
       "      <td>0.02</td>\n",
       "      <td>0.48</td>\n",
       "      <td>0.08</td>\n",
       "      <td>0.42</td>\n",
       "    </tr>\n",
       "    <tr>\n",
       "      <th>43217</th>\n",
       "      <td>GCGGCTGCGAGGTGGCGGGGCGCCCCGCCTGCAGAACCCTGCTTGC...</td>\n",
       "      <td>c6</td>\n",
       "      <td>1</td>\n",
       "      <td>train</td>\n",
       "      <td>3.556534</td>\n",
       "      <td>0.10</td>\n",
       "      <td>0.36</td>\n",
       "      <td>0.40</td>\n",
       "      <td>0.14</td>\n",
       "    </tr>\n",
       "  </tbody>\n",
       "</table>\n",
       "<p>43218 rows × 9 columns</p>\n",
       "</div>"
      ],
      "text/plain": [
       "                                                     seq cell_type  replicate  \\\n",
       "0      GCCCGTAAGATGCTCTGACCTTTGACCCCTGCCGTTCAGCTCTAGG...        c6          2   \n",
       "1      ACACAAATAAACCCCTGGACCCCCTTGTTCCCTCAGCTCTAAGGGC...        c6          2   \n",
       "2      GTGCCACTGCTCAACAGTGAGTGACGTCATGGGCACGGCCAGGTCT...        c6          2   \n",
       "3      TACAGGCCCTATTCCAGGCCCTATGGCCTGTGGAACCTCACCACGG...        c6          2   \n",
       "4      CCCGGGGCCCGCCGCAGGTCGGGTGGCTCAGCCATGGCTCCTCGGG...        c6          1   \n",
       "...                                                  ...       ...        ...   \n",
       "43213  CGGCGGGCGGCGGGGACCGGGTGCGGTGGTGGCTGCGGCGGCGGCG...        c6          2   \n",
       "43214  CGGCAGCGGCACAGCGAGGTCGGCAGCGGCAGCGAGGTCGGCAGCG...        c6          1   \n",
       "43215  GAGAACAGGGGGCGCCTGGCCAAGGGACCAGCGGCTTGCTGAGACT...        c6          1   \n",
       "43216  CCTCGCTTTCTCTGTCTCTCTGTCTCTCTCTCTCTCTCTCCCTCGT...        c6          1   \n",
       "43217  GCGGCTGCGAGGTGGCGGGGCGCCCCGCCTGCAGAACCCTGCTTGC...        c6          1   \n",
       "\n",
       "        fold  mass_center     A     C     G     T  \n",
       "0       test     1.540099  0.14  0.38  0.24  0.24  \n",
       "1       test     1.558744  0.24  0.40  0.18  0.18  \n",
       "2      train     1.635900  0.20  0.26  0.30  0.24  \n",
       "3      train     1.648169  0.18  0.34  0.30  0.18  \n",
       "4      train     1.663258  0.06  0.40  0.42  0.12  \n",
       "...      ...          ...   ...   ...   ...   ...  \n",
       "43213  train     3.174427  0.02  0.26  0.64  0.08  \n",
       "43214  train     3.178135  0.18  0.32  0.46  0.04  \n",
       "43215  train     3.242883  0.24  0.28  0.38  0.10  \n",
       "43216  train     3.324971  0.02  0.48  0.08  0.42  \n",
       "43217  train     3.556534  0.10  0.36  0.40  0.14  \n",
       "\n",
       "[43218 rows x 9 columns]"
      ]
     },
     "execution_count": 7,
     "metadata": {},
     "output_type": "execute_result"
    }
   ],
   "source": [
    "subdf"
   ]
  },
  {
   "cell_type": "code",
   "execution_count": 8,
   "id": "e429a96f-005d-42cf-8415-aba37416f987",
   "metadata": {
    "execution": {
     "iopub.execute_input": "2023-07-28T06:45:57.901341Z",
     "iopub.status.busy": "2023-07-28T06:45:57.899929Z",
     "iopub.status.idle": "2023-07-28T06:45:57.908168Z",
     "shell.execute_reply": "2023-07-28T06:45:57.906826Z",
     "shell.execute_reply.started": "2023-07-28T06:45:57.901285Z"
    },
    "tags": []
   },
   "outputs": [],
   "source": [
    "CODES = {\n",
    "    0:\"A\",\n",
    "    1:\"C\",\n",
    "    2:\"G\",\n",
    "    3:\"T\",\n",
    "    4:\"N\",\n",
    "}\n",
    "\n",
    "def id2n(n):\n",
    "    return CODES[n]\n"
   ]
  },
  {
   "cell_type": "code",
   "execution_count": 9,
   "id": "11ad3999-4741-4e7c-bcda-68b7f8d75563",
   "metadata": {
    "execution": {
     "iopub.execute_input": "2023-07-28T06:45:58.272687Z",
     "iopub.status.busy": "2023-07-28T06:45:58.272469Z",
     "iopub.status.idle": "2023-07-28T06:45:58.278939Z",
     "shell.execute_reply": "2023-07-28T06:45:58.278091Z",
     "shell.execute_reply.started": "2023-07-28T06:45:58.272668Z"
    },
    "tags": []
   },
   "outputs": [],
   "source": [
    "def gen_random_seqs(num, lengh, cell_type):\n",
    "    np.random.seed(7)\n",
    "    seqs = [''.join(i) for i in np.random.choice(['A', 'C', 'G', 'T'], size=(num, lengh)).tolist()]\n",
    "    cell_type = np.full((num,), cell_type).tolist()\n",
    "    fold = np.full((num, ), 'val').tolist()\n",
    "    count = np.full((num, ), 1).tolist()\n",
    "    replicates = np.full((num, ), 1).tolist()\n",
    "    score = np.random.uniform(1.5,3.5,num)\n",
    "    random_df = pd.DataFrame({'seq': seqs, 'cell_type': cell_type, 'fold' :fold,'replicate' :replicates, '1':count, '2':count, '3':count, '4':count, 'mass_center': score})\n",
    "    return random_df\n"
   ]
  },
  {
   "cell_type": "code",
   "execution_count": 10,
   "id": "a98d5aa3-098e-4b18-8a76-c4c842c6311d",
   "metadata": {
    "execution": {
     "iopub.execute_input": "2023-07-28T06:46:03.345396Z",
     "iopub.status.busy": "2023-07-28T06:46:03.344553Z",
     "iopub.status.idle": "2023-07-28T06:46:07.933414Z",
     "shell.execute_reply": "2023-07-28T06:46:07.932031Z",
     "shell.execute_reply.started": "2023-07-28T06:46:03.345341Z"
    },
    "tags": []
   },
   "outputs": [],
   "source": [
    "random_df = gen_random_seqs(1024*1000, SEQ_LEN, CELL_TYPE_FILTER)\n",
    "random_df = dataset.PromotersData(random_df)"
   ]
  },
  {
   "cell_type": "code",
   "execution_count": 11,
   "id": "6b965b71",
   "metadata": {
    "execution": {
     "iopub.execute_input": "2023-07-28T06:46:07.935212Z",
     "iopub.status.busy": "2023-07-28T06:46:07.934970Z",
     "iopub.status.idle": "2023-07-28T06:46:09.271792Z",
     "shell.execute_reply": "2023-07-28T06:46:09.270912Z",
     "shell.execute_reply.started": "2023-07-28T06:46:07.935190Z"
    },
    "tags": []
   },
   "outputs": [],
   "source": [
    "legnet_generator_path = f'../train/saved_model/utr5/model_epochs_150_cell_type_{CELL_TYPE_FILTER}_{num}/model_{epoch}.pth'\n",
    "\n",
    "difussion_model = legnet_difgenerator.LegNet_diffusion(50,\n",
    "                ks=7,\n",
    "                block_sizes=[256, 128, 128, 64, 64, 64, 64],\n",
    "                final_ch=4).to(device)\n",
    "\n",
    "difussion_model.load_state_dict(torch.load(legnet_generator_path, map_location=device)['model_state_dict'])\n",
    "difussion_model.requires_grad_ = False"
   ]
  },
  {
   "cell_type": "code",
   "execution_count": 12,
   "id": "3484be1b",
   "metadata": {
    "execution": {
     "iopub.execute_input": "2023-07-28T06:46:09.272867Z",
     "iopub.status.busy": "2023-07-28T06:46:09.272678Z",
     "iopub.status.idle": "2023-07-28T06:46:09.310646Z",
     "shell.execute_reply": "2023-07-28T06:46:09.309909Z",
     "shell.execute_reply.started": "2023-07-28T06:46:09.272852Z"
    },
    "tags": []
   },
   "outputs": [],
   "source": [
    "PATH = '../../../../regression_multiple/model_validation/model-utr5-deltas-epoch=9-step=840.ckpt'\n",
    "predictor = RNARegressor.load_from_checkpoint(PATH, map_location='cpu')"
   ]
  },
  {
   "cell_type": "code",
   "execution_count": 13,
   "id": "45dabc4f",
   "metadata": {
    "execution": {
     "iopub.execute_input": "2023-07-28T06:46:10.174475Z",
     "iopub.status.busy": "2023-07-28T06:46:10.173855Z",
     "iopub.status.idle": "2023-07-28T06:46:10.253242Z",
     "shell.execute_reply": "2023-07-28T06:46:10.252326Z",
     "shell.execute_reply.started": "2023-07-28T06:46:10.174423Z"
    },
    "tags": []
   },
   "outputs": [],
   "source": [
    "all_size = random_df.data.shape[0]\n",
    "test_size = 1024*1000\n",
    "train_size = all_size-test_size\n",
    "train_set, val_set = torch.utils.data.random_split(random_df, [train_size, test_size])\n",
    "\n",
    "dl_test = DataLoader(val_set,\n",
    "                     batch_size=batch_size,\n",
    "                     num_workers=num_workers,\n",
    "                     shuffle=False,\n",
    "                     worker_init_fn = lambda id: np.random.seed(id)\n",
    "                    )"
   ]
  },
  {
   "cell_type": "code",
   "execution_count": 14,
   "id": "073263c8-c4c2-469a-bc5f-b98de5b5f57a",
   "metadata": {
    "execution": {
     "iopub.execute_input": "2023-07-28T06:46:11.140831Z",
     "iopub.status.busy": "2023-07-28T06:46:11.140020Z",
     "iopub.status.idle": "2023-07-28T06:46:11.164584Z",
     "shell.execute_reply": "2023-07-28T06:46:11.163578Z",
     "shell.execute_reply.started": "2023-07-28T06:46:11.140775Z"
    },
    "tags": []
   },
   "outputs": [],
   "source": [
    "# Draw raw correlation plot\n",
    "def correlation_plot(pred_df, mode_comment, set_seq, epoch):\n",
    "    plt.figure(frameon=False, figsize=(8,6))\n",
    "    mse = ((pred_df.mass_center - pred_df.pred_score) ** 2).mean()\n",
    "    rmse = ((pred_df.mass_center - pred_df.pred_score) ** 2).mean() ** 0.5\n",
    "    # plt.scatter(pred_score, given_expression, alpha=0.1)\n",
    "    # plt.axline((2.5, 2.5), slope=1, color='k')\n",
    "    # plt.title(f'{cell_type_filter}')\n",
    "    g = sns.jointplot(data=pred_df, x=\"pred_score\", y=\"mass_center\", kind=\"hex\", xlim = (1.8,3))\n",
    "    g.fig.suptitle(f'{CELL_TYPE_FILTER}, 5UTR')\n",
    "\n",
    "    # Draw a line of x=y \n",
    "    x0, x1 = g.ax_joint.get_xlim()\n",
    "    y0, y1 = g.ax_joint.get_ylim()\n",
    "    lims = [max(x0, y0), min(x1, y1)]\n",
    "    g.ax_joint.plot(lims, lims, '-k')   \n",
    "    \n",
    "    Sp_cor = round(stats.spearmanr(pred_df.mass_center, pred_df.pred_score)[0], 3)\n",
    "    P_cor= round(stats.pearsonr(pred_df.mass_center, pred_df.pred_score)[0], 3)\n",
    "    g.fig.text(0.2,0.6,\n",
    "            f\"$\\\\rho$ = {Sp_cor:.04f}\\n\" +\n",
    "            f\"r = {P_cor:.04f}\\n\" \n",
    "            f\"MSE = {mse:.04f}\\n\" \n",
    "            # # f\"RMSE = {rmse:.04f}\\n\"\n",
    "            )\n",
    "    g.fig.text(1, 0.5,\n",
    "            f\"steps = {steps:d}\\n\" +\n",
    "            mode_comment + f'\\nuniq seq: {set_seq} from {len(pred_df.pred_score)}')    \n",
    "    g.ax_joint.set_xlabel('Pred')\n",
    "    g.ax_joint.set_ylabel('Target')\n",
    "    uniq = set_seq / len(pred_df.pred_score)\n",
    "    if P_cor >= 0.5 and uniq == 1 : \n",
    "        plt.savefig(f'./tuning/utr5/{CELL_TYPE_FILTER}/P_{P_cor}_epoch{epoch}.svg', bbox_inches=\"tight\")\n",
    "    plt.tight_layout()\n",
    "    plt.show()\n",
    "    \n",
    "    return Sp_cor, P_cor, uniq\n"
   ]
  },
  {
   "cell_type": "code",
   "execution_count": 15,
   "id": "ab5f26d1",
   "metadata": {
    "execution": {
     "iopub.execute_input": "2023-07-28T06:46:11.590645Z",
     "iopub.status.busy": "2023-07-28T06:46:11.590077Z",
     "iopub.status.idle": "2023-07-28T06:46:11.601748Z",
     "shell.execute_reply": "2023-07-28T06:46:11.600842Z",
     "shell.execute_reply.started": "2023-07-28T06:46:11.590597Z"
    },
    "tags": []
   },
   "outputs": [],
   "source": [
    "from itertools import permutations\n",
    "ALLPERM = torch.tensor(list(permutations((0, 1, 2, 3))))\n",
    "ALLPERM\n",
    "\n",
    "# diffusion-like sampling\n",
    "\n",
    "def mutagenesisv2_(seqs, maxmut):\n",
    "    batchsize = seqs.shape[0]\n",
    "    seqlen = seqs.shape[2]\n",
    "    muts = torch.full((batchsize,), maxmut)\n",
    "    indexx = torch.arange(batchsize)\n",
    "    mut_positions = torch.zeros(batchsize, seqlen, dtype=bool)\n",
    "    for i in range(maxmut):\n",
    "        single_positions = torch.randint(high=seqlen, size=(batchsize,))\n",
    "        mut_positions[indexx, single_positions] |= muts > i\n",
    "\n",
    "    mut_positions = mut_positions[:,None,:].broadcast_to(seqs.shape)\n",
    "    x = seqs.permute(2, 0, 1)[mut_positions.permute(2, 0, 1)]\n",
    "    mut_number = x.shape[0] // 4\n",
    "    \n",
    "    myperm = torch.randint(high=ALLPERM.shape[0], size=(mut_number,))\n",
    "    myperm = (ALLPERM[myperm] + torch.arange(mut_number)[:,None] * 4).ravel()\n",
    "    \n",
    "    seqs.permute(2, 0, 1)[mut_positions.permute(2, 0, 1)] = x[myperm]\n",
    "    \n"
   ]
  },
  {
   "cell_type": "code",
   "execution_count": 16,
   "id": "0a8ec73e",
   "metadata": {
    "execution": {
     "iopub.execute_input": "2023-07-28T06:46:17.816672Z",
     "iopub.status.busy": "2023-07-28T06:46:17.816011Z",
     "iopub.status.idle": "2023-07-28T06:46:17.830707Z",
     "shell.execute_reply": "2023-07-28T06:46:17.829350Z",
     "shell.execute_reply.started": "2023-07-28T06:46:17.816619Z"
    },
    "scrolled": true,
    "tags": []
   },
   "outputs": [],
   "source": [
    "### generate with random scores\n",
    "\n",
    "def predict_float(dl_test, mut_interval, intensities, start, end, nucl_df ):    \n",
    "    seqs_batches = []\n",
    "    scores_batches = []\n",
    "    with torch.no_grad():\n",
    "        difussion_model.eval()\n",
    "        for data in tqdm(dl_test):\n",
    "            target_nucl = []\n",
    "            seq_batch = data.float().to(device)\n",
    "            score_chanels = seq_batch[:,4:5,:].clone().to(device)\n",
    "            seq_batch = seq_batch[:,:4,:]\n",
    "            target_score = torch.FloatTensor(seq_batch.shape[0], 1, 1).uniform_(start, end).to(device)\n",
    "            for score in target_score:\n",
    "                index = nucl_df.mass_center.searchsorted(score.cpu().numpy())[0][0]-1\n",
    "                target_nucl.append(nucl_df[['A', 'C', 'G', 'T']].iloc[index])\n",
    "            target_nucl = torch.broadcast_to(torch.tensor(target_nucl)[:,:,None], [target_score.shape[0], 4, SEQ_LEN]).to(device)\n",
    "            target_score = target_score.to(device)\n",
    "            for intens, muts, in zip(intensities, mut_interval):\n",
    "                tmp = torch.broadcast_to(target_score, (target_score.shape[0], 1, SEQ_LEN))\n",
    "                seq_batch = torch.concat((seq_batch.to(device), tmp.to(device), torch.full_like(score_chanels, intens).to(device), target_nucl.to(device)), dim=1)\n",
    "                seq_batch = difussion_model(seq_batch.float())\n",
    "                seq_batch = torch.softmax(seq_batch, dim=1) \n",
    "                mutagenesisv2_(seq_batch, muts)\n",
    "            seqs_batches.append(seq_batch.cpu().numpy()) \n",
    "            scores_batches.append((target_score.squeeze()).cpu().numpy())\n",
    "        return seqs_batches, scores_batches\n",
    "\n"
   ]
  },
  {
   "cell_type": "code",
   "execution_count": 17,
   "id": "11f1e47b",
   "metadata": {
    "execution": {
     "iopub.execute_input": "2023-07-28T06:46:18.646337Z",
     "iopub.status.busy": "2023-07-28T06:46:18.645739Z",
     "iopub.status.idle": "2023-07-28T07:33:00.076196Z",
     "shell.execute_reply": "2023-07-28T07:33:00.074719Z",
     "shell.execute_reply.started": "2023-07-28T06:46:18.646286Z"
    },
    "scrolled": true,
    "tags": []
   },
   "outputs": [
    {
     "data": {
      "application/vnd.jupyter.widget-view+json": {
       "model_id": "a0c701d669d54691af29527d68244e92",
       "version_major": 2,
       "version_minor": 0
      },
      "text/plain": [
       "  0%|          | 0/250 [00:00<?, ?it/s]"
      ]
     },
     "metadata": {},
     "output_type": "display_data"
    }
   ],
   "source": [
    "start = 2\n",
    "end = 3\n",
    "\n",
    "steps = 49 # (empirically choosen)\n",
    "m_i_start, m_i_end = 49, 0 # number of introduced mutations (empirically choosen)\n",
    "in_start, in_end = 50, 1 # number of mutations in channel (empirically choosen)\n",
    "\n",
    "mut_interval = np.linspace(m_i_start, m_i_end, steps).round().astype(\"int\")\n",
    "intensities = np.linspace(in_start, in_end, steps).round().astype(\"int\")\n",
    "\n",
    "seqs, scores_batches = predict_float(dl_test, mut_interval, intensities, start, end, subdf)\n",
    "\n",
    "given_expression = np.concatenate(scores_batches)\n",
    "decoded_seq  = torch.tensor(np.concatenate(seqs)).argmax(axis=1).cpu().numpy()\n",
    "\n",
    "encoded_seqs = [''.join([id2n(n) for n in seq]) for seq in decoded_seq]\n",
    "cell_type = np.full((len(encoded_seqs), ), CELL_TYPE_FILTER).tolist()\n",
    "fold = np.full((len(encoded_seqs), ), 'val').tolist()\n",
    "count = np.full((len(encoded_seqs), ), 1).tolist()\n",
    "replicates = np.full((len(encoded_seqs), ), 1).tolist()\n",
    "diff = np.full((len(encoded_seqs), ), 0).tolist()\n",
    "\n"
   ]
  },
  {
   "cell_type": "code",
   "execution_count": 19,
   "id": "50c2b400-490a-470f-9a7d-d9a736f61db8",
   "metadata": {
    "execution": {
     "iopub.execute_input": "2023-07-28T07:33:00.370152Z",
     "iopub.status.busy": "2023-07-28T07:33:00.369915Z",
     "iopub.status.idle": "2023-07-28T07:33:00.926197Z",
     "shell.execute_reply": "2023-07-28T07:33:00.925283Z",
     "shell.execute_reply.started": "2023-07-28T07:33:00.370131Z"
    },
    "tags": []
   },
   "outputs": [],
   "source": [
    "pred_df = pd.DataFrame({'seq': encoded_seqs, 'cell_type': cell_type, 'fold' :fold,'replicate' :replicates, 'mass_center': given_expression, 'diff':diff })"
   ]
  },
  {
   "cell_type": "code",
   "execution_count": 21,
   "id": "87e1e02a-3cb6-441d-8daa-35ed56f4bafd",
   "metadata": {
    "execution": {
     "iopub.execute_input": "2023-07-28T07:38:48.864421Z",
     "iopub.status.busy": "2023-07-28T07:38:48.863802Z",
     "iopub.status.idle": "2023-07-28T07:41:33.698444Z",
     "shell.execute_reply": "2023-07-28T07:41:33.697417Z",
     "shell.execute_reply.started": "2023-07-28T07:38:48.864368Z"
    },
    "tags": []
   },
   "outputs": [
    {
     "name": "stderr",
     "output_type": "stream",
     "text": [
      "GPU available: True (cuda), used: True\n",
      "TPU available: False, using: 0 TPU cores\n",
      "IPU available: False, using: 0 IPUs\n",
      "HPU available: False, using: 0 HPUs\n",
      "You are using a CUDA device ('NVIDIA GeForce RTX 3090') that has Tensor Cores. To properly utilize them, you should set `torch.set_float32_matmul_precision('medium' | 'high')` which will trade-off precision for performance. For more details, read https://pytorch.org/docs/stable/generated/torch.set_float32_matmul_precision.html#torch.set_float32_matmul_precision\n",
      "LOCAL_RANK: 0 - CUDA_VISIBLE_DEVICES: [0,1]\n"
     ]
    },
    {
     "data": {
      "application/vnd.jupyter.widget-view+json": {
       "model_id": "e11108c80069472faa46d7d0109363f6",
       "version_major": 2,
       "version_minor": 0
      },
      "text/plain": [
       "Predicting: 0it [00:00, ?it/s]"
      ]
     },
     "metadata": {},
     "output_type": "display_data"
    }
   ],
   "source": [
    "pred_df_val = dataset.UTRData(\n",
    "    df=pred_df,\n",
    "    augment=False,\n",
    "    augment_test_time=False,\n",
    "    augment_kws=dict(\n",
    "        extend_left=0,\n",
    "        extend_right=0,\n",
    "        shift_left=0,\n",
    "        shift_right=0,\n",
    "        revcomp=False,\n",
    "                    ),\n",
    "    features=(\"sequence\", \"positional\", \"conditions\"),  # (\"sequence\", \"conditions\", \"positional\", \"revcomp\")\n",
    "    construct_type=\"utr5\"\n",
    "            )\n",
    "\n",
    "\n",
    "pred_dl = DataLoader(\n",
    "        pred_df_val,\n",
    "        batch_size=batch_size,\n",
    "        num_workers=num_workers,\n",
    "        shuffle=False,\n",
    "        drop_last=False\n",
    "                            )\n",
    "\n",
    "trainer = pl.Trainer(\n",
    "        accelerator=\"gpu\",\n",
    "        devices=[1],)\n",
    "\n",
    "\n",
    "\n",
    "pred_score = trainer.predict(model=predictor, dataloaders=pred_dl)\n",
    "pred_df['pred_score'] = np.concatenate(pred_score)[:,1]\n",
    "pred_df['pred_diff'] = np.concatenate(pred_score)[:,0]\n",
    "pred_df = pred_df.drop(['fold', 'replicate','diff'], axis=1)"
   ]
  },
  {
   "cell_type": "code",
   "execution_count": 22,
   "id": "f5127148-8913-4382-ab2b-ca10f28e3f22",
   "metadata": {
    "execution": {
     "iopub.execute_input": "2023-07-28T07:41:33.700586Z",
     "iopub.status.busy": "2023-07-28T07:41:33.700232Z",
     "iopub.status.idle": "2023-07-28T07:41:35.455527Z",
     "shell.execute_reply": "2023-07-28T07:41:35.454627Z",
     "shell.execute_reply.started": "2023-07-28T07:41:33.700562Z"
    },
    "tags": []
   },
   "outputs": [
    {
     "data": {
      "text/plain": [
       "<Figure size 800x600 with 0 Axes>"
      ]
     },
     "metadata": {},
     "output_type": "display_data"
    },
    {
     "data": {
      "image/png": "[encoded data removed]",
      "text/plain": [
       "<Figure size 600x600 with 3 Axes>"
      ]
     },
     "metadata": {},
     "output_type": "display_data"
    }
   ],
   "source": [
    "# small raw picture \n",
    "mode_comment = f'KL*{num} epoch {epoch} mut inserted {m_i_start}-> {m_i_end},\\nmut in ch {in_start}-> {in_end}'\n",
    "Sp_cor, P_cor, uniq = correlation_plot(pred_df, mode_comment, len(set(encoded_seqs)), epoch)\n"
   ]
  },
  {
   "cell_type": "code",
   "execution_count": 27,
   "id": "2ae6ba82-b8cd-43e9-8c89-aaf8985ecab2",
   "metadata": {
    "execution": {
     "iopub.execute_input": "2023-07-28T07:41:56.519248Z",
     "iopub.status.busy": "2023-07-28T07:41:56.519089Z",
     "iopub.status.idle": "2023-07-28T07:41:59.429405Z",
     "shell.execute_reply": "2023-07-28T07:41:59.428372Z",
     "shell.execute_reply.started": "2023-07-28T07:41:56.519234Z"
    },
    "tags": []
   },
   "outputs": [],
   "source": [
    "PATH_TO_CSV = f'./generated/cell_{CELL_TYPE_FILTER}_epoch_{epoch}_5UTR.csv'\n",
    "pred_df.to_csv(PATH_TO_CSV, index=False)"
   ]
  },
  {
   "cell_type": "markdown",
   "id": "1fcbf7f0",
   "metadata": {},
   "source": [
    "-----------"
   ]
  }
 ],
 "metadata": {
  "kernelspec": {
   "display_name": "Python [conda env:ml]",
   "language": "python",
   "name": "conda-env-ml-py"
  },
  "language_info": {
   "codemirror_mode": {
    "name": "ipython",
    "version": 3
   },
   "file_extension": ".py",
   "mimetype": "text/x-python",
   "name": "python",
   "nbconvert_exporter": "python",
   "pygments_lexer": "ipython3",
   "version": "3.10.10"
  }
 },
 "nbformat": 4,
 "nbformat_minor": 5
}

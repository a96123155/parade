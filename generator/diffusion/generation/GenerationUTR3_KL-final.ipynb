{
 "cells": [
  {
   "cell_type": "code",
   "execution_count": 1,
   "id": "6d1164c7-feae-4e0e-a1fa-874988d20334",
   "metadata": {
    "execution": {
     "iopub.execute_input": "2023-11-03T11:31:23.942703Z",
     "iopub.status.busy": "2023-11-03T11:31:23.942397Z",
     "iopub.status.idle": "2023-11-03T11:31:23.950718Z",
     "shell.execute_reply": "2023-11-03T11:31:23.949830Z",
     "shell.execute_reply.started": "2023-11-03T11:31:23.942683Z"
    },
    "tags": []
   },
   "outputs": [],
   "source": [
    "import os\n",
    "\n",
    "os.environ[\"OMP_NUM_THREADS\"] = \"20\" "
   ]
  },
  {
   "cell_type": "code",
   "execution_count": null,
   "id": "0414a861",
   "metadata": {
    "execution": {
     "iopub.execute_input": "2023-11-03T11:31:24.178625Z",
     "iopub.status.busy": "2023-11-03T11:31:24.177281Z",
     "iopub.status.idle": "2023-11-03T11:31:41.844937Z",
     "shell.execute_reply": "2023-11-03T11:31:41.843990Z",
     "shell.execute_reply.started": "2023-11-03T11:31:24.178572Z"
    },
    "tags": []
   },
   "outputs": [],
   "source": [
    "import pandas as pd\n",
    "import numpy as np\n",
    "import seaborn as sns\n",
    "import matplotlib\n",
    "\n",
    "from tqdm.auto import tqdm as tqdm_auto\n",
    "from tqdm.notebook import tqdm\n",
    "\n",
    "import matplotlib.pyplot as plt\n",
    "import importlib\n",
    "from scipy import stats \n",
    "\n",
    "import torch\n",
    "import torch.cuda\n",
    "from torch.utils.data import DataLoader\n",
    "import torch.nn as nn\n",
    "import torch.nn.functional as F \n",
    "import pytorch_lightning as pl\n",
    "\n",
    "import matplotlib.colors as clr"
   ]
  },
  {
   "cell_type": "code",
   "execution_count": 3,
   "id": "4408ed90",
   "metadata": {
    "execution": {
     "iopub.execute_input": "2023-11-03T11:31:41.846533Z",
     "iopub.status.busy": "2023-11-03T11:31:41.846169Z",
     "iopub.status.idle": "2023-11-03T11:31:41.968661Z",
     "shell.execute_reply": "2023-11-03T11:31:41.967807Z",
     "shell.execute_reply.started": "2023-11-03T11:31:41.846514Z"
    },
    "tags": []
   },
   "outputs": [],
   "source": [
    "import dataset_regressiondiffusion as dataset\n",
    "importlib.reload(dataset)\n",
    "\n",
    "\n",
    "from lit_regressor import RNARegressor\n",
    "import legnet_difgenerator\n",
    "import legnet_classifier"
   ]
  },
  {
   "cell_type": "code",
   "execution_count": 4,
   "id": "84b83ac2-d7c2-4cae-9fe6-9172ade2c469",
   "metadata": {
    "execution": {
     "iopub.execute_input": "2023-11-03T11:31:41.969873Z",
     "iopub.status.busy": "2023-11-03T11:31:41.969684Z",
     "iopub.status.idle": "2023-11-03T11:31:41.974170Z",
     "shell.execute_reply": "2023-11-03T11:31:41.973321Z",
     "shell.execute_reply.started": "2023-11-03T11:31:41.969857Z"
    },
    "tags": []
   },
   "outputs": [],
   "source": [
    "def seed_everything(seed):\n",
    "    # random.seed(seed)\n",
    "    os.environ['PYTHONHASHSEED'] = str(seed)\n",
    "    np.random.seed(seed)\n",
    "    torch.manual_seed(seed)\n",
    "    torch.cuda.manual_seed(seed)\n",
    "    torch.backends.cudnn.deterministic = True\n",
    "    torch.backends.cudnn.benchmark = True"
   ]
  },
  {
   "cell_type": "code",
   "execution_count": 5,
   "id": "a5ba2582",
   "metadata": {
    "execution": {
     "iopub.execute_input": "2023-11-03T11:31:41.975898Z",
     "iopub.status.busy": "2023-11-03T11:31:41.975623Z",
     "iopub.status.idle": "2023-11-03T11:31:41.995037Z",
     "shell.execute_reply": "2023-11-03T11:31:41.994275Z",
     "shell.execute_reply.started": "2023-11-03T11:31:41.975878Z"
    },
    "tags": []
   },
   "outputs": [],
   "source": [
    "batch_size = 1024\n",
    "num_workers = 16\n",
    "batch_per_epoch = 1\n",
    "device= torch.device('cuda:1')\n",
    "CELL_TYPE_FILTER = 'c17'\n",
    "seq_len = 240 # UTR3\n",
    "epoch = 267\n",
    "num = 1\n",
    "seed_everything(42)"
   ]
  },
  {
   "cell_type": "code",
   "execution_count": 6,
   "id": "bbef3013-10da-43fe-9288-61691e4461dc",
   "metadata": {
    "execution": {
     "iopub.execute_input": "2023-11-03T11:31:41.995837Z",
     "iopub.status.busy": "2023-11-03T11:31:41.995686Z",
     "iopub.status.idle": "2023-11-03T11:31:42.717213Z",
     "shell.execute_reply": "2023-11-03T11:31:42.716501Z",
     "shell.execute_reply.started": "2023-11-03T11:31:41.995822Z"
    },
    "tags": []
   },
   "outputs": [],
   "source": [
    "PATH_FROM = '../../../data/UTR3_zinb_norm_singleref_2023-05-23.csv'\n",
    "df = pd.read_csv(PATH_FROM)\n",
    "\n",
    "df = df[df.cell_type == CELL_TYPE_FILTER].reset_index(drop=True)\n",
    "scores = (df['1']*1+df['2']*2+df['3']*3+df['4']*4) / df[['1', '2', '3', '4']].sum(axis=1)\n",
    "df['mass_center'] = scores"
   ]
  },
  {
   "cell_type": "code",
   "execution_count": 7,
   "id": "4d21d28b-2d89-4260-94f1-208e66618df6",
   "metadata": {
    "execution": {
     "iopub.execute_input": "2023-11-03T11:31:42.718088Z",
     "iopub.status.busy": "2023-11-03T11:31:42.717907Z",
     "iopub.status.idle": "2023-11-03T11:31:42.735201Z",
     "shell.execute_reply": "2023-11-03T11:31:42.734621Z",
     "shell.execute_reply.started": "2023-11-03T11:31:42.718072Z"
    },
    "tags": []
   },
   "outputs": [
    {
     "data": {
      "text/html": [
       "<div>\n",
       "<style scoped>\n",
       "    .dataframe tbody tr th:only-of-type {\n",
       "        vertical-align: middle;\n",
       "    }\n",
       "\n",
       "    .dataframe tbody tr th {\n",
       "        vertical-align: top;\n",
       "    }\n",
       "\n",
       "    .dataframe thead th {\n",
       "        text-align: right;\n",
       "    }\n",
       "</style>\n",
       "<table border=\"1\" class=\"dataframe\">\n",
       "  <thead>\n",
       "    <tr style=\"text-align: right;\">\n",
       "      <th></th>\n",
       "      <th>seq</th>\n",
       "      <th>cell_type</th>\n",
       "      <th>replicate</th>\n",
       "      <th>1</th>\n",
       "      <th>2</th>\n",
       "      <th>3</th>\n",
       "      <th>4</th>\n",
       "      <th>fold</th>\n",
       "      <th>mass_center</th>\n",
       "    </tr>\n",
       "  </thead>\n",
       "  <tbody>\n",
       "    <tr>\n",
       "      <th>0</th>\n",
       "      <td>TGCAGTTTTGACCTCCCAGGCTCAAGCGATCCTCCTGCCTCAGCCT...</td>\n",
       "      <td>c17</td>\n",
       "      <td>1</td>\n",
       "      <td>21.945857</td>\n",
       "      <td>36.076924</td>\n",
       "      <td>62.723318</td>\n",
       "      <td>25.114635</td>\n",
       "      <td>val</td>\n",
       "      <td>2.623929</td>\n",
       "    </tr>\n",
       "    <tr>\n",
       "      <th>1</th>\n",
       "      <td>TGCAGTTTTGACCTCCCAGGCTCAAGCGATCCTCCTGCCTCAGCCT...</td>\n",
       "      <td>c17</td>\n",
       "      <td>2</td>\n",
       "      <td>19.848040</td>\n",
       "      <td>34.344834</td>\n",
       "      <td>35.704787</td>\n",
       "      <td>42.941895</td>\n",
       "      <td>val</td>\n",
       "      <td>2.765890</td>\n",
       "    </tr>\n",
       "    <tr>\n",
       "      <th>2</th>\n",
       "      <td>ATCAAAAAGCAGGCCAGATTCTAATCAAAATCAGGTAAATTTTAAT...</td>\n",
       "      <td>c17</td>\n",
       "      <td>1</td>\n",
       "      <td>24.996422</td>\n",
       "      <td>38.172301</td>\n",
       "      <td>39.674662</td>\n",
       "      <td>59.162970</td>\n",
       "      <td>train</td>\n",
       "      <td>2.820981</td>\n",
       "    </tr>\n",
       "    <tr>\n",
       "      <th>3</th>\n",
       "      <td>ATCAAAAAGCAGGCCAGATTCTAATCAAAATCAGGTAAATTTTAAT...</td>\n",
       "      <td>c17</td>\n",
       "      <td>2</td>\n",
       "      <td>28.542939</td>\n",
       "      <td>24.460446</td>\n",
       "      <td>42.991478</td>\n",
       "      <td>53.016374</td>\n",
       "      <td>train</td>\n",
       "      <td>2.808538</td>\n",
       "    </tr>\n",
       "    <tr>\n",
       "      <th>4</th>\n",
       "      <td>ATTTTAGTTTGCCCAAATAATATCTTGAAAATGCTCTGAATTTTAC...</td>\n",
       "      <td>c17</td>\n",
       "      <td>1</td>\n",
       "      <td>7.785771</td>\n",
       "      <td>4.782926</td>\n",
       "      <td>12.253139</td>\n",
       "      <td>28.715463</td>\n",
       "      <td>val</td>\n",
       "      <td>3.156171</td>\n",
       "    </tr>\n",
       "    <tr>\n",
       "      <th>...</th>\n",
       "      <td>...</td>\n",
       "      <td>...</td>\n",
       "      <td>...</td>\n",
       "      <td>...</td>\n",
       "      <td>...</td>\n",
       "      <td>...</td>\n",
       "      <td>...</td>\n",
       "      <td>...</td>\n",
       "      <td>...</td>\n",
       "    </tr>\n",
       "    <tr>\n",
       "      <th>56847</th>\n",
       "      <td>TGTGCTTCCTAAGAGTACAAACCTGAGCATATGTCCAGGCTTGCAA...</td>\n",
       "      <td>c17</td>\n",
       "      <td>2</td>\n",
       "      <td>23.535406</td>\n",
       "      <td>25.189248</td>\n",
       "      <td>31.332772</td>\n",
       "      <td>45.950563</td>\n",
       "      <td>train</td>\n",
       "      <td>2.791208</td>\n",
       "    </tr>\n",
       "    <tr>\n",
       "      <th>56848</th>\n",
       "      <td>TAGGTGGTGATCTTAAATGGGTGAGATGGAACGAGAGCACACATTA...</td>\n",
       "      <td>c17</td>\n",
       "      <td>1</td>\n",
       "      <td>19.259539</td>\n",
       "      <td>30.975137</td>\n",
       "      <td>20.634468</td>\n",
       "      <td>16.226516</td>\n",
       "      <td>train</td>\n",
       "      <td>2.388400</td>\n",
       "    </tr>\n",
       "    <tr>\n",
       "      <th>56849</th>\n",
       "      <td>TAGGTGGTGATCTTAAATGGGTGAGATGGAACGAGAGCACACATTA...</td>\n",
       "      <td>c17</td>\n",
       "      <td>2</td>\n",
       "      <td>18.755488</td>\n",
       "      <td>31.065221</td>\n",
       "      <td>28.372554</td>\n",
       "      <td>14.724238</td>\n",
       "      <td>train</td>\n",
       "      <td>2.420433</td>\n",
       "    </tr>\n",
       "    <tr>\n",
       "      <th>56850</th>\n",
       "      <td>AGGAGGCAACTGTGGCATTGCTTCCTTAACCAGCTCATGGTGTGTG...</td>\n",
       "      <td>c17</td>\n",
       "      <td>1</td>\n",
       "      <td>12.384384</td>\n",
       "      <td>33.298272</td>\n",
       "      <td>34.982940</td>\n",
       "      <td>33.136733</td>\n",
       "      <td>train</td>\n",
       "      <td>2.780933</td>\n",
       "    </tr>\n",
       "    <tr>\n",
       "      <th>56851</th>\n",
       "      <td>AGGAGGCAACTGTGGCATTGCTTCCTTAACCAGCTCATGGTGTGTG...</td>\n",
       "      <td>c17</td>\n",
       "      <td>2</td>\n",
       "      <td>13.292724</td>\n",
       "      <td>25.872501</td>\n",
       "      <td>34.976118</td>\n",
       "      <td>37.471590</td>\n",
       "      <td>train</td>\n",
       "      <td>2.865729</td>\n",
       "    </tr>\n",
       "  </tbody>\n",
       "</table>\n",
       "<p>56852 rows × 9 columns</p>\n",
       "</div>"
      ],
      "text/plain": [
       "                                                     seq cell_type  replicate  \\\n",
       "0      TGCAGTTTTGACCTCCCAGGCTCAAGCGATCCTCCTGCCTCAGCCT...       c17          1   \n",
       "1      TGCAGTTTTGACCTCCCAGGCTCAAGCGATCCTCCTGCCTCAGCCT...       c17          2   \n",
       "2      ATCAAAAAGCAGGCCAGATTCTAATCAAAATCAGGTAAATTTTAAT...       c17          1   \n",
       "3      ATCAAAAAGCAGGCCAGATTCTAATCAAAATCAGGTAAATTTTAAT...       c17          2   \n",
       "4      ATTTTAGTTTGCCCAAATAATATCTTGAAAATGCTCTGAATTTTAC...       c17          1   \n",
       "...                                                  ...       ...        ...   \n",
       "56847  TGTGCTTCCTAAGAGTACAAACCTGAGCATATGTCCAGGCTTGCAA...       c17          2   \n",
       "56848  TAGGTGGTGATCTTAAATGGGTGAGATGGAACGAGAGCACACATTA...       c17          1   \n",
       "56849  TAGGTGGTGATCTTAAATGGGTGAGATGGAACGAGAGCACACATTA...       c17          2   \n",
       "56850  AGGAGGCAACTGTGGCATTGCTTCCTTAACCAGCTCATGGTGTGTG...       c17          1   \n",
       "56851  AGGAGGCAACTGTGGCATTGCTTCCTTAACCAGCTCATGGTGTGTG...       c17          2   \n",
       "\n",
       "               1          2          3          4   fold  mass_center  \n",
       "0      21.945857  36.076924  62.723318  25.114635    val     2.623929  \n",
       "1      19.848040  34.344834  35.704787  42.941895    val     2.765890  \n",
       "2      24.996422  38.172301  39.674662  59.162970  train     2.820981  \n",
       "3      28.542939  24.460446  42.991478  53.016374  train     2.808538  \n",
       "4       7.785771   4.782926  12.253139  28.715463    val     3.156171  \n",
       "...          ...        ...        ...        ...    ...          ...  \n",
       "56847  23.535406  25.189248  31.332772  45.950563  train     2.791208  \n",
       "56848  19.259539  30.975137  20.634468  16.226516  train     2.388400  \n",
       "56849  18.755488  31.065221  28.372554  14.724238  train     2.420433  \n",
       "56850  12.384384  33.298272  34.982940  33.136733  train     2.780933  \n",
       "56851  13.292724  25.872501  34.976118  37.471590  train     2.865729  \n",
       "\n",
       "[56852 rows x 9 columns]"
      ]
     },
     "execution_count": 7,
     "metadata": {},
     "output_type": "execute_result"
    }
   ],
   "source": [
    "df"
   ]
  },
  {
   "cell_type": "code",
   "execution_count": 8,
   "id": "894ff7b4-0c4a-4932-ad5f-cb82c720dce6",
   "metadata": {
    "execution": {
     "iopub.execute_input": "2023-11-03T11:31:42.736001Z",
     "iopub.status.busy": "2023-11-03T11:31:42.735847Z",
     "iopub.status.idle": "2023-11-03T11:31:43.444986Z",
     "shell.execute_reply": "2023-11-03T11:31:43.444171Z",
     "shell.execute_reply.started": "2023-11-03T11:31:42.735986Z"
    },
    "tags": []
   },
   "outputs": [
    {
     "data": {
      "text/html": [
       "<div>\n",
       "<style scoped>\n",
       "    .dataframe tbody tr th:only-of-type {\n",
       "        vertical-align: middle;\n",
       "    }\n",
       "\n",
       "    .dataframe tbody tr th {\n",
       "        vertical-align: top;\n",
       "    }\n",
       "\n",
       "    .dataframe thead th {\n",
       "        text-align: right;\n",
       "    }\n",
       "</style>\n",
       "<table border=\"1\" class=\"dataframe\">\n",
       "  <thead>\n",
       "    <tr style=\"text-align: right;\">\n",
       "      <th></th>\n",
       "      <th>seq</th>\n",
       "      <th>cell_type</th>\n",
       "      <th>replicate</th>\n",
       "      <th>fold</th>\n",
       "      <th>mass_center</th>\n",
       "      <th>A</th>\n",
       "      <th>C</th>\n",
       "      <th>G</th>\n",
       "      <th>T</th>\n",
       "    </tr>\n",
       "  </thead>\n",
       "  <tbody>\n",
       "    <tr>\n",
       "      <th>0</th>\n",
       "      <td>GGCTCCACACAGACTAACGTAGGCACTATAAGGACCAGCCCAACCC...</td>\n",
       "      <td>c17</td>\n",
       "      <td>1</td>\n",
       "      <td>train</td>\n",
       "      <td>1.277848</td>\n",
       "      <td>0.254167</td>\n",
       "      <td>0.295833</td>\n",
       "      <td>0.254167</td>\n",
       "      <td>0.195833</td>\n",
       "    </tr>\n",
       "    <tr>\n",
       "      <th>1</th>\n",
       "      <td>CACCTTCACTAGAAATGTCCCATCATCGTGGGAGGGGAGCAGGGCA...</td>\n",
       "      <td>c17</td>\n",
       "      <td>1</td>\n",
       "      <td>train</td>\n",
       "      <td>1.287805</td>\n",
       "      <td>0.262500</td>\n",
       "      <td>0.233333</td>\n",
       "      <td>0.329167</td>\n",
       "      <td>0.175000</td>\n",
       "    </tr>\n",
       "    <tr>\n",
       "      <th>2</th>\n",
       "      <td>CGGGGTGTCGGTAGCGTCTTAGCCAAGAGTCCAATTAAAGAACGAA...</td>\n",
       "      <td>c17</td>\n",
       "      <td>2</td>\n",
       "      <td>train</td>\n",
       "      <td>1.296866</td>\n",
       "      <td>0.233333</td>\n",
       "      <td>0.283333</td>\n",
       "      <td>0.337500</td>\n",
       "      <td>0.145833</td>\n",
       "    </tr>\n",
       "    <tr>\n",
       "      <th>3</th>\n",
       "      <td>AGAGACTTCTTTTCATTGAGGCTTCGTAAAGTTTTCCATTTTGATT...</td>\n",
       "      <td>c17</td>\n",
       "      <td>2</td>\n",
       "      <td>train</td>\n",
       "      <td>1.334953</td>\n",
       "      <td>0.341667</td>\n",
       "      <td>0.137500</td>\n",
       "      <td>0.145833</td>\n",
       "      <td>0.375000</td>\n",
       "    </tr>\n",
       "    <tr>\n",
       "      <th>4</th>\n",
       "      <td>CCAGCTACCATGGGAACGCAAGGCAGCAACTCTCTAATTAACCAGG...</td>\n",
       "      <td>c17</td>\n",
       "      <td>2</td>\n",
       "      <td>train</td>\n",
       "      <td>1.343799</td>\n",
       "      <td>0.350000</td>\n",
       "      <td>0.229167</td>\n",
       "      <td>0.112500</td>\n",
       "      <td>0.308333</td>\n",
       "    </tr>\n",
       "    <tr>\n",
       "      <th>...</th>\n",
       "      <td>...</td>\n",
       "      <td>...</td>\n",
       "      <td>...</td>\n",
       "      <td>...</td>\n",
       "      <td>...</td>\n",
       "      <td>...</td>\n",
       "      <td>...</td>\n",
       "      <td>...</td>\n",
       "      <td>...</td>\n",
       "    </tr>\n",
       "    <tr>\n",
       "      <th>56847</th>\n",
       "      <td>AGAAAATCATACAACTCAGCATCCAGTTGGCTTTTTAAGAATTCTG...</td>\n",
       "      <td>c17</td>\n",
       "      <td>1</td>\n",
       "      <td>train</td>\n",
       "      <td>3.634526</td>\n",
       "      <td>0.312500</td>\n",
       "      <td>0.133333</td>\n",
       "      <td>0.162500</td>\n",
       "      <td>0.391667</td>\n",
       "    </tr>\n",
       "    <tr>\n",
       "      <th>56848</th>\n",
       "      <td>CTCGGCCTCCCAAAGTGCTGGGATTACAGGCGTGAGCCACCGCGTC...</td>\n",
       "      <td>c17</td>\n",
       "      <td>1</td>\n",
       "      <td>train</td>\n",
       "      <td>3.647392</td>\n",
       "      <td>0.375000</td>\n",
       "      <td>0.158333</td>\n",
       "      <td>0.170833</td>\n",
       "      <td>0.295833</td>\n",
       "    </tr>\n",
       "    <tr>\n",
       "      <th>56849</th>\n",
       "      <td>AGAAAATCATACAACTCAGCATCCAGTTGGCTTTTTAAGAATTCTG...</td>\n",
       "      <td>c17</td>\n",
       "      <td>2</td>\n",
       "      <td>train</td>\n",
       "      <td>3.664347</td>\n",
       "      <td>0.312500</td>\n",
       "      <td>0.133333</td>\n",
       "      <td>0.162500</td>\n",
       "      <td>0.391667</td>\n",
       "    </tr>\n",
       "    <tr>\n",
       "      <th>56850</th>\n",
       "      <td>GGCACAGGGTTTATGTTTAGGATGTTGAAAAAGTTCTGCAGATAAA...</td>\n",
       "      <td>c17</td>\n",
       "      <td>1</td>\n",
       "      <td>train</td>\n",
       "      <td>3.666589</td>\n",
       "      <td>0.350000</td>\n",
       "      <td>0.145833</td>\n",
       "      <td>0.175000</td>\n",
       "      <td>0.329167</td>\n",
       "    </tr>\n",
       "    <tr>\n",
       "      <th>56851</th>\n",
       "      <td>GGCACAGGGTTTATGTTTAGGATGTTGAAAAAGTTCTGCAGATAAA...</td>\n",
       "      <td>c17</td>\n",
       "      <td>2</td>\n",
       "      <td>train</td>\n",
       "      <td>3.685635</td>\n",
       "      <td>0.350000</td>\n",
       "      <td>0.145833</td>\n",
       "      <td>0.175000</td>\n",
       "      <td>0.329167</td>\n",
       "    </tr>\n",
       "  </tbody>\n",
       "</table>\n",
       "<p>56852 rows × 9 columns</p>\n",
       "</div>"
      ],
      "text/plain": [
       "                                                     seq cell_type  replicate  \\\n",
       "0      GGCTCCACACAGACTAACGTAGGCACTATAAGGACCAGCCCAACCC...       c17          1   \n",
       "1      CACCTTCACTAGAAATGTCCCATCATCGTGGGAGGGGAGCAGGGCA...       c17          1   \n",
       "2      CGGGGTGTCGGTAGCGTCTTAGCCAAGAGTCCAATTAAAGAACGAA...       c17          2   \n",
       "3      AGAGACTTCTTTTCATTGAGGCTTCGTAAAGTTTTCCATTTTGATT...       c17          2   \n",
       "4      CCAGCTACCATGGGAACGCAAGGCAGCAACTCTCTAATTAACCAGG...       c17          2   \n",
       "...                                                  ...       ...        ...   \n",
       "56847  AGAAAATCATACAACTCAGCATCCAGTTGGCTTTTTAAGAATTCTG...       c17          1   \n",
       "56848  CTCGGCCTCCCAAAGTGCTGGGATTACAGGCGTGAGCCACCGCGTC...       c17          1   \n",
       "56849  AGAAAATCATACAACTCAGCATCCAGTTGGCTTTTTAAGAATTCTG...       c17          2   \n",
       "56850  GGCACAGGGTTTATGTTTAGGATGTTGAAAAAGTTCTGCAGATAAA...       c17          1   \n",
       "56851  GGCACAGGGTTTATGTTTAGGATGTTGAAAAAGTTCTGCAGATAAA...       c17          2   \n",
       "\n",
       "        fold  mass_center         A         C         G         T  \n",
       "0      train     1.277848  0.254167  0.295833  0.254167  0.195833  \n",
       "1      train     1.287805  0.262500  0.233333  0.329167  0.175000  \n",
       "2      train     1.296866  0.233333  0.283333  0.337500  0.145833  \n",
       "3      train     1.334953  0.341667  0.137500  0.145833  0.375000  \n",
       "4      train     1.343799  0.350000  0.229167  0.112500  0.308333  \n",
       "...      ...          ...       ...       ...       ...       ...  \n",
       "56847  train     3.634526  0.312500  0.133333  0.162500  0.391667  \n",
       "56848  train     3.647392  0.375000  0.158333  0.170833  0.295833  \n",
       "56849  train     3.664347  0.312500  0.133333  0.162500  0.391667  \n",
       "56850  train     3.666589  0.350000  0.145833  0.175000  0.329167  \n",
       "56851  train     3.685635  0.350000  0.145833  0.175000  0.329167  \n",
       "\n",
       "[56852 rows x 9 columns]"
      ]
     },
     "execution_count": 8,
     "metadata": {},
     "output_type": "execute_result"
    }
   ],
   "source": [
    "df['A'] = df[\"seq\"].str.count('A')/seq_len\n",
    "df['C'] = df[\"seq\"].str.count('C')/seq_len\n",
    "df['G'] = df[\"seq\"].str.count('G')/seq_len\n",
    "df['T'] = df[\"seq\"].str.count('T')/seq_len\n",
    "\n",
    "subdf = df.sort_values(by='mass_center', ascending = True).reset_index(drop=True)\n",
    "subdf = subdf.drop(['1','2', '3','4'], axis=1)\n",
    "subdf"
   ]
  },
  {
   "cell_type": "code",
   "execution_count": 9,
   "id": "e429a96f-005d-42cf-8415-aba37416f987",
   "metadata": {
    "execution": {
     "iopub.execute_input": "2023-11-03T11:31:43.445975Z",
     "iopub.status.busy": "2023-11-03T11:31:43.445793Z",
     "iopub.status.idle": "2023-11-03T11:31:43.450149Z",
     "shell.execute_reply": "2023-11-03T11:31:43.449066Z",
     "shell.execute_reply.started": "2023-11-03T11:31:43.445959Z"
    },
    "tags": []
   },
   "outputs": [],
   "source": [
    "CODES = {\n",
    "    0:\"A\",\n",
    "    1:\"C\",\n",
    "    2:\"G\",\n",
    "    3:\"T\",\n",
    "    4:\"N\",\n",
    "}\n",
    "\n",
    "def id2n(n):\n",
    "    return CODES[n]\n"
   ]
  },
  {
   "cell_type": "code",
   "execution_count": 10,
   "id": "11ad3999-4741-4e7c-bcda-68b7f8d75563",
   "metadata": {
    "execution": {
     "iopub.execute_input": "2023-11-03T11:31:43.451237Z",
     "iopub.status.busy": "2023-11-03T11:31:43.451018Z",
     "iopub.status.idle": "2023-11-03T11:31:43.457542Z",
     "shell.execute_reply": "2023-11-03T11:31:43.456748Z",
     "shell.execute_reply.started": "2023-11-03T11:31:43.451217Z"
    },
    "tags": []
   },
   "outputs": [],
   "source": [
    "def gen_random_seqs(num, lengh, cell_type):\n",
    "    np.random.seed(7)\n",
    "    seqs = [''.join(i) for i in np.random.choice(['A', 'C', 'G', 'T'], size=(num, lengh)).tolist()]\n",
    "    cell_type = np.full((num,), cell_type).tolist()\n",
    "    fold = np.full((num, ), 'val').tolist()\n",
    "    count = np.full((num, ), 1).tolist()\n",
    "    replicates = np.full((num, ), 1).tolist()\n",
    "    score = np.random.uniform(1.5,3.5,num)\n",
    "    random_df = pd.DataFrame({'seq': seqs, 'cell_type': cell_type, 'fold' :fold,'replicate' :replicates, '1':count, '2':count, '3':count, '4':count, 'mass_center': score})\n",
    "    return random_df\n"
   ]
  },
  {
   "cell_type": "code",
   "execution_count": 11,
   "id": "a98d5aa3-098e-4b18-8a76-c4c842c6311d",
   "metadata": {
    "execution": {
     "iopub.execute_input": "2023-11-03T11:31:43.459654Z",
     "iopub.status.busy": "2023-11-03T11:31:43.459459Z",
     "iopub.status.idle": "2023-11-03T11:31:46.163924Z",
     "shell.execute_reply": "2023-11-03T11:31:46.163318Z",
     "shell.execute_reply.started": "2023-11-03T11:31:43.459636Z"
    },
    "tags": []
   },
   "outputs": [],
   "source": [
    "random_df = gen_random_seqs(batch_size*100, seq_len, CELL_TYPE_FILTER)\n",
    "random_df = dataset.PromotersData(random_df)"
   ]
  },
  {
   "cell_type": "code",
   "execution_count": 16,
   "id": "6b965b71",
   "metadata": {
    "execution": {
     "iopub.execute_input": "2023-11-03T11:36:03.264329Z",
     "iopub.status.busy": "2023-11-03T11:36:03.262979Z",
     "iopub.status.idle": "2023-11-03T11:36:04.011129Z",
     "shell.execute_reply": "2023-11-03T11:36:04.010252Z",
     "shell.execute_reply.started": "2023-11-03T11:36:03.264274Z"
    },
    "tags": []
   },
   "outputs": [],
   "source": [
    "legnet_generator_path = f'../saved_models/generator/3utr/ut3_{CELL_TYPE_FILTER}_KL1_model_{epoch}.pth'\n",
    "difussion_model = legnet_difgenerator.LegNet_diffusion(240,\n",
    "                ks=7,\n",
    "                block_sizes=[256, 128, 128, 64, 64, 64, 64],\n",
    "                final_ch=4).to(device)\n",
    "\n",
    "difussion_model.load_state_dict(torch.load(legnet_generator_path, map_location=device)['model_state_dict'])\n",
    "difussion_model.requires_grad_ = False"
   ]
  },
  {
   "cell_type": "code",
   "execution_count": null,
   "id": "3484be1b",
   "metadata": {
    "execution": {
     "iopub.status.busy": "2023-11-03T11:31:49.546194Z",
     "iopub.status.idle": "2023-11-03T11:31:49.546450Z",
     "shell.execute_reply": "2023-11-03T11:31:49.546333Z",
     "shell.execute_reply.started": "2023-11-03T11:31:49.546319Z"
    },
    "tags": []
   },
   "outputs": [],
   "source": [
    "PATH = '../saved_models/predictor/model-utr3-deltas-epoch=9-step=1330.ckpt'\n",
    "predictor = RNARegressor.load_from_checkpoint(PATH, map_location='cpu')"
   ]
  },
  {
   "cell_type": "code",
   "execution_count": null,
   "id": "45dabc4f",
   "metadata": {
    "execution": {
     "iopub.status.busy": "2023-11-03T11:31:49.547640Z",
     "iopub.status.idle": "2023-11-03T11:31:49.547950Z",
     "shell.execute_reply": "2023-11-03T11:31:49.547853Z",
     "shell.execute_reply.started": "2023-11-03T11:31:49.547842Z"
    },
    "tags": []
   },
   "outputs": [],
   "source": [
    "all_size = random_df.data.shape[0]\n",
    "test_size = batch_size*1000\n",
    "train_size = all_size-test_size\n",
    "train_set, val_set = torch.utils.data.random_split(random_df, [train_size, test_size])\n",
    "\n",
    "dl_test = DataLoader(val_set,\n",
    "                     batch_size=batch_size,\n",
    "                     num_workers=num_workers,\n",
    "                     shuffle=False,\n",
    "                     worker_init_fn = lambda id: np.random.seed(id)\n",
    "                    )"
   ]
  },
  {
   "cell_type": "code",
   "execution_count": null,
   "id": "073263c8-c4c2-469a-bc5f-b98de5b5f57a",
   "metadata": {
    "execution": {
     "iopub.status.busy": "2023-11-03T11:31:49.548898Z",
     "iopub.status.idle": "2023-11-03T11:31:49.549119Z",
     "shell.execute_reply": "2023-11-03T11:31:49.549019Z",
     "shell.execute_reply.started": "2023-11-03T11:31:49.549008Z"
    },
    "tags": []
   },
   "outputs": [],
   "source": [
    "# Draw raw correlation plot\n",
    "def correlation_plot(pred_df, mode_comment, set_seq, epoch):\n",
    "    plt.figure(frameon=False, figsize=(8,6))\n",
    "    mse = ((pred_df.mass_center - pred_df.pred_score) ** 2).mean()\n",
    "    rmse = ((pred_df.mass_center - pred_df.pred_score) ** 2).mean() ** 0.5\n",
    "    g = sns.jointplot(data=pred_df, x=\"pred_score\", y=\"mass_center\", kind=\"hex\", xlim = (1.5,3.5))\n",
    "    g.fig.suptitle(f'{CELL_TYPE_FILTER}, 3UTR')\n",
    "\n",
    "    # Draw a line of x=y \n",
    "    x0, x1 = g.ax_joint.get_xlim()\n",
    "    y0, y1 = g.ax_joint.get_ylim()\n",
    "    lims = [max(x0, y0), min(x1, y1)]\n",
    "    g.ax_joint.plot(lims, lims, '-k')   \n",
    "    \n",
    "    Sp_cor = round(stats.spearmanr(pred_df.mass_center, pred_df.pred_score)[0], 3)\n",
    "    P_cor= round(stats.pearsonr(pred_df.mass_center, pred_df.pred_score)[0], 3)\n",
    "    g.fig.text(0.2,0.6,\n",
    "            f\"$\\\\rho$ = {Sp_cor:.04f}\\n\" +\n",
    "            f\"r = {P_cor:.04f}\\n\" \n",
    "            f\"MSE = {mse:.04f}\\n\" \n",
    "            # # f\"RMSE = {rmse:.04f}\\n\"\n",
    "            )\n",
    "    g.fig.text(1, 0.5,\n",
    "            f\"steps = {steps:d}\\n\" +\n",
    "            mode_comment + f'\\nuniq seq: {set_seq} from {len(pred_df.pred_score)}')    \n",
    "    g.ax_joint.set_xlabel('Pred')\n",
    "    g.ax_joint.set_ylabel('Target')\n",
    "    uniq = set_seq / len(pred_df.pred_score)\n",
    "    if P_cor >= 0.5 and uniq > 0.98 : \n",
    "        plt.savefig(f'./tuning/utr3/{CELL_TYPE_FILTER}/P_{P_cor}_epoch{epoch}.svg', bbox_inches=\"tight\")\n",
    "    plt.tight_layout()\n",
    "    plt.show()\n",
    "    \n",
    "    return Sp_cor, P_cor, uniq\n"
   ]
  },
  {
   "cell_type": "code",
   "execution_count": null,
   "id": "ab5f26d1",
   "metadata": {
    "execution": {
     "iopub.status.busy": "2023-11-03T11:31:49.550330Z",
     "iopub.status.idle": "2023-11-03T11:31:49.550624Z",
     "shell.execute_reply": "2023-11-03T11:31:49.550490Z",
     "shell.execute_reply.started": "2023-11-03T11:31:49.550475Z"
    },
    "tags": []
   },
   "outputs": [],
   "source": [
    "from itertools import permutations\n",
    "ALLPERM = torch.tensor(list(permutations((0, 1, 2, 3))))\n",
    "ALLPERM\n",
    "\n",
    "# diffusion-like sampling\n",
    "\n",
    "def mutagenesisv2_(seqs, maxmut):\n",
    "    batchsize = seqs.shape[0]\n",
    "    seqlen = seqs.shape[2]\n",
    "    muts = torch.full((batchsize,), maxmut)\n",
    "    indexx = torch.arange(batchsize)\n",
    "    mut_positions = torch.zeros(batchsize, seqlen, dtype=bool)\n",
    "    for i in range(maxmut):\n",
    "        single_positions = torch.randint(high=seqlen, size=(batchsize,))\n",
    "        mut_positions[indexx, single_positions] |= muts > i\n",
    "\n",
    "    mut_positions = mut_positions[:,None,:].broadcast_to(seqs.shape)\n",
    "    x = seqs.permute(2, 0, 1)[mut_positions.permute(2, 0, 1)]\n",
    "    mut_number = x.shape[0] // 4\n",
    "    \n",
    "    myperm = torch.randint(high=ALLPERM.shape[0], size=(mut_number,))\n",
    "    myperm = (ALLPERM[myperm] + torch.arange(mut_number)[:,None] * 4).ravel()\n",
    "    \n",
    "    seqs.permute(2, 0, 1)[mut_positions.permute(2, 0, 1)] = x[myperm]\n",
    "    \n"
   ]
  },
  {
   "cell_type": "code",
   "execution_count": null,
   "id": "0a8ec73e",
   "metadata": {
    "execution": {
     "iopub.status.busy": "2023-11-03T11:31:49.551685Z",
     "iopub.status.idle": "2023-11-03T11:31:49.551976Z",
     "shell.execute_reply": "2023-11-03T11:31:49.551842Z",
     "shell.execute_reply.started": "2023-11-03T11:31:49.551828Z"
    },
    "scrolled": true,
    "tags": []
   },
   "outputs": [],
   "source": [
    "### generate with random scores\n",
    "\n",
    "def predict_float(dl_test, mut_interval, intensities, start, end, nucl_df):    \n",
    "    seqs_batches = []\n",
    "    scores_batches = []\n",
    "    with torch.no_grad():\n",
    "        difussion_model.eval()\n",
    "        for data in tqdm(dl_test):\n",
    "            target_nucl = []\n",
    "            seq_batch = data.float().to(device)\n",
    "            score_chanels = seq_batch[:,4:5,:].clone().to(device)\n",
    "            seq_batch = seq_batch[:,:4,:]\n",
    "            target_score = torch.FloatTensor(seq_batch.shape[0], 1, 1).uniform_(start, end).to(device)\n",
    "            for score in target_score:\n",
    "                index = nucl_df.mass_center.searchsorted(score.cpu().numpy())[0][0]-1\n",
    "                target_nucl.append(nucl_df[['A', 'C', 'G', 'T']].iloc[index])\n",
    "            target_nucl = torch.broadcast_to(torch.tensor(target_nucl)[:,:,None], [target_score.shape[0], 4, seq_len]).to(device)\n",
    "            target_score = target_score.to(device)\n",
    "            for intens, muts, in zip(intensities, mut_interval):\n",
    "                tmp = torch.broadcast_to(target_score, (target_score.shape[0], 1, seq_len))\n",
    "                seq_batch = torch.concat((seq_batch.to(device), tmp.to(device), torch.full_like(score_chanels, intens).to(device), target_nucl.to(device)), dim=1)\n",
    "                seq_batch = difussion_model(seq_batch.float())\n",
    "                seq_batch = torch.softmax(seq_batch, dim=1) \n",
    "                mutagenesisv2_(seq_batch, muts)\n",
    "            seqs_batches.append(seq_batch.cpu().numpy()) \n",
    "            scores_batches.append((target_score.squeeze()).cpu().numpy())\n",
    "        return seqs_batches, scores_batches\n",
    "\n"
   ]
  },
  {
   "cell_type": "code",
   "execution_count": null,
   "id": "d9297d57-3b86-4611-bbe4-9b7c99362970",
   "metadata": {
    "execution": {
     "iopub.status.busy": "2023-11-03T11:31:49.552983Z",
     "iopub.status.idle": "2023-11-03T11:31:49.553279Z",
     "shell.execute_reply": "2023-11-03T11:31:49.553139Z",
     "shell.execute_reply.started": "2023-11-03T11:31:49.553125Z"
    },
    "tags": []
   },
   "outputs": [],
   "source": [
    "start = 1.8\n",
    "end = 3.2\n",
    "\n",
    "steps = 149 # (empirically chosen)\n",
    "m_i_start, m_i_end = 149, 0 # number of introduced mutations (empirically chosen)\n",
    "in_start, in_end = 150, 1 # number of mutations in channel (empirically chosen)"
   ]
  },
  {
   "cell_type": "code",
   "execution_count": null,
   "id": "11f1e47b",
   "metadata": {
    "execution": {
     "iopub.status.busy": "2023-11-03T11:31:49.554226Z",
     "iopub.status.idle": "2023-11-03T11:31:49.554507Z",
     "shell.execute_reply": "2023-11-03T11:31:49.554378Z",
     "shell.execute_reply.started": "2023-11-03T11:31:49.554364Z"
    },
    "scrolled": true,
    "tags": []
   },
   "outputs": [],
   "source": [
    "mut_interval = np.linspace(m_i_start, m_i_end, steps).round().astype(\"int\")\n",
    "intensities = np.linspace(in_start, in_end, steps).round().astype(\"int\")\n",
    "\n",
    "seqs, scores_batches = predict_float(dl_test, mut_interval, intensities, start, end, subdf)\n",
    "\n"
   ]
  },
  {
   "cell_type": "code",
   "execution_count": null,
   "id": "64a1650a-7355-45ff-a921-16ae893e8d7e",
   "metadata": {
    "execution": {
     "iopub.status.busy": "2023-11-03T11:31:49.555539Z",
     "iopub.status.idle": "2023-11-03T11:31:49.556034Z",
     "shell.execute_reply": "2023-11-03T11:31:49.555898Z",
     "shell.execute_reply.started": "2023-11-03T11:31:49.555884Z"
    },
    "tags": []
   },
   "outputs": [],
   "source": [
    "given_expression = np.concatenate(scores_batches)\n",
    "decoded_seq  = torch.tensor(np.concatenate(seqs)).argmax(axis=1).cpu().numpy()\n",
    "\n",
    "encoded_seqs = [''.join([id2n(n) for n in seq]) for seq in decoded_seq]\n",
    "cell_type = np.full((len(encoded_seqs), ), CELL_TYPE_FILTER).tolist()\n",
    "fold = np.full((len(encoded_seqs), ), 'val').tolist()\n",
    "count = np.full((len(encoded_seqs), ), 1).tolist()\n",
    "diff = np.full((len(encoded_seqs), ), None).tolist()\n",
    "replicates = np.full((len(encoded_seqs), ), 1).tolist()\n",
    "\n",
    "pred_df = pd.DataFrame({'seq': encoded_seqs, 'cell_type': cell_type, 'fold' :fold,'replicate' :replicates, 'mass_center': given_expression, 'diff':diff})"
   ]
  },
  {
   "cell_type": "code",
   "execution_count": null,
   "id": "87e1e02a-3cb6-441d-8daa-35ed56f4bafd",
   "metadata": {
    "execution": {
     "iopub.status.busy": "2023-11-03T11:31:49.556735Z",
     "iopub.status.idle": "2023-11-03T11:31:49.557143Z",
     "shell.execute_reply": "2023-11-03T11:31:49.557004Z",
     "shell.execute_reply.started": "2023-11-03T11:31:49.556989Z"
    },
    "tags": []
   },
   "outputs": [],
   "source": [
    "pred_df_val = dataset.UTRData(\n",
    "    df=pred_df,\n",
    "    augment=False,\n",
    "    augment_test_time=False,\n",
    "    augment_kws=dict(\n",
    "        extend_left=0,\n",
    "        extend_right=0,\n",
    "        shift_left=0,\n",
    "        shift_right=0,\n",
    "        revcomp=False,\n",
    "                    ),\n",
    "    features=(\"sequence\", \"positional\", \"conditions\"),  # (\"sequence\", \"conditions\", \"positional\", \"revcomp\")\n",
    "    construct_type=\"utr3\"\n",
    "            )\n",
    " \n",
    "\n",
    "pred_dl = DataLoader(\n",
    "        pred_df_val,\n",
    "        batch_size=batch_size,\n",
    "        num_workers=num_workers,\n",
    "        shuffle=False,\n",
    "        drop_last=False\n",
    "                            )\n",
    "\n",
    "trainer = pl.Trainer(\n",
    "        accelerator=\"gpu\",\n",
    "        devices=[1],)\n",
    "\n",
    "\n",
    "\n",
    "pred_score = trainer.predict(model=predictor, dataloaders=pred_dl)\n"
   ]
  },
  {
   "cell_type": "code",
   "execution_count": null,
   "id": "8d804902-cea1-464b-9342-a7af69eedbda",
   "metadata": {
    "execution": {
     "iopub.status.busy": "2023-11-03T11:31:49.557895Z",
     "iopub.status.idle": "2023-11-03T11:31:49.558367Z",
     "shell.execute_reply": "2023-11-03T11:31:49.558249Z",
     "shell.execute_reply.started": "2023-11-03T11:31:49.558237Z"
    },
    "tags": []
   },
   "outputs": [],
   "source": [
    "pred_df['pred_score'] = np.concatenate(pred_score)[:,1]\n",
    "pred_df['pred_diff'] = np.concatenate(pred_score)[:,0]\n",
    "pred_df = pred_df.drop(['fold', 'replicate','diff'], axis=1)"
   ]
  },
  {
   "cell_type": "code",
   "execution_count": null,
   "id": "8de11bd8-5cf5-4a90-99de-2dd295d45d8f",
   "metadata": {
    "tags": []
   },
   "outputs": [],
   "source": [
    "PATH = f'./generated/cell_{CELL_TYPE_FILTER}_epoch_{epoch}_3UTR.csv'\n",
    "pred_df.to_csv(PATH, index=False)"
   ]
  },
  {
   "cell_type": "markdown",
   "id": "2c5df1f9-fc8d-4057-a1fa-17fcb8641f98",
   "metadata": {},
   "source": [
    "----------------"
   ]
  }
 ],
 "metadata": {
  "kernelspec": {
   "display_name": "Python [conda env:ml]",
   "language": "python",
   "name": "conda-env-ml-py"
  },
  "language_info": {
   "codemirror_mode": {
    "name": "ipython",
    "version": 3
   },
   "file_extension": ".py",
   "mimetype": "text/x-python",
   "name": "python",
   "nbconvert_exporter": "python",
   "pygments_lexer": "ipython3",
   "version": "3.10.10"
  }
 },
 "nbformat": 4,
 "nbformat_minor": 5
}

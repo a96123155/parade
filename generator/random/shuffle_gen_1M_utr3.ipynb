{
 "cells": [
  {
   "cell_type": "code",
   "execution_count": 1,
   "id": "b8f45815",
   "metadata": {
    "execution": {
     "iopub.execute_input": "2023-08-09T10:09:48.210864Z",
     "iopub.status.busy": "2023-08-09T10:09:48.210030Z",
     "iopub.status.idle": "2023-08-09T10:09:50.445141Z",
     "shell.execute_reply": "2023-08-09T10:09:50.444437Z",
     "shell.execute_reply.started": "2023-08-09T10:09:48.210818Z"
    },
    "tags": []
   },
   "outputs": [],
   "source": [
    "import sys\n",
    "\n",
    "from collections import defaultdict\n",
    "\n",
    "import numpy as np\n",
    "import pandas as pd\n",
    "import scipy.stats as ss\n",
    "import matplotlib as mpl\n",
    "import matplotlib.pyplot as plt\n",
    "import seaborn as sns\n",
    "\n",
    "from tqdm.auto import tqdm as tqdm_auto\n",
    "from tqdm.notebook import tqdm\n",
    "\n",
    "import torch\n",
    "import torch.nn as nn\n",
    "import torch.nn.functional as F\n",
    "import torch.optim as optim\n",
    "from torch.utils.data import DataLoader\n",
    "import pytorch_lightning as pl"
   ]
  },
  {
   "cell_type": "code",
   "execution_count": 2,
   "id": "10d6b422-f855-467f-b352-3c901ffafc6f",
   "metadata": {
    "execution": {
     "iopub.execute_input": "2023-08-09T10:09:51.844001Z",
     "iopub.status.busy": "2023-08-09T10:09:51.843118Z",
     "iopub.status.idle": "2023-08-09T10:09:51.850396Z",
     "shell.execute_reply": "2023-08-09T10:09:51.849404Z",
     "shell.execute_reply.started": "2023-08-09T10:09:51.843953Z"
    },
    "tags": []
   },
   "outputs": [],
   "source": [
    "tqdm.pandas()"
   ]
  },
  {
   "cell_type": "code",
   "execution_count": 3,
   "id": "54826b8b-809f-40b7-919c-6e005e21007d",
   "metadata": {
    "execution": {
     "iopub.execute_input": "2023-08-09T10:09:51.855092Z",
     "iopub.status.busy": "2023-08-09T10:09:51.854937Z",
     "iopub.status.idle": "2023-08-09T10:09:51.858156Z",
     "shell.execute_reply": "2023-08-09T10:09:51.857701Z",
     "shell.execute_reply.started": "2023-08-09T10:09:51.855078Z"
    },
    "tags": []
   },
   "outputs": [],
   "source": [
    "sys.path.append(\"../verification/\")\n",
    "from shuffle_dinucl import shuffle_seq, shuffle_seq_dinucl"
   ]
  },
  {
   "cell_type": "code",
   "execution_count": 4,
   "id": "402061e1-f71b-4007-b150-73a4eece3ade",
   "metadata": {
    "execution": {
     "iopub.execute_input": "2023-08-09T10:09:52.066365Z",
     "iopub.status.busy": "2023-08-09T10:09:52.065438Z",
     "iopub.status.idle": "2023-08-09T10:09:52.073747Z",
     "shell.execute_reply": "2023-08-09T10:09:52.073112Z",
     "shell.execute_reply.started": "2023-08-09T10:09:52.066318Z"
    },
    "tags": []
   },
   "outputs": [],
   "source": [
    "sys.path.append(\"../../regression_multiple\")\n",
    "import dataset_regression as utrdata\n",
    "from lit_regressor import RNARegressor"
   ]
  },
  {
   "cell_type": "markdown",
   "id": "6e499667-0eae-4e02-8908-5b1344c4032c",
   "metadata": {},
   "source": [
    "## Creating dataset"
   ]
  },
  {
   "cell_type": "code",
   "execution_count": 5,
   "id": "90474acf-ffd6-451a-acf5-b9ab8423d219",
   "metadata": {
    "execution": {
     "iopub.execute_input": "2023-08-09T10:09:52.786360Z",
     "iopub.status.busy": "2023-08-09T10:09:52.785181Z",
     "iopub.status.idle": "2023-08-09T10:09:52.791519Z",
     "shell.execute_reply": "2023-08-09T10:09:52.790384Z",
     "shell.execute_reply.started": "2023-08-09T10:09:52.786311Z"
    },
    "tags": []
   },
   "outputs": [],
   "source": [
    "SEQUENCE_N = 1_000_000"
   ]
  },
  {
   "cell_type": "code",
   "execution_count": 6,
   "id": "463447f6-c50f-4eb5-b5cb-5ad1efa0bca8",
   "metadata": {
    "execution": {
     "iopub.execute_input": "2023-08-09T10:09:53.737634Z",
     "iopub.status.busy": "2023-08-09T10:09:53.736491Z",
     "iopub.status.idle": "2023-08-09T10:09:53.744401Z",
     "shell.execute_reply": "2023-08-09T10:09:53.743482Z",
     "shell.execute_reply.started": "2023-08-09T10:09:53.737585Z"
    },
    "tags": []
   },
   "outputs": [],
   "source": [
    "CELLTYPE_CODES_UTR3 = {\"c1\": 0,\n",
    "                       \"c2\": 1,\n",
    "                       \"c4\": 2,\n",
    "                       \"c6\": 3,\n",
    "                       \"c17\": 4,\n",
    "                       \"c13\": 5,\n",
    "                       #\"c10\": 6\n",
    "                      }\n",
    "\n",
    "CELLTYPE_CODES_UTR5 = {\"c1\": 0,\n",
    "                       \"c2\": 1,\n",
    "                       \"c4\": 2,\n",
    "                       \"c6\": 3,\n",
    "                       \"c17\": 4}"
   ]
  },
  {
   "cell_type": "code",
   "execution_count": 7,
   "id": "9f9ec64e-4907-4308-bc39-06737f5fd7b7",
   "metadata": {
    "execution": {
     "iopub.execute_input": "2023-08-09T10:10:38.592791Z",
     "iopub.status.busy": "2023-08-09T10:10:38.591850Z",
     "iopub.status.idle": "2023-08-09T10:10:39.242994Z",
     "shell.execute_reply": "2023-08-09T10:10:39.242323Z",
     "shell.execute_reply.started": "2023-08-09T10:10:38.592743Z"
    },
    "tags": []
   },
   "outputs": [
    {
     "data": {
      "text/plain": [
       "0         TGCAGTTTTGACCTCCCAGGCTCAAGCGATCCTCCTGCCTCAGCCT...\n",
       "11        ATCAAAAAGCAGGCCAGATTCTAATCAAAATCAGGTAAATTTTAAT...\n",
       "22        ATTTTAGTTTGCCCAAATAATATCTTGAAAATGCTCTGAATTTTAC...\n",
       "33        TTTCCCTTTTTCCCTCCCTCTATTCTCTTCACTAACATTGGAAATT...\n",
       "44        TTCCTTCAGAGAATTCTCCTTTTCTTCTATGTTTCTGACTGCAATA...\n",
       "                                ...                        \n",
       "312631    AATGGTAAAGATTTTTACTCAGTGTGTGCTGAAACACTAAATTAAA...\n",
       "312642    GCTAAAGCATTGCTTATTCAGTGGTATTCAGTAGATAAGATCTATT...\n",
       "312653    TGTGCTTCCTAAGAGTACAAACCTGAGCATATGTCCAGGCTTGCAA...\n",
       "312664    TAGGTGGTGATCTTAAATGGGTGAGATGGAACGAGAGCACACATTA...\n",
       "312675    AGGAGGCAACTGTGGCATTGCTTCCTTAACCAGCTCATGGTGTGTG...\n",
       "Name: seq, Length: 28426, dtype: object"
      ]
     },
     "execution_count": 7,
     "metadata": {},
     "output_type": "execute_result"
    }
   ],
   "source": [
    "#src_seqs = pd.Series(pd.read_csv(\"../../data/raw/UTR5_sequence_counts_05_23_23.tsv\", sep=\"\\t\", index_col=0, header=[0, 1, 2]).index.values)\n",
    "src_seqs = pd.read_csv(\"../../data/UTR3_zinb_norm_singleref_2023-05-23.csv\")[\"seq\"].drop_duplicates()\n",
    "src_seqs"
   ]
  },
  {
   "cell_type": "code",
   "execution_count": 8,
   "id": "f738b6d2-ccd0-4942-ae29-7ecc86b5f059",
   "metadata": {
    "execution": {
     "iopub.execute_input": "2023-08-09T10:10:40.241049Z",
     "iopub.status.busy": "2023-08-09T10:10:40.240355Z",
     "iopub.status.idle": "2023-08-09T10:17:59.136989Z",
     "shell.execute_reply": "2023-08-09T10:17:59.136280Z",
     "shell.execute_reply.started": "2023-08-09T10:10:40.240996Z"
    },
    "tags": []
   },
   "outputs": [
    {
     "data": {
      "application/vnd.jupyter.widget-view+json": {
       "model_id": "0078fa5fc87341aeafb65499e2eebe5a",
       "version_major": 2,
       "version_minor": 0
      },
      "text/plain": [
       "  0%|          | 0/1000000 [00:00<?, ?it/s]"
      ]
     },
     "metadata": {},
     "output_type": "display_data"
    },
    {
     "data": {
      "application/vnd.jupyter.widget-view+json": {
       "model_id": "b3cfcda9a08b4b58b3e72d489172f4eb",
       "version_major": 2,
       "version_minor": 0
      },
      "text/plain": [
       "  0%|          | 0/1000000 [00:00<?, ?it/s]"
      ]
     },
     "metadata": {},
     "output_type": "display_data"
    }
   ],
   "source": [
    "np.random.seed(777)\n",
    "sampled = src_seqs.sample(SEQUENCE_N, replace=True)\n",
    "mononucl_shuffle = sampled.progress_apply(shuffle_seq)\n",
    "dinucl_shuffle = sampled.progress_apply(shuffle_seq_dinucl)"
   ]
  },
  {
   "cell_type": "code",
   "execution_count": 9,
   "id": "aab7f485-2c96-4afd-896e-a359e55e0968",
   "metadata": {
    "execution": {
     "iopub.execute_input": "2023-08-09T10:17:59.138381Z",
     "iopub.status.busy": "2023-08-09T10:17:59.138216Z",
     "iopub.status.idle": "2023-08-09T10:17:59.493156Z",
     "shell.execute_reply": "2023-08-09T10:17:59.492658Z",
     "shell.execute_reply.started": "2023-08-09T10:17:59.138364Z"
    },
    "tags": []
   },
   "outputs": [
    {
     "data": {
      "text/html": [
       "<div>\n",
       "<style scoped>\n",
       "    .dataframe tbody tr th:only-of-type {\n",
       "        vertical-align: middle;\n",
       "    }\n",
       "\n",
       "    .dataframe tbody tr th {\n",
       "        vertical-align: top;\n",
       "    }\n",
       "\n",
       "    .dataframe thead th {\n",
       "        text-align: right;\n",
       "    }\n",
       "</style>\n",
       "<table border=\"1\" class=\"dataframe\">\n",
       "  <thead>\n",
       "    <tr style=\"text-align: right;\">\n",
       "      <th></th>\n",
       "      <th>seq</th>\n",
       "      <th>shuffle</th>\n",
       "    </tr>\n",
       "  </thead>\n",
       "  <tbody>\n",
       "    <tr>\n",
       "      <th>0</th>\n",
       "      <td>GAATGAAACGAATATAACTACTAATTAACTATATTAATTCTTTTAA...</td>\n",
       "      <td>mono</td>\n",
       "    </tr>\n",
       "    <tr>\n",
       "      <th>1</th>\n",
       "      <td>TTCACGTCTCGTTTATGCAGCCATTGTACTTTGACTTGTGAATAAG...</td>\n",
       "      <td>mono</td>\n",
       "    </tr>\n",
       "    <tr>\n",
       "      <th>2</th>\n",
       "      <td>CTATATACAGTCCACGATCTTTTTCCTGGATTTACCTCAGACTAAT...</td>\n",
       "      <td>mono</td>\n",
       "    </tr>\n",
       "    <tr>\n",
       "      <th>3</th>\n",
       "      <td>AATCCAAGGGCACCGAGGAAATCGGCCCCCCTGAGAAAACTCCACG...</td>\n",
       "      <td>mono</td>\n",
       "    </tr>\n",
       "    <tr>\n",
       "      <th>4</th>\n",
       "      <td>GAATATCCAGCGTGTGATCGGCATCTGTTGCTTGTATAAAATTAGA...</td>\n",
       "      <td>mono</td>\n",
       "    </tr>\n",
       "    <tr>\n",
       "      <th>...</th>\n",
       "      <td>...</td>\n",
       "      <td>...</td>\n",
       "    </tr>\n",
       "    <tr>\n",
       "      <th>1999995</th>\n",
       "      <td>GGGCTTGTAATGTCCTAATCAGAAAGTTAGAGACCCCCTCGAGTTC...</td>\n",
       "      <td>di</td>\n",
       "    </tr>\n",
       "    <tr>\n",
       "      <th>1999996</th>\n",
       "      <td>GTCCAGCAATCTGTGGTCCTTTAATCAACCCACCAGGCCTGGTCCA...</td>\n",
       "      <td>di</td>\n",
       "    </tr>\n",
       "    <tr>\n",
       "      <th>1999997</th>\n",
       "      <td>GCATTTATGTCAAATGATAAAAAACCTCATGGTTGACTAAGCTACT...</td>\n",
       "      <td>di</td>\n",
       "    </tr>\n",
       "    <tr>\n",
       "      <th>1999998</th>\n",
       "      <td>ACTGGTGCATTGTGTATTCCATCTGAACTGCCATTAGGTCAGCAAG...</td>\n",
       "      <td>di</td>\n",
       "    </tr>\n",
       "    <tr>\n",
       "      <th>1999999</th>\n",
       "      <td>ATGGACCATTACCCGCCGACCTGTTCTTTGGCGGATAAATTTTAGG...</td>\n",
       "      <td>di</td>\n",
       "    </tr>\n",
       "  </tbody>\n",
       "</table>\n",
       "<p>2000000 rows × 2 columns</p>\n",
       "</div>"
      ],
      "text/plain": [
       "                                                       seq shuffle\n",
       "0        GAATGAAACGAATATAACTACTAATTAACTATATTAATTCTTTTAA...    mono\n",
       "1        TTCACGTCTCGTTTATGCAGCCATTGTACTTTGACTTGTGAATAAG...    mono\n",
       "2        CTATATACAGTCCACGATCTTTTTCCTGGATTTACCTCAGACTAAT...    mono\n",
       "3        AATCCAAGGGCACCGAGGAAATCGGCCCCCCTGAGAAAACTCCACG...    mono\n",
       "4        GAATATCCAGCGTGTGATCGGCATCTGTTGCTTGTATAAAATTAGA...    mono\n",
       "...                                                    ...     ...\n",
       "1999995  GGGCTTGTAATGTCCTAATCAGAAAGTTAGAGACCCCCTCGAGTTC...      di\n",
       "1999996  GTCCAGCAATCTGTGGTCCTTTAATCAACCCACCAGGCCTGGTCCA...      di\n",
       "1999997  GCATTTATGTCAAATGATAAAAAACCTCATGGTTGACTAAGCTACT...      di\n",
       "1999998  ACTGGTGCATTGTGTATTCCATCTGAACTGCCATTAGGTCAGCAAG...      di\n",
       "1999999  ATGGACCATTACCCGCCGACCTGTTCTTTGGCGGATAAATTTTAGG...      di\n",
       "\n",
       "[2000000 rows x 2 columns]"
      ]
     },
     "execution_count": 9,
     "metadata": {},
     "output_type": "execute_result"
    }
   ],
   "source": [
    "seqs = pd.concat([pd.DataFrame({\"seq\": mononucl_shuffle, \"shuffle\": \"mono\"}), \n",
    "                  pd.DataFrame({\"seq\": dinucl_shuffle, \"shuffle\": \"di\"})]).reset_index(drop=True)\n",
    "seqs"
   ]
  },
  {
   "cell_type": "code",
   "execution_count": 10,
   "id": "c2974362-6127-4b91-a413-5cfecae95414",
   "metadata": {
    "execution": {
     "iopub.execute_input": "2023-08-09T10:17:59.493927Z",
     "iopub.status.busy": "2023-08-09T10:17:59.493780Z",
     "iopub.status.idle": "2023-08-09T10:18:25.687532Z",
     "shell.execute_reply": "2023-08-09T10:18:25.686854Z",
     "shell.execute_reply.started": "2023-08-09T10:17:59.493915Z"
    },
    "tags": []
   },
   "outputs": [
    {
     "data": {
      "text/html": [
       "<div>\n",
       "<style scoped>\n",
       "    .dataframe tbody tr th:only-of-type {\n",
       "        vertical-align: middle;\n",
       "    }\n",
       "\n",
       "    .dataframe tbody tr th {\n",
       "        vertical-align: top;\n",
       "    }\n",
       "\n",
       "    .dataframe thead th {\n",
       "        text-align: right;\n",
       "    }\n",
       "</style>\n",
       "<table border=\"1\" class=\"dataframe\">\n",
       "  <thead>\n",
       "    <tr style=\"text-align: right;\">\n",
       "      <th></th>\n",
       "      <th>seq</th>\n",
       "      <th>shuffle</th>\n",
       "      <th>cell_type</th>\n",
       "    </tr>\n",
       "  </thead>\n",
       "  <tbody>\n",
       "    <tr>\n",
       "      <th>0</th>\n",
       "      <td>AAAAAAAAAAAAAAAGTTCTTTGTAGGACAAACCAGGCATCTTGGA...</td>\n",
       "      <td>di</td>\n",
       "      <td>c1</td>\n",
       "    </tr>\n",
       "    <tr>\n",
       "      <th>1</th>\n",
       "      <td>AAAAAAAAAAAAAAAGTTCTTTGTAGGACAAACCAGGCATCTTGGA...</td>\n",
       "      <td>di</td>\n",
       "      <td>c13</td>\n",
       "    </tr>\n",
       "    <tr>\n",
       "      <th>2</th>\n",
       "      <td>AAAAAAAAAAAAAAAGTTCTTTGTAGGACAAACCAGGCATCTTGGA...</td>\n",
       "      <td>di</td>\n",
       "      <td>c17</td>\n",
       "    </tr>\n",
       "    <tr>\n",
       "      <th>3</th>\n",
       "      <td>AAAAAAAAAAAAAAAGTTCTTTGTAGGACAAACCAGGCATCTTGGA...</td>\n",
       "      <td>di</td>\n",
       "      <td>c2</td>\n",
       "    </tr>\n",
       "    <tr>\n",
       "      <th>4</th>\n",
       "      <td>AAAAAAAAAAAAAAAGTTCTTTGTAGGACAAACCAGGCATCTTGGA...</td>\n",
       "      <td>di</td>\n",
       "      <td>c4</td>\n",
       "    </tr>\n",
       "    <tr>\n",
       "      <th>...</th>\n",
       "      <td>...</td>\n",
       "      <td>...</td>\n",
       "      <td>...</td>\n",
       "    </tr>\n",
       "    <tr>\n",
       "      <th>11999995</th>\n",
       "      <td>TTTTTTTTTTTTTATCGCGATTCTATTTTTATGTTTCTTTGAAACA...</td>\n",
       "      <td>mono</td>\n",
       "      <td>c13</td>\n",
       "    </tr>\n",
       "    <tr>\n",
       "      <th>11999996</th>\n",
       "      <td>TTTTTTTTTTTTTATCGCGATTCTATTTTTATGTTTCTTTGAAACA...</td>\n",
       "      <td>mono</td>\n",
       "      <td>c17</td>\n",
       "    </tr>\n",
       "    <tr>\n",
       "      <th>11999997</th>\n",
       "      <td>TTTTTTTTTTTTTATCGCGATTCTATTTTTATGTTTCTTTGAAACA...</td>\n",
       "      <td>mono</td>\n",
       "      <td>c2</td>\n",
       "    </tr>\n",
       "    <tr>\n",
       "      <th>11999998</th>\n",
       "      <td>TTTTTTTTTTTTTATCGCGATTCTATTTTTATGTTTCTTTGAAACA...</td>\n",
       "      <td>mono</td>\n",
       "      <td>c4</td>\n",
       "    </tr>\n",
       "    <tr>\n",
       "      <th>11999999</th>\n",
       "      <td>TTTTTTTTTTTTTATCGCGATTCTATTTTTATGTTTCTTTGAAACA...</td>\n",
       "      <td>mono</td>\n",
       "      <td>c6</td>\n",
       "    </tr>\n",
       "  </tbody>\n",
       "</table>\n",
       "<p>12000000 rows × 3 columns</p>\n",
       "</div>"
      ],
      "text/plain": [
       "                                                        seq shuffle cell_type\n",
       "0         AAAAAAAAAAAAAAAGTTCTTTGTAGGACAAACCAGGCATCTTGGA...      di        c1\n",
       "1         AAAAAAAAAAAAAAAGTTCTTTGTAGGACAAACCAGGCATCTTGGA...      di       c13\n",
       "2         AAAAAAAAAAAAAAAGTTCTTTGTAGGACAAACCAGGCATCTTGGA...      di       c17\n",
       "3         AAAAAAAAAAAAAAAGTTCTTTGTAGGACAAACCAGGCATCTTGGA...      di        c2\n",
       "4         AAAAAAAAAAAAAAAGTTCTTTGTAGGACAAACCAGGCATCTTGGA...      di        c4\n",
       "...                                                     ...     ...       ...\n",
       "11999995  TTTTTTTTTTTTTATCGCGATTCTATTTTTATGTTTCTTTGAAACA...    mono       c13\n",
       "11999996  TTTTTTTTTTTTTATCGCGATTCTATTTTTATGTTTCTTTGAAACA...    mono       c17\n",
       "11999997  TTTTTTTTTTTTTATCGCGATTCTATTTTTATGTTTCTTTGAAACA...    mono        c2\n",
       "11999998  TTTTTTTTTTTTTATCGCGATTCTATTTTTATGTTTCTTTGAAACA...    mono        c4\n",
       "11999999  TTTTTTTTTTTTTATCGCGATTCTATTTTTATGTTTCTTTGAAACA...    mono        c6\n",
       "\n",
       "[12000000 rows x 3 columns]"
      ]
     },
     "execution_count": 10,
     "metadata": {},
     "output_type": "execute_result"
    }
   ],
   "source": [
    "df = []\n",
    "for ct_code in CELLTYPE_CODES_UTR3.keys():\n",
    "    subdf = seqs.copy()\n",
    "    subdf[\"cell_type\"] = ct_code\n",
    "    df.append(subdf)\n",
    "df = pd.concat(df).sort_values(by=[\"shuffle\", \"seq\", \"cell_type\"]).reset_index(drop=True)\n",
    "df"
   ]
  },
  {
   "cell_type": "code",
   "execution_count": 11,
   "id": "1769c4d1-ff0f-40ab-8643-e3e7544082d1",
   "metadata": {
    "execution": {
     "iopub.execute_input": "2023-08-09T10:18:25.688966Z",
     "iopub.status.busy": "2023-08-09T10:18:25.688798Z",
     "iopub.status.idle": "2023-08-09T10:18:25.717336Z",
     "shell.execute_reply": "2023-08-09T10:18:25.716533Z",
     "shell.execute_reply.started": "2023-08-09T10:18:25.688949Z"
    },
    "tags": []
   },
   "outputs": [],
   "source": [
    "df[\"diff\"] = 0.0\n",
    "df[\"mass_center\"] = 0.0"
   ]
  },
  {
   "cell_type": "code",
   "execution_count": 12,
   "id": "ec976669-ec8f-418b-81af-ac737735da83",
   "metadata": {
    "execution": {
     "iopub.execute_input": "2023-08-09T10:18:25.717867Z",
     "iopub.status.busy": "2023-08-09T10:18:25.717741Z",
     "iopub.status.idle": "2023-08-09T10:18:25.720770Z",
     "shell.execute_reply": "2023-08-09T10:18:25.720272Z",
     "shell.execute_reply.started": "2023-08-09T10:18:25.717856Z"
    },
    "tags": []
   },
   "outputs": [],
   "source": [
    "batch_size = 1024"
   ]
  },
  {
   "cell_type": "code",
   "execution_count": 13,
   "id": "a8034baf-7f7d-4032-859d-d8f337c2898d",
   "metadata": {
    "execution": {
     "iopub.execute_input": "2023-08-09T10:18:25.721457Z",
     "iopub.status.busy": "2023-08-09T10:18:25.721325Z",
     "iopub.status.idle": "2023-08-09T10:18:25.724017Z",
     "shell.execute_reply": "2023-08-09T10:18:25.723503Z",
     "shell.execute_reply.started": "2023-08-09T10:18:25.721446Z"
    },
    "tags": []
   },
   "outputs": [],
   "source": [
    "num_workers = 32"
   ]
  },
  {
   "cell_type": "code",
   "execution_count": 14,
   "id": "ca58938d-2c03-408a-ac8c-ac8ddf7b8683",
   "metadata": {
    "execution": {
     "iopub.execute_input": "2023-08-09T10:18:25.724749Z",
     "iopub.status.busy": "2023-08-09T10:18:25.724581Z",
     "iopub.status.idle": "2023-08-09T10:46:01.783189Z",
     "shell.execute_reply": "2023-08-09T10:46:01.782430Z",
     "shell.execute_reply.started": "2023-08-09T10:18:25.724734Z"
    },
    "tags": []
   },
   "outputs": [],
   "source": [
    "generated_set = utrdata.UTRData(\n",
    "    df=df,\n",
    "    features=(\"sequence\", \"positional\", \"conditions\"),\n",
    "    construct_type=\"utr3\",\n",
    "    augment=False,\n",
    "    augment_test_time=False,\n",
    "    augment_kws=dict(\n",
    "        extend_left=0,\n",
    "        extend_right=0,\n",
    "        shift_left=0,\n",
    "        shift_right=0,\n",
    "        revcomp=False,\n",
    "    ),\n",
    ")"
   ]
  },
  {
   "cell_type": "code",
   "execution_count": 15,
   "id": "a6dcd172-6d07-4c23-b947-95b009dde9bb",
   "metadata": {
    "execution": {
     "iopub.execute_input": "2023-08-09T10:46:01.784213Z",
     "iopub.status.busy": "2023-08-09T10:46:01.784048Z",
     "iopub.status.idle": "2023-08-09T10:46:01.788859Z",
     "shell.execute_reply": "2023-08-09T10:46:01.788105Z",
     "shell.execute_reply.started": "2023-08-09T10:46:01.784197Z"
    },
    "tags": []
   },
   "outputs": [],
   "source": [
    "# Creating DataLoaders\n",
    "dl_gen = DataLoader(\n",
    "    generated_set,\n",
    "    batch_size=batch_size,\n",
    "    num_workers=num_workers,\n",
    "    shuffle=False,\n",
    "    drop_last=False\n",
    ")"
   ]
  },
  {
   "cell_type": "code",
   "execution_count": 16,
   "id": "a2bf300d-7da1-42e2-9540-8c8e6a879cc0",
   "metadata": {
    "execution": {
     "iopub.execute_input": "2023-08-09T10:46:01.789469Z",
     "iopub.status.busy": "2023-08-09T10:46:01.789320Z",
     "iopub.status.idle": "2023-08-09T10:46:01.792096Z",
     "shell.execute_reply": "2023-08-09T10:46:01.791695Z",
     "shell.execute_reply.started": "2023-08-09T10:46:01.789455Z"
    },
    "tags": []
   },
   "outputs": [],
   "source": [
    "ckpt_path = \"../../regression_multiple/model_validation/model-utr3-deltas-epoch=9-step=1330.ckpt\""
   ]
  },
  {
   "cell_type": "code",
   "execution_count": 17,
   "id": "dcbce462-5d42-4e6f-a241-e6cf00362a95",
   "metadata": {
    "execution": {
     "iopub.execute_input": "2023-08-09T10:46:01.793874Z",
     "iopub.status.busy": "2023-08-09T10:46:01.793472Z",
     "iopub.status.idle": "2023-08-09T11:01:49.394317Z",
     "shell.execute_reply": "2023-08-09T11:01:49.393182Z",
     "shell.execute_reply.started": "2023-08-09T10:46:01.793855Z"
    },
    "scrolled": true,
    "tags": []
   },
   "outputs": [
    {
     "name": "stderr",
     "output_type": "stream",
     "text": [
      "GPU available: True (cuda), used: True\n",
      "TPU available: False, using: 0 TPU cores\n",
      "IPU available: False, using: 0 IPUs\n",
      "HPU available: False, using: 0 HPUs\n",
      "/home/arsen_l/.miniconda3/envs/ml/lib/python3.11/site-packages/pytorch_lightning/utilities/migration/utils.py:49: PossibleUserWarning: The loaded checkpoint was produced with Lightning v2.0.4, which is newer than your current Lightning version: v2.0.2\n",
      "  rank_zero_warn(\n",
      "You are using a CUDA device ('NVIDIA GeForce RTX 3090') that has Tensor Cores. To properly utilize them, you should set `torch.set_float32_matmul_precision('medium' | 'high')` which will trade-off precision for performance. For more details, read https://pytorch.org/docs/stable/generated/torch.set_float32_matmul_precision.html#torch.set_float32_matmul_precision\n",
      "LOCAL_RANK: 0 - CUDA_VISIBLE_DEVICES: [0,1]\n"
     ]
    },
    {
     "data": {
      "application/vnd.jupyter.widget-view+json": {
       "model_id": "b3945eaaf38e476b92df658fa287547c",
       "version_major": 2,
       "version_minor": 0
      },
      "text/plain": [
       "Predicting: 0it [00:00, ?it/s]"
      ]
     },
     "metadata": {},
     "output_type": "display_data"
    }
   ],
   "source": [
    "progressbar_callback = pl.callbacks.TQDMProgressBar(refresh_rate=0.5)\n",
    "trainer = pl.Trainer(\n",
    "    callbacks=[progressbar_callback],\n",
    "    logger=False,\n",
    "    accelerator=\"gpu\",\n",
    "    devices=1,\n",
    "    deterministic=True,\n",
    "    # gradient_clip_val=1e-5,\n",
    "    # gradient_clip_algorithm=\"norm\",\n",
    ")\n",
    "\n",
    "loaded_model = RNARegressor.load_from_checkpoint(ckpt_path)\n",
    "prediction = trainer.predict(model=loaded_model, dataloaders=dl_gen)\n",
    "\n",
    "gen_pred, _ = zip(*prediction)\n",
    "gen_pred = torch.concat(gen_pred)\n",
    "gen_pred = gen_pred.numpy()"
   ]
  },
  {
   "cell_type": "code",
   "execution_count": 18,
   "id": "c7d8dea2-144b-4207-bc4e-b2e346ef1d00",
   "metadata": {
    "execution": {
     "iopub.execute_input": "2023-08-09T11:01:49.395832Z",
     "iopub.status.busy": "2023-08-09T11:01:49.395570Z",
     "iopub.status.idle": "2023-08-09T11:01:49.402376Z",
     "shell.execute_reply": "2023-08-09T11:01:49.401856Z",
     "shell.execute_reply.started": "2023-08-09T11:01:49.395805Z"
    },
    "tags": []
   },
   "outputs": [
    {
     "data": {
      "text/plain": [
       "array([[-0.02643219,  2.4683876 ],\n",
       "       [-0.00552829,  2.5085034 ],\n",
       "       [ 0.06912179,  2.585143  ],\n",
       "       ...,\n",
       "       [ 0.03560264,  2.8178961 ],\n",
       "       [-0.09097424,  2.7718694 ],\n",
       "       [ 0.05196464,  2.8543499 ]], dtype=float32)"
      ]
     },
     "execution_count": 18,
     "metadata": {},
     "output_type": "execute_result"
    }
   ],
   "source": [
    "gen_pred"
   ]
  },
  {
   "cell_type": "code",
   "execution_count": 19,
   "id": "7e652528-1e56-401b-92f7-5b0f708024df",
   "metadata": {
    "execution": {
     "iopub.execute_input": "2023-08-09T11:01:49.403302Z",
     "iopub.status.busy": "2023-08-09T11:01:49.403088Z",
     "iopub.status.idle": "2023-08-09T11:01:50.534046Z",
     "shell.execute_reply": "2023-08-09T11:01:50.533230Z",
     "shell.execute_reply.started": "2023-08-09T11:01:49.403282Z"
    },
    "tags": []
   },
   "outputs": [],
   "source": [
    "score_df = df[[\"seq\", \"shuffle\", \"cell_type\"]].copy()\n",
    "score_df[\"pred_mass_center\"] = gen_pred[:, 1]"
   ]
  },
  {
   "cell_type": "code",
   "execution_count": 21,
   "id": "c5cfc5e0-7131-48a0-a5db-c314cc458f3d",
   "metadata": {
    "execution": {
     "iopub.execute_input": "2023-08-09T11:13:33.863181Z",
     "iopub.status.busy": "2023-08-09T11:13:33.862656Z",
     "iopub.status.idle": "2023-08-09T11:22:25.516887Z",
     "shell.execute_reply": "2023-08-09T11:22:25.515602Z",
     "shell.execute_reply.started": "2023-08-09T11:13:33.863135Z"
    },
    "tags": []
   },
   "outputs": [],
   "source": [
    "score_df.to_csv(\"shuffle_result_utr3.csv.gz\", index=False, compression=\"gzip\")"
   ]
  },
  {
   "cell_type": "code",
   "execution_count": 22,
   "id": "ebcd5cbd-709f-4874-b676-ed37f87b4905",
   "metadata": {
    "execution": {
     "iopub.execute_input": "2023-08-09T11:22:25.518535Z",
     "iopub.status.busy": "2023-08-09T11:22:25.518353Z",
     "iopub.status.idle": "2023-08-09T11:22:44.420488Z",
     "shell.execute_reply": "2023-08-09T11:22:44.419781Z",
     "shell.execute_reply.started": "2023-08-09T11:22:25.518519Z"
    },
    "tags": []
   },
   "outputs": [
    {
     "data": {
      "text/html": [
       "<div>\n",
       "<style scoped>\n",
       "    .dataframe tbody tr th:only-of-type {\n",
       "        vertical-align: middle;\n",
       "    }\n",
       "\n",
       "    .dataframe tbody tr th {\n",
       "        vertical-align: top;\n",
       "    }\n",
       "\n",
       "    .dataframe thead th {\n",
       "        text-align: right;\n",
       "    }\n",
       "</style>\n",
       "<table border=\"1\" class=\"dataframe\">\n",
       "  <thead>\n",
       "    <tr style=\"text-align: right;\">\n",
       "      <th>cell_type</th>\n",
       "      <th>seq</th>\n",
       "      <th>shuffle</th>\n",
       "      <th>c1</th>\n",
       "      <th>c13</th>\n",
       "      <th>c17</th>\n",
       "      <th>c2</th>\n",
       "      <th>c4</th>\n",
       "      <th>c6</th>\n",
       "    </tr>\n",
       "  </thead>\n",
       "  <tbody>\n",
       "    <tr>\n",
       "      <th>0</th>\n",
       "      <td>AAAAAAAAAAAAAAAGTTCTTTGTAGGACAAACCAGGCATCTTGGA...</td>\n",
       "      <td>di</td>\n",
       "      <td>2.468388</td>\n",
       "      <td>2.508503</td>\n",
       "      <td>2.585143</td>\n",
       "      <td>2.486583</td>\n",
       "      <td>2.485378</td>\n",
       "      <td>2.455960</td>\n",
       "    </tr>\n",
       "    <tr>\n",
       "      <th>1</th>\n",
       "      <td>AAAAAAAAAAAAGGGTTTTGTTTAAAAAAAAATTCCCTAAACTCAC...</td>\n",
       "      <td>di</td>\n",
       "      <td>2.538426</td>\n",
       "      <td>2.535110</td>\n",
       "      <td>2.648535</td>\n",
       "      <td>2.563907</td>\n",
       "      <td>2.506713</td>\n",
       "      <td>2.688980</td>\n",
       "    </tr>\n",
       "    <tr>\n",
       "      <th>2</th>\n",
       "      <td>AAAAAAAAAAAAGTCAAAACAAATGTGGATGTCCCATGCTACTTCA...</td>\n",
       "      <td>di</td>\n",
       "      <td>2.294210</td>\n",
       "      <td>2.388838</td>\n",
       "      <td>2.361428</td>\n",
       "      <td>2.253601</td>\n",
       "      <td>2.519911</td>\n",
       "      <td>2.450523</td>\n",
       "    </tr>\n",
       "    <tr>\n",
       "      <th>3</th>\n",
       "      <td>AAAAAAAAAAAATTCAGGCACTGGCAAGGCTAACCGGTATTAACTC...</td>\n",
       "      <td>di</td>\n",
       "      <td>2.390013</td>\n",
       "      <td>2.446905</td>\n",
       "      <td>2.168969</td>\n",
       "      <td>2.307835</td>\n",
       "      <td>2.222588</td>\n",
       "      <td>2.430125</td>\n",
       "    </tr>\n",
       "    <tr>\n",
       "      <th>4</th>\n",
       "      <td>AAAAAAAAAAACACAGCCATTTATAATCTACTAAAGGATTCACATG...</td>\n",
       "      <td>di</td>\n",
       "      <td>2.546810</td>\n",
       "      <td>2.543269</td>\n",
       "      <td>2.653380</td>\n",
       "      <td>2.625014</td>\n",
       "      <td>2.599340</td>\n",
       "      <td>2.676578</td>\n",
       "    </tr>\n",
       "    <tr>\n",
       "      <th>...</th>\n",
       "      <td>...</td>\n",
       "      <td>...</td>\n",
       "      <td>...</td>\n",
       "      <td>...</td>\n",
       "      <td>...</td>\n",
       "      <td>...</td>\n",
       "      <td>...</td>\n",
       "      <td>...</td>\n",
       "    </tr>\n",
       "    <tr>\n",
       "      <th>1999995</th>\n",
       "      <td>TTTTTTTTTTTTCTTTTTCTATCTTGGACAGCTCCCCAGCTTCCGA...</td>\n",
       "      <td>di</td>\n",
       "      <td>2.725799</td>\n",
       "      <td>2.700554</td>\n",
       "      <td>2.996952</td>\n",
       "      <td>2.833940</td>\n",
       "      <td>2.924107</td>\n",
       "      <td>2.855114</td>\n",
       "    </tr>\n",
       "    <tr>\n",
       "      <th>1999996</th>\n",
       "      <td>TTTTTTTTTTTTTATCGCGATTCTATTTTTATGTTTCTTTGAAACA...</td>\n",
       "      <td>mono</td>\n",
       "      <td>3.016410</td>\n",
       "      <td>2.672373</td>\n",
       "      <td>2.847543</td>\n",
       "      <td>2.817896</td>\n",
       "      <td>2.771869</td>\n",
       "      <td>2.854350</td>\n",
       "    </tr>\n",
       "    <tr>\n",
       "      <th>1999997</th>\n",
       "      <td>TTTTTTTTTTTTTCAACCCAAGTCTGTGTCTAACCCTTGACAAAGT...</td>\n",
       "      <td>di</td>\n",
       "      <td>2.730782</td>\n",
       "      <td>2.662123</td>\n",
       "      <td>2.831269</td>\n",
       "      <td>2.724526</td>\n",
       "      <td>2.585554</td>\n",
       "      <td>2.535211</td>\n",
       "    </tr>\n",
       "    <tr>\n",
       "      <th>1999998</th>\n",
       "      <td>TTTTTTTTTTTTTGTCCCACAGAAGAATTTCCAGACACCCCTTTTA...</td>\n",
       "      <td>di</td>\n",
       "      <td>2.890640</td>\n",
       "      <td>2.736877</td>\n",
       "      <td>2.925937</td>\n",
       "      <td>2.866374</td>\n",
       "      <td>2.752781</td>\n",
       "      <td>2.941293</td>\n",
       "    </tr>\n",
       "    <tr>\n",
       "      <th>1999999</th>\n",
       "      <td>TTTTTTTTTTTTTTTTAAATAGCTTGATTGGAAAAGGTTAGGCTTC...</td>\n",
       "      <td>di</td>\n",
       "      <td>2.986939</td>\n",
       "      <td>2.737333</td>\n",
       "      <td>3.026122</td>\n",
       "      <td>2.937308</td>\n",
       "      <td>2.813388</td>\n",
       "      <td>2.935947</td>\n",
       "    </tr>\n",
       "  </tbody>\n",
       "</table>\n",
       "<p>2000000 rows × 8 columns</p>\n",
       "</div>"
      ],
      "text/plain": [
       "cell_type                                                seq shuffle  \\\n",
       "0          AAAAAAAAAAAAAAAGTTCTTTGTAGGACAAACCAGGCATCTTGGA...      di   \n",
       "1          AAAAAAAAAAAAGGGTTTTGTTTAAAAAAAAATTCCCTAAACTCAC...      di   \n",
       "2          AAAAAAAAAAAAGTCAAAACAAATGTGGATGTCCCATGCTACTTCA...      di   \n",
       "3          AAAAAAAAAAAATTCAGGCACTGGCAAGGCTAACCGGTATTAACTC...      di   \n",
       "4          AAAAAAAAAAACACAGCCATTTATAATCTACTAAAGGATTCACATG...      di   \n",
       "...                                                      ...     ...   \n",
       "1999995    TTTTTTTTTTTTCTTTTTCTATCTTGGACAGCTCCCCAGCTTCCGA...      di   \n",
       "1999996    TTTTTTTTTTTTTATCGCGATTCTATTTTTATGTTTCTTTGAAACA...    mono   \n",
       "1999997    TTTTTTTTTTTTTCAACCCAAGTCTGTGTCTAACCCTTGACAAAGT...      di   \n",
       "1999998    TTTTTTTTTTTTTGTCCCACAGAAGAATTTCCAGACACCCCTTTTA...      di   \n",
       "1999999    TTTTTTTTTTTTTTTTAAATAGCTTGATTGGAAAAGGTTAGGCTTC...      di   \n",
       "\n",
       "cell_type        c1       c13       c17        c2        c4        c6  \n",
       "0          2.468388  2.508503  2.585143  2.486583  2.485378  2.455960  \n",
       "1          2.538426  2.535110  2.648535  2.563907  2.506713  2.688980  \n",
       "2          2.294210  2.388838  2.361428  2.253601  2.519911  2.450523  \n",
       "3          2.390013  2.446905  2.168969  2.307835  2.222588  2.430125  \n",
       "4          2.546810  2.543269  2.653380  2.625014  2.599340  2.676578  \n",
       "...             ...       ...       ...       ...       ...       ...  \n",
       "1999995    2.725799  2.700554  2.996952  2.833940  2.924107  2.855114  \n",
       "1999996    3.016410  2.672373  2.847543  2.817896  2.771869  2.854350  \n",
       "1999997    2.730782  2.662123  2.831269  2.724526  2.585554  2.535211  \n",
       "1999998    2.890640  2.736877  2.925937  2.866374  2.752781  2.941293  \n",
       "1999999    2.986939  2.737333  3.026122  2.937308  2.813388  2.935947  \n",
       "\n",
       "[2000000 rows x 8 columns]"
      ]
     },
     "execution_count": 22,
     "metadata": {},
     "output_type": "execute_result"
    }
   ],
   "source": [
    "score_df_pivot = score_df.pivot(index=[\"seq\", \"shuffle\"], columns=\"cell_type\", values=\"pred_mass_center\").reset_index()\n",
    "score_df_pivot"
   ]
  },
  {
   "cell_type": "code",
   "execution_count": 23,
   "id": "57822414-6c6e-4287-a5d8-c2fc1d95b394",
   "metadata": {
    "execution": {
     "iopub.execute_input": "2023-08-09T11:22:44.421496Z",
     "iopub.status.busy": "2023-08-09T11:22:44.421329Z",
     "iopub.status.idle": "2023-08-09T11:29:24.266348Z",
     "shell.execute_reply": "2023-08-09T11:29:24.265416Z",
     "shell.execute_reply.started": "2023-08-09T11:22:44.421481Z"
    },
    "tags": []
   },
   "outputs": [],
   "source": [
    "score_df_pivot.to_csv(\"shuffle_result_pivot_utr3.csv.gz\", index=False, compression=\"gzip\")"
   ]
  },
  {
   "cell_type": "code",
   "execution_count": null,
   "id": "3503f508-76e6-46b4-845a-5d8167b7b6d3",
   "metadata": {
    "execution": {
     "iopub.status.busy": "2023-08-09T11:01:50.733905Z",
     "iopub.status.idle": "2023-08-09T11:01:50.734066Z",
     "shell.execute_reply": "2023-08-09T11:01:50.733992Z",
     "shell.execute_reply.started": "2023-08-09T11:01:50.733984Z"
    },
    "tags": []
   },
   "outputs": [],
   "source": [
    "score_df_sample = score_df.iloc[:500000]"
   ]
  },
  {
   "cell_type": "code",
   "execution_count": null,
   "id": "277b06b3-75d7-43f3-b05f-09f9539f3517",
   "metadata": {
    "execution": {
     "iopub.status.busy": "2023-08-09T11:01:50.734466Z",
     "iopub.status.idle": "2023-08-09T11:01:50.734620Z",
     "shell.execute_reply": "2023-08-09T11:01:50.734551Z",
     "shell.execute_reply.started": "2023-08-09T11:01:50.734543Z"
    },
    "tags": []
   },
   "outputs": [],
   "source": [
    "score_df_sample"
   ]
  },
  {
   "cell_type": "code",
   "execution_count": null,
   "id": "5aea518b-4419-441e-a322-57d5f8136c62",
   "metadata": {
    "execution": {
     "iopub.status.busy": "2023-08-09T11:01:50.735301Z",
     "iopub.status.idle": "2023-08-09T11:01:50.735461Z",
     "shell.execute_reply": "2023-08-09T11:01:50.735390Z",
     "shell.execute_reply.started": "2023-08-09T11:01:50.735382Z"
    },
    "tags": []
   },
   "outputs": [],
   "source": [
    "score_df_sample[\"a\"] = score_df_sample[\"seq\"].str.count(\"A\")\n",
    "score_df_sample[\"c\"] = score_df_sample[\"seq\"].str.count(\"C\")\n",
    "score_df_sample[\"g\"] = score_df_sample[\"seq\"].str.count(\"G\")\n",
    "score_df_sample[\"t\"] = score_df_sample[\"seq\"].str.count(\"T\")\n",
    "score_df_sample"
   ]
  },
  {
   "cell_type": "markdown",
   "id": "829e1e23",
   "metadata": {},
   "source": [
    "---"
   ]
  }
 ],
 "metadata": {
  "kernelspec": {
   "display_name": "Python [conda env:ml]",
   "language": "python",
   "name": "conda-env-ml-py"
  },
  "language_info": {
   "codemirror_mode": {
    "name": "ipython",
    "version": 3
   },
   "file_extension": ".py",
   "mimetype": "text/x-python",
   "name": "python",
   "nbconvert_exporter": "python",
   "pygments_lexer": "ipython3",
   "version": "3.11.3"
  },
  "vscode": {
   "interpreter": {
    "hash": "64b0dffe91cf8f88d3a84eea1f79c78b7512619aa8cb3e6f3df2fb7199efc743"
   }
  }
 },
 "nbformat": 4,
 "nbformat_minor": 5
}

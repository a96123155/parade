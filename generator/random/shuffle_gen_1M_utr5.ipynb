{
 "cells": [
  {
   "cell_type": "code",
   "execution_count": 1,
   "id": "b8f45815",
   "metadata": {
    "execution": {
     "iopub.execute_input": "2023-08-09T09:10:08.667207Z",
     "iopub.status.busy": "2023-08-09T09:10:08.666894Z",
     "iopub.status.idle": "2023-08-09T09:10:10.755200Z",
     "shell.execute_reply": "2023-08-09T09:10:10.754497Z",
     "shell.execute_reply.started": "2023-08-09T09:10:08.667182Z"
    },
    "tags": []
   },
   "outputs": [],
   "source": [
    "import sys\n",
    "\n",
    "from collections import defaultdict\n",
    "\n",
    "import numpy as np\n",
    "import pandas as pd\n",
    "import scipy.stats as ss\n",
    "import matplotlib as mpl\n",
    "import matplotlib.pyplot as plt\n",
    "import seaborn as sns\n",
    "\n",
    "from tqdm.auto import tqdm as tqdm_auto\n",
    "from tqdm.notebook import tqdm\n",
    "\n",
    "import torch\n",
    "import torch.nn as nn\n",
    "import torch.nn.functional as F\n",
    "import torch.optim as optim\n",
    "from torch.utils.data import DataLoader\n",
    "import pytorch_lightning as pl"
   ]
  },
  {
   "cell_type": "code",
   "execution_count": 2,
   "id": "10d6b422-f855-467f-b352-3c901ffafc6f",
   "metadata": {
    "execution": {
     "iopub.execute_input": "2023-08-09T09:10:10.756653Z",
     "iopub.status.busy": "2023-08-09T09:10:10.756400Z",
     "iopub.status.idle": "2023-08-09T09:10:10.760346Z",
     "shell.execute_reply": "2023-08-09T09:10:10.759737Z",
     "shell.execute_reply.started": "2023-08-09T09:10:10.756636Z"
    },
    "tags": []
   },
   "outputs": [],
   "source": [
    "tqdm.pandas()"
   ]
  },
  {
   "cell_type": "code",
   "execution_count": 3,
   "id": "54826b8b-809f-40b7-919c-6e005e21007d",
   "metadata": {
    "execution": {
     "iopub.execute_input": "2023-08-09T09:10:10.760961Z",
     "iopub.status.busy": "2023-08-09T09:10:10.760827Z",
     "iopub.status.idle": "2023-08-09T09:10:10.763939Z",
     "shell.execute_reply": "2023-08-09T09:10:10.763552Z",
     "shell.execute_reply.started": "2023-08-09T09:10:10.760948Z"
    },
    "tags": []
   },
   "outputs": [],
   "source": [
    "sys.path.append(\"../verification/\")\n",
    "from shuffle_dinucl import shuffle_seq, shuffle_seq_dinucl"
   ]
  },
  {
   "cell_type": "code",
   "execution_count": 4,
   "id": "402061e1-f71b-4007-b150-73a4eece3ade",
   "metadata": {
    "execution": {
     "iopub.execute_input": "2023-08-09T09:10:10.764683Z",
     "iopub.status.busy": "2023-08-09T09:10:10.764506Z",
     "iopub.status.idle": "2023-08-09T09:10:10.768213Z",
     "shell.execute_reply": "2023-08-09T09:10:10.767768Z",
     "shell.execute_reply.started": "2023-08-09T09:10:10.764666Z"
    },
    "tags": []
   },
   "outputs": [],
   "source": [
    "sys.path.append(\"../../regression_multiple\")\n",
    "import dataset_regression as utrdata\n",
    "from lit_regressor import RNARegressor"
   ]
  },
  {
   "cell_type": "markdown",
   "id": "6e499667-0eae-4e02-8908-5b1344c4032c",
   "metadata": {},
   "source": [
    "## Creating dataset"
   ]
  },
  {
   "cell_type": "code",
   "execution_count": 5,
   "id": "90474acf-ffd6-451a-acf5-b9ab8423d219",
   "metadata": {
    "execution": {
     "iopub.execute_input": "2023-08-09T09:10:10.769075Z",
     "iopub.status.busy": "2023-08-09T09:10:10.768785Z",
     "iopub.status.idle": "2023-08-09T09:10:10.771501Z",
     "shell.execute_reply": "2023-08-09T09:10:10.770952Z",
     "shell.execute_reply.started": "2023-08-09T09:10:10.769058Z"
    },
    "tags": []
   },
   "outputs": [],
   "source": [
    "SEQUENCE_N = 1_000_000"
   ]
  },
  {
   "cell_type": "code",
   "execution_count": 6,
   "id": "463447f6-c50f-4eb5-b5cb-5ad1efa0bca8",
   "metadata": {
    "execution": {
     "iopub.execute_input": "2023-08-09T09:10:10.772223Z",
     "iopub.status.busy": "2023-08-09T09:10:10.772048Z",
     "iopub.status.idle": "2023-08-09T09:10:10.775633Z",
     "shell.execute_reply": "2023-08-09T09:10:10.775167Z",
     "shell.execute_reply.started": "2023-08-09T09:10:10.772207Z"
    },
    "tags": []
   },
   "outputs": [],
   "source": [
    "CELLTYPE_CODES_UTR3 = {\"c1\": 0,\n",
    "                       \"c2\": 1,\n",
    "                       \"c4\": 2,\n",
    "                       \"c6\": 3,\n",
    "                       \"c17\": 4,\n",
    "                       \"c13\": 5,\n",
    "                       \"c10\": 6}\n",
    "\n",
    "CELLTYPE_CODES_UTR5 = {\"c1\": 0,\n",
    "                       \"c2\": 1,\n",
    "                       \"c4\": 2,\n",
    "                       \"c6\": 3,\n",
    "                       \"c17\": 4}"
   ]
  },
  {
   "cell_type": "code",
   "execution_count": 7,
   "id": "9f9ec64e-4907-4308-bc39-06737f5fd7b7",
   "metadata": {
    "execution": {
     "iopub.execute_input": "2023-08-09T09:10:10.776987Z",
     "iopub.status.busy": "2023-08-09T09:10:10.776672Z",
     "iopub.status.idle": "2023-08-09T09:10:10.986986Z",
     "shell.execute_reply": "2023-08-09T09:10:10.986518Z",
     "shell.execute_reply.started": "2023-08-09T09:10:10.776972Z"
    },
    "tags": []
   },
   "outputs": [
    {
     "data": {
      "text/plain": [
       "0         ATTGCTGCAGACGCTCACCCCAGACACTCACTGCACCGGAGTGAGC...\n",
       "10        TGGAAGGGCCGTGTTCGTGTTGGCAAAGAAGGTCGGCTGCTGAGCC...\n",
       "20        ACTTCCGTTGAGTTCCGCCTCGCCGTTTGTCCCTTGCGGTACCCGT...\n",
       "30        TTTGTCCCTTGCGGTACCCGTCCGCATACGAATCTAGCCCGGGAAC...\n",
       "40        ATACGAATCTAGCCCGGGAACCGAGTTGCGGGAGTGCGGTCTGTGC...\n",
       "                                ...                        \n",
       "216040    CTCCGGCTCGACGCCGGCTCTCTTTTTGACGCCCCGCCGCCGGGGT...\n",
       "216050    CGGCTGCGGCTGCGGCTGCGGCTGCTACTGCTACGCTCCTAGCTTG...\n",
       "216060    CCTGGAGCCTCCGCGCCGGCTCAGCCTGGGGGCGGGCTCCGGTCCG...\n",
       "216070    GCAGAGTCTGCGGACCCGGCGCCGAGGCGGCCACCCGAGACGCGGC...\n",
       "216080    CCGTCGTCTCCTCCGCGTCCCCGCCCGCCAGCTGCTGTCGGAGGTT...\n",
       "Name: seq, Length: 21609, dtype: object"
      ]
     },
     "execution_count": 7,
     "metadata": {},
     "output_type": "execute_result"
    }
   ],
   "source": [
    "#src_seqs = pd.Series(pd.read_csv(\"../../data/raw/UTR5_sequence_counts_05_23_23.tsv\", sep=\"\\t\", index_col=0, header=[0, 1, 2]).index.values)\n",
    "src_seqs = pd.read_csv(\"../../data/UTR5_zinb_norm_singleref_2023-05-23.csv\")[\"seq\"].drop_duplicates()\n",
    "src_seqs"
   ]
  },
  {
   "cell_type": "code",
   "execution_count": null,
   "id": "f738b6d2-ccd0-4942-ae29-7ecc86b5f059",
   "metadata": {
    "execution": {
     "iopub.execute_input": "2023-08-09T09:10:29.516554Z",
     "iopub.status.busy": "2023-08-09T09:10:29.515979Z",
     "iopub.status.idle": "2023-08-09T09:12:20.220490Z",
     "shell.execute_reply": "2023-08-09T09:12:20.219787Z",
     "shell.execute_reply.started": "2023-08-09T09:10:29.516502Z"
    },
    "tags": []
   },
   "outputs": [],
   "source": [
    "np.random.seed(777)\n",
    "sampled = src_seqs.sample(SEQUENCE_N, replace=True)\n",
    "mononucl_shuffle = sampled.progress_apply(shuffle_seq)\n",
    "dinucl_shuffle = sampled.progress_apply(shuffle_seq_dinucl)"
   ]
  },
  {
   "cell_type": "code",
   "execution_count": 9,
   "id": "aab7f485-2c96-4afd-896e-a359e55e0968",
   "metadata": {
    "execution": {
     "iopub.execute_input": "2023-08-09T09:12:22.103110Z",
     "iopub.status.busy": "2023-08-09T09:12:22.102509Z",
     "iopub.status.idle": "2023-08-09T09:12:22.370981Z",
     "shell.execute_reply": "2023-08-09T09:12:22.370350Z",
     "shell.execute_reply.started": "2023-08-09T09:12:22.103055Z"
    },
    "tags": []
   },
   "outputs": [
    {
     "data": {
      "text/html": [
       "<div>\n",
       "<style scoped>\n",
       "    .dataframe tbody tr th:only-of-type {\n",
       "        vertical-align: middle;\n",
       "    }\n",
       "\n",
       "    .dataframe tbody tr th {\n",
       "        vertical-align: top;\n",
       "    }\n",
       "\n",
       "    .dataframe thead th {\n",
       "        text-align: right;\n",
       "    }\n",
       "</style>\n",
       "<table border=\"1\" class=\"dataframe\">\n",
       "  <thead>\n",
       "    <tr style=\"text-align: right;\">\n",
       "      <th></th>\n",
       "      <th>seq</th>\n",
       "      <th>shuffle</th>\n",
       "    </tr>\n",
       "  </thead>\n",
       "  <tbody>\n",
       "    <tr>\n",
       "      <th>0</th>\n",
       "      <td>CCGGAACGACGCGCAGAGCCCCCCCGTGGTAACCGCGGGGCCTGAC...</td>\n",
       "      <td>mono</td>\n",
       "    </tr>\n",
       "    <tr>\n",
       "      <th>1</th>\n",
       "      <td>GGTCTTACGAGGGTATCCTAAAGAGTCAGATAGGTGGCTCGTGCTC...</td>\n",
       "      <td>mono</td>\n",
       "    </tr>\n",
       "    <tr>\n",
       "      <th>2</th>\n",
       "      <td>CAACAGGCACGCATCTCATGGAAGCTCGCAGTGCATGAAGCACTAC...</td>\n",
       "      <td>mono</td>\n",
       "    </tr>\n",
       "    <tr>\n",
       "      <th>3</th>\n",
       "      <td>CGCCGCCTGTGTTGGCACGGGGGATCGAATAGGTATCGGGTCTCCT...</td>\n",
       "      <td>mono</td>\n",
       "    </tr>\n",
       "    <tr>\n",
       "      <th>4</th>\n",
       "      <td>GGACATTCTCCAAGGTGTGTTGATACAACGGGAGGTGCACCTGGGG...</td>\n",
       "      <td>mono</td>\n",
       "    </tr>\n",
       "    <tr>\n",
       "      <th>...</th>\n",
       "      <td>...</td>\n",
       "      <td>...</td>\n",
       "    </tr>\n",
       "    <tr>\n",
       "      <th>1999995</th>\n",
       "      <td>AGGAAGGTCGCTGGCCGTGCTCCGACCCTTGGCGCTAGGGAGAGAA...</td>\n",
       "      <td>di</td>\n",
       "    </tr>\n",
       "    <tr>\n",
       "      <th>1999996</th>\n",
       "      <td>GGGGATTGCTGCCGGGAAACGCGAGGGGTGGTGGGGCGGTGCGACC...</td>\n",
       "      <td>di</td>\n",
       "    </tr>\n",
       "    <tr>\n",
       "      <th>1999997</th>\n",
       "      <td>CCCGCACCTCACCGCTTCCCCCTTCAGGCCGCTCAGCTCGGCGTCC...</td>\n",
       "      <td>di</td>\n",
       "    </tr>\n",
       "    <tr>\n",
       "      <th>1999998</th>\n",
       "      <td>CAGTGCCCCACTGCTCCTGTACCTGGGGCGGCCGCGTGCTCAGTGC...</td>\n",
       "      <td>di</td>\n",
       "    </tr>\n",
       "    <tr>\n",
       "      <th>1999999</th>\n",
       "      <td>GGCCGGTGACTGTTTTAACTGCCAGTGGAGTAGGCCCCCGTGCGTC...</td>\n",
       "      <td>di</td>\n",
       "    </tr>\n",
       "  </tbody>\n",
       "</table>\n",
       "<p>2000000 rows × 2 columns</p>\n",
       "</div>"
      ],
      "text/plain": [
       "                                                       seq shuffle\n",
       "0        CCGGAACGACGCGCAGAGCCCCCCCGTGGTAACCGCGGGGCCTGAC...    mono\n",
       "1        GGTCTTACGAGGGTATCCTAAAGAGTCAGATAGGTGGCTCGTGCTC...    mono\n",
       "2        CAACAGGCACGCATCTCATGGAAGCTCGCAGTGCATGAAGCACTAC...    mono\n",
       "3        CGCCGCCTGTGTTGGCACGGGGGATCGAATAGGTATCGGGTCTCCT...    mono\n",
       "4        GGACATTCTCCAAGGTGTGTTGATACAACGGGAGGTGCACCTGGGG...    mono\n",
       "...                                                    ...     ...\n",
       "1999995  AGGAAGGTCGCTGGCCGTGCTCCGACCCTTGGCGCTAGGGAGAGAA...      di\n",
       "1999996  GGGGATTGCTGCCGGGAAACGCGAGGGGTGGTGGGGCGGTGCGACC...      di\n",
       "1999997  CCCGCACCTCACCGCTTCCCCCTTCAGGCCGCTCAGCTCGGCGTCC...      di\n",
       "1999998  CAGTGCCCCACTGCTCCTGTACCTGGGGCGGCCGCGTGCTCAGTGC...      di\n",
       "1999999  GGCCGGTGACTGTTTTAACTGCCAGTGGAGTAGGCCCCCGTGCGTC...      di\n",
       "\n",
       "[2000000 rows x 2 columns]"
      ]
     },
     "execution_count": 9,
     "metadata": {},
     "output_type": "execute_result"
    }
   ],
   "source": [
    "seqs = pd.concat([pd.DataFrame({\"seq\": mononucl_shuffle, \"shuffle\": \"mono\"}), \n",
    "                  pd.DataFrame({\"seq\": dinucl_shuffle, \"shuffle\": \"di\"})]).reset_index(drop=True)\n",
    "seqs"
   ]
  },
  {
   "cell_type": "code",
   "execution_count": 10,
   "id": "c2974362-6127-4b91-a413-5cfecae95414",
   "metadata": {
    "execution": {
     "iopub.execute_input": "2023-08-09T09:12:29.744192Z",
     "iopub.status.busy": "2023-08-09T09:12:29.743656Z",
     "iopub.status.idle": "2023-08-09T09:12:47.994140Z",
     "shell.execute_reply": "2023-08-09T09:12:47.993477Z",
     "shell.execute_reply.started": "2023-08-09T09:12:29.744149Z"
    },
    "tags": []
   },
   "outputs": [
    {
     "data": {
      "text/html": [
       "<div>\n",
       "<style scoped>\n",
       "    .dataframe tbody tr th:only-of-type {\n",
       "        vertical-align: middle;\n",
       "    }\n",
       "\n",
       "    .dataframe tbody tr th {\n",
       "        vertical-align: top;\n",
       "    }\n",
       "\n",
       "    .dataframe thead th {\n",
       "        text-align: right;\n",
       "    }\n",
       "</style>\n",
       "<table border=\"1\" class=\"dataframe\">\n",
       "  <thead>\n",
       "    <tr style=\"text-align: right;\">\n",
       "      <th></th>\n",
       "      <th>seq</th>\n",
       "      <th>shuffle</th>\n",
       "      <th>cell_type</th>\n",
       "    </tr>\n",
       "  </thead>\n",
       "  <tbody>\n",
       "    <tr>\n",
       "      <th>0</th>\n",
       "      <td>AAAAAAAAATGCGGAGCTGGAGTGAAGCTCCACCCTAAATTCCGCA...</td>\n",
       "      <td>di</td>\n",
       "      <td>c1</td>\n",
       "    </tr>\n",
       "    <tr>\n",
       "      <th>1</th>\n",
       "      <td>AAAAAAAAATGCGGAGCTGGAGTGAAGCTCCACCCTAAATTCCGCA...</td>\n",
       "      <td>di</td>\n",
       "      <td>c17</td>\n",
       "    </tr>\n",
       "    <tr>\n",
       "      <th>2</th>\n",
       "      <td>AAAAAAAAATGCGGAGCTGGAGTGAAGCTCCACCCTAAATTCCGCA...</td>\n",
       "      <td>di</td>\n",
       "      <td>c2</td>\n",
       "    </tr>\n",
       "    <tr>\n",
       "      <th>3</th>\n",
       "      <td>AAAAAAAAATGCGGAGCTGGAGTGAAGCTCCACCCTAAATTCCGCA...</td>\n",
       "      <td>di</td>\n",
       "      <td>c4</td>\n",
       "    </tr>\n",
       "    <tr>\n",
       "      <th>4</th>\n",
       "      <td>AAAAAAAAATGCGGAGCTGGAGTGAAGCTCCACCCTAAATTCCGCA...</td>\n",
       "      <td>di</td>\n",
       "      <td>c6</td>\n",
       "    </tr>\n",
       "    <tr>\n",
       "      <th>...</th>\n",
       "      <td>...</td>\n",
       "      <td>...</td>\n",
       "      <td>...</td>\n",
       "    </tr>\n",
       "    <tr>\n",
       "      <th>9999995</th>\n",
       "      <td>TTTTTTTTTCCTTTTCCCTTCTACCGGCCCACGTAGACCCCCCCCT...</td>\n",
       "      <td>mono</td>\n",
       "      <td>c1</td>\n",
       "    </tr>\n",
       "    <tr>\n",
       "      <th>9999996</th>\n",
       "      <td>TTTTTTTTTCCTTTTCCCTTCTACCGGCCCACGTAGACCCCCCCCT...</td>\n",
       "      <td>mono</td>\n",
       "      <td>c17</td>\n",
       "    </tr>\n",
       "    <tr>\n",
       "      <th>9999997</th>\n",
       "      <td>TTTTTTTTTCCTTTTCCCTTCTACCGGCCCACGTAGACCCCCCCCT...</td>\n",
       "      <td>mono</td>\n",
       "      <td>c2</td>\n",
       "    </tr>\n",
       "    <tr>\n",
       "      <th>9999998</th>\n",
       "      <td>TTTTTTTTTCCTTTTCCCTTCTACCGGCCCACGTAGACCCCCCCCT...</td>\n",
       "      <td>mono</td>\n",
       "      <td>c4</td>\n",
       "    </tr>\n",
       "    <tr>\n",
       "      <th>9999999</th>\n",
       "      <td>TTTTTTTTTCCTTTTCCCTTCTACCGGCCCACGTAGACCCCCCCCT...</td>\n",
       "      <td>mono</td>\n",
       "      <td>c6</td>\n",
       "    </tr>\n",
       "  </tbody>\n",
       "</table>\n",
       "<p>10000000 rows × 3 columns</p>\n",
       "</div>"
      ],
      "text/plain": [
       "                                                       seq shuffle cell_type\n",
       "0        AAAAAAAAATGCGGAGCTGGAGTGAAGCTCCACCCTAAATTCCGCA...      di        c1\n",
       "1        AAAAAAAAATGCGGAGCTGGAGTGAAGCTCCACCCTAAATTCCGCA...      di       c17\n",
       "2        AAAAAAAAATGCGGAGCTGGAGTGAAGCTCCACCCTAAATTCCGCA...      di        c2\n",
       "3        AAAAAAAAATGCGGAGCTGGAGTGAAGCTCCACCCTAAATTCCGCA...      di        c4\n",
       "4        AAAAAAAAATGCGGAGCTGGAGTGAAGCTCCACCCTAAATTCCGCA...      di        c6\n",
       "...                                                    ...     ...       ...\n",
       "9999995  TTTTTTTTTCCTTTTCCCTTCTACCGGCCCACGTAGACCCCCCCCT...    mono        c1\n",
       "9999996  TTTTTTTTTCCTTTTCCCTTCTACCGGCCCACGTAGACCCCCCCCT...    mono       c17\n",
       "9999997  TTTTTTTTTCCTTTTCCCTTCTACCGGCCCACGTAGACCCCCCCCT...    mono        c2\n",
       "9999998  TTTTTTTTTCCTTTTCCCTTCTACCGGCCCACGTAGACCCCCCCCT...    mono        c4\n",
       "9999999  TTTTTTTTTCCTTTTCCCTTCTACCGGCCCACGTAGACCCCCCCCT...    mono        c6\n",
       "\n",
       "[10000000 rows x 3 columns]"
      ]
     },
     "execution_count": 10,
     "metadata": {},
     "output_type": "execute_result"
    }
   ],
   "source": [
    "df = []\n",
    "for ct_code in CELLTYPE_CODES_UTR5.keys():\n",
    "    subdf = seqs.copy()\n",
    "    subdf[\"cell_type\"] = ct_code\n",
    "    df.append(subdf)\n",
    "df = pd.concat(df).sort_values(by=[\"shuffle\", \"seq\", \"cell_type\"]).reset_index(drop=True)\n",
    "df"
   ]
  },
  {
   "cell_type": "code",
   "execution_count": 11,
   "id": "1769c4d1-ff0f-40ab-8643-e3e7544082d1",
   "metadata": {
    "execution": {
     "iopub.execute_input": "2023-08-09T09:12:47.995264Z",
     "iopub.status.busy": "2023-08-09T09:12:47.995113Z",
     "iopub.status.idle": "2023-08-09T09:12:48.016624Z",
     "shell.execute_reply": "2023-08-09T09:12:48.016071Z",
     "shell.execute_reply.started": "2023-08-09T09:12:47.995251Z"
    },
    "tags": []
   },
   "outputs": [],
   "source": [
    "df[\"diff\"] = 0.0\n",
    "df[\"mass_center\"] = 0.0"
   ]
  },
  {
   "cell_type": "code",
   "execution_count": 12,
   "id": "ec976669-ec8f-418b-81af-ac737735da83",
   "metadata": {
    "execution": {
     "iopub.execute_input": "2023-08-09T09:12:48.017380Z",
     "iopub.status.busy": "2023-08-09T09:12:48.017236Z",
     "iopub.status.idle": "2023-08-09T09:12:48.020225Z",
     "shell.execute_reply": "2023-08-09T09:12:48.019714Z",
     "shell.execute_reply.started": "2023-08-09T09:12:48.017368Z"
    },
    "tags": []
   },
   "outputs": [],
   "source": [
    "batch_size = 1024"
   ]
  },
  {
   "cell_type": "code",
   "execution_count": 13,
   "id": "a8034baf-7f7d-4032-859d-d8f337c2898d",
   "metadata": {
    "execution": {
     "iopub.execute_input": "2023-08-09T09:12:48.021327Z",
     "iopub.status.busy": "2023-08-09T09:12:48.021180Z",
     "iopub.status.idle": "2023-08-09T09:12:48.024008Z",
     "shell.execute_reply": "2023-08-09T09:12:48.023517Z",
     "shell.execute_reply.started": "2023-08-09T09:12:48.021314Z"
    },
    "tags": []
   },
   "outputs": [],
   "source": [
    "num_workers = 32"
   ]
  },
  {
   "cell_type": "code",
   "execution_count": 14,
   "id": "ca58938d-2c03-408a-ac8c-ac8ddf7b8683",
   "metadata": {
    "execution": {
     "iopub.execute_input": "2023-08-09T09:12:48.024640Z",
     "iopub.status.busy": "2023-08-09T09:12:48.024511Z",
     "iopub.status.idle": "2023-08-09T09:26:02.512889Z",
     "shell.execute_reply": "2023-08-09T09:26:02.510165Z",
     "shell.execute_reply.started": "2023-08-09T09:12:48.024629Z"
    },
    "tags": []
   },
   "outputs": [],
   "source": [
    "generated_set = utrdata.UTRData(\n",
    "    df=df,\n",
    "    features=(\"sequence\", \"positional\", \"conditions\"),\n",
    "    construct_type=\"utr5\",\n",
    "    augment=False,\n",
    "    augment_test_time=False,\n",
    "    augment_kws=dict(\n",
    "        extend_left=0,\n",
    "        extend_right=0,\n",
    "        shift_left=0,\n",
    "        shift_right=0,\n",
    "        revcomp=False,\n",
    "    ),\n",
    ")"
   ]
  },
  {
   "cell_type": "code",
   "execution_count": 15,
   "id": "a6dcd172-6d07-4c23-b947-95b009dde9bb",
   "metadata": {
    "execution": {
     "iopub.execute_input": "2023-08-09T09:26:04.947026Z",
     "iopub.status.busy": "2023-08-09T09:26:04.946707Z",
     "iopub.status.idle": "2023-08-09T09:26:04.950794Z",
     "shell.execute_reply": "2023-08-09T09:26:04.950245Z",
     "shell.execute_reply.started": "2023-08-09T09:26:04.947008Z"
    },
    "tags": []
   },
   "outputs": [],
   "source": [
    "# Creating DataLoaders\n",
    "dl_gen = DataLoader(\n",
    "    generated_set,\n",
    "    batch_size=batch_size,\n",
    "    num_workers=num_workers,\n",
    "    shuffle=False,\n",
    "    drop_last=False\n",
    ")"
   ]
  },
  {
   "cell_type": "code",
   "execution_count": 16,
   "id": "a2bf300d-7da1-42e2-9540-8c8e6a879cc0",
   "metadata": {
    "execution": {
     "iopub.execute_input": "2023-08-09T09:26:04.951550Z",
     "iopub.status.busy": "2023-08-09T09:26:04.951411Z",
     "iopub.status.idle": "2023-08-09T09:26:04.971339Z",
     "shell.execute_reply": "2023-08-09T09:26:04.970374Z",
     "shell.execute_reply.started": "2023-08-09T09:26:04.951538Z"
    },
    "tags": []
   },
   "outputs": [],
   "source": [
    "ckpt_path = \"../../regression_multiple/model_validation/model-utr5-deltas-epoch=9-step=840.ckpt\""
   ]
  },
  {
   "cell_type": "code",
   "execution_count": 17,
   "id": "dcbce462-5d42-4e6f-a241-e6cf00362a95",
   "metadata": {
    "execution": {
     "iopub.execute_input": "2023-08-09T09:26:04.973149Z",
     "iopub.status.busy": "2023-08-09T09:26:04.972607Z",
     "iopub.status.idle": "2023-08-09T09:33:35.722532Z",
     "shell.execute_reply": "2023-08-09T09:33:35.721390Z",
     "shell.execute_reply.started": "2023-08-09T09:26:04.973109Z"
    },
    "scrolled": true,
    "tags": []
   },
   "outputs": [
    {
     "name": "stderr",
     "output_type": "stream",
     "text": [
      "GPU available: True (cuda), used: True\n",
      "TPU available: False, using: 0 TPU cores\n",
      "IPU available: False, using: 0 IPUs\n",
      "HPU available: False, using: 0 HPUs\n",
      "You are using a CUDA device ('NVIDIA GeForce RTX 3090') that has Tensor Cores. To properly utilize them, you should set `torch.set_float32_matmul_precision('medium' | 'high')` which will trade-off precision for performance. For more details, read https://pytorch.org/docs/stable/generated/torch.set_float32_matmul_precision.html#torch.set_float32_matmul_precision\n",
      "LOCAL_RANK: 0 - CUDA_VISIBLE_DEVICES: [0,1]\n"
     ]
    },
    {
     "data": {
      "application/vnd.jupyter.widget-view+json": {
       "model_id": "6e22367c7c8a4952b933282f68051a33",
       "version_major": 2,
       "version_minor": 0
      },
      "text/plain": [
       "Predicting: 0it [00:00, ?it/s]"
      ]
     },
     "metadata": {},
     "output_type": "display_data"
    }
   ],
   "source": [
    "progressbar_callback = pl.callbacks.TQDMProgressBar(refresh_rate=0.5)\n",
    "trainer = pl.Trainer(\n",
    "    callbacks=[progressbar_callback],\n",
    "    logger=False,\n",
    "    accelerator=\"gpu\",\n",
    "    devices=1,\n",
    "    deterministic=True,\n",
    "    # gradient_clip_val=1e-5,\n",
    "    # gradient_clip_algorithm=\"norm\",\n",
    ")\n",
    "\n",
    "loaded_model = RNARegressor.load_from_checkpoint(ckpt_path)\n",
    "prediction = trainer.predict(model=loaded_model, dataloaders=dl_gen)\n",
    "\n",
    "gen_pred, _ = zip(*prediction)\n",
    "gen_pred = torch.concat(gen_pred)\n",
    "gen_pred = gen_pred.numpy()"
   ]
  },
  {
   "cell_type": "code",
   "execution_count": 18,
   "id": "c7d8dea2-144b-4207-bc4e-b2e346ef1d00",
   "metadata": {
    "execution": {
     "iopub.execute_input": "2023-08-09T09:33:35.724087Z",
     "iopub.status.busy": "2023-08-09T09:33:35.723823Z",
     "iopub.status.idle": "2023-08-09T09:33:35.730576Z",
     "shell.execute_reply": "2023-08-09T09:33:35.729919Z",
     "shell.execute_reply.started": "2023-08-09T09:33:35.724060Z"
    },
    "tags": []
   },
   "outputs": [
    {
     "data": {
      "text/plain": [
       "array([[ 0.01219579,  2.1338458 ],\n",
       "       [-0.06468936,  2.039298  ],\n",
       "       [ 0.10998474,  2.257606  ],\n",
       "       ...,\n",
       "       [ 0.07770254,  2.543181  ],\n",
       "       [ 0.03244496,  2.4952643 ],\n",
       "       [-0.098713  ,  2.3697565 ]], dtype=float32)"
      ]
     },
     "execution_count": 18,
     "metadata": {},
     "output_type": "execute_result"
    }
   ],
   "source": [
    "gen_pred"
   ]
  },
  {
   "cell_type": "code",
   "execution_count": 21,
   "id": "7e652528-1e56-401b-92f7-5b0f708024df",
   "metadata": {
    "execution": {
     "iopub.execute_input": "2023-08-09T09:33:53.738036Z",
     "iopub.status.busy": "2023-08-09T09:33:53.737288Z",
     "iopub.status.idle": "2023-08-09T09:33:54.623244Z",
     "shell.execute_reply": "2023-08-09T09:33:54.622439Z",
     "shell.execute_reply.started": "2023-08-09T09:33:53.737984Z"
    },
    "tags": []
   },
   "outputs": [],
   "source": [
    "score_df = df[[\"seq\", \"shuffle\", \"cell_type\"]].copy()\n",
    "score_df[\"pred_mass_center\"] = gen_pred[:, 1]"
   ]
  },
  {
   "cell_type": "code",
   "execution_count": 22,
   "id": "57822414-6c6e-4287-a5d8-c2fc1d95b394",
   "metadata": {
    "execution": {
     "iopub.execute_input": "2023-08-09T09:33:58.906160Z",
     "iopub.status.busy": "2023-08-09T09:33:58.905097Z",
     "iopub.status.idle": "2023-08-09T09:36:35.108230Z",
     "shell.execute_reply": "2023-08-09T09:36:35.107232Z",
     "shell.execute_reply.started": "2023-08-09T09:33:58.906114Z"
    },
    "tags": []
   },
   "outputs": [],
   "source": [
    "score_df.to_csv(\"shuffle_result_utr5.csv.gz\", index=False, compression=\"gzip\")"
   ]
  },
  {
   "cell_type": "code",
   "execution_count": 23,
   "id": "3503f508-76e6-46b4-845a-5d8167b7b6d3",
   "metadata": {
    "execution": {
     "iopub.execute_input": "2023-08-09T09:36:35.109782Z",
     "iopub.status.busy": "2023-08-09T09:36:35.109602Z",
     "iopub.status.idle": "2023-08-09T09:36:35.114128Z",
     "shell.execute_reply": "2023-08-09T09:36:35.113347Z",
     "shell.execute_reply.started": "2023-08-09T09:36:35.109764Z"
    },
    "tags": []
   },
   "outputs": [],
   "source": [
    "score_df_sample = score_df.iloc[:500000]"
   ]
  },
  {
   "cell_type": "code",
   "execution_count": 24,
   "id": "277b06b3-75d7-43f3-b05f-09f9539f3517",
   "metadata": {
    "execution": {
     "iopub.execute_input": "2023-08-09T09:36:35.115054Z",
     "iopub.status.busy": "2023-08-09T09:36:35.114849Z",
     "iopub.status.idle": "2023-08-09T09:36:35.126672Z",
     "shell.execute_reply": "2023-08-09T09:36:35.126164Z",
     "shell.execute_reply.started": "2023-08-09T09:36:35.115037Z"
    },
    "tags": []
   },
   "outputs": [
    {
     "data": {
      "text/html": [
       "<div>\n",
       "<style scoped>\n",
       "    .dataframe tbody tr th:only-of-type {\n",
       "        vertical-align: middle;\n",
       "    }\n",
       "\n",
       "    .dataframe tbody tr th {\n",
       "        vertical-align: top;\n",
       "    }\n",
       "\n",
       "    .dataframe thead th {\n",
       "        text-align: right;\n",
       "    }\n",
       "</style>\n",
       "<table border=\"1\" class=\"dataframe\">\n",
       "  <thead>\n",
       "    <tr style=\"text-align: right;\">\n",
       "      <th></th>\n",
       "      <th>seq</th>\n",
       "      <th>shuffle</th>\n",
       "      <th>cell_type</th>\n",
       "      <th>pred_mass_center</th>\n",
       "    </tr>\n",
       "  </thead>\n",
       "  <tbody>\n",
       "    <tr>\n",
       "      <th>0</th>\n",
       "      <td>AAAAAAAAATGCGGAGCTGGAGTGAAGCTCCACCCTAAATTCCGCA...</td>\n",
       "      <td>di</td>\n",
       "      <td>c1</td>\n",
       "      <td>2.133846</td>\n",
       "    </tr>\n",
       "    <tr>\n",
       "      <th>1</th>\n",
       "      <td>AAAAAAAAATGCGGAGCTGGAGTGAAGCTCCACCCTAAATTCCGCA...</td>\n",
       "      <td>di</td>\n",
       "      <td>c17</td>\n",
       "      <td>2.039298</td>\n",
       "    </tr>\n",
       "    <tr>\n",
       "      <th>2</th>\n",
       "      <td>AAAAAAAAATGCGGAGCTGGAGTGAAGCTCCACCCTAAATTCCGCA...</td>\n",
       "      <td>di</td>\n",
       "      <td>c2</td>\n",
       "      <td>2.257606</td>\n",
       "    </tr>\n",
       "    <tr>\n",
       "      <th>3</th>\n",
       "      <td>AAAAAAAAATGCGGAGCTGGAGTGAAGCTCCACCCTAAATTCCGCA...</td>\n",
       "      <td>di</td>\n",
       "      <td>c4</td>\n",
       "      <td>2.136955</td>\n",
       "    </tr>\n",
       "    <tr>\n",
       "      <th>4</th>\n",
       "      <td>AAAAAAAAATGCGGAGCTGGAGTGAAGCTCCACCCTAAATTCCGCA...</td>\n",
       "      <td>di</td>\n",
       "      <td>c6</td>\n",
       "      <td>2.073413</td>\n",
       "    </tr>\n",
       "    <tr>\n",
       "      <th>...</th>\n",
       "      <td>...</td>\n",
       "      <td>...</td>\n",
       "      <td>...</td>\n",
       "      <td>...</td>\n",
       "    </tr>\n",
       "    <tr>\n",
       "      <th>499995</th>\n",
       "      <td>AGATCAGAGCCTGCCAGCACTCTCCTCCAGGCTCCACCTACCGGCC...</td>\n",
       "      <td>di</td>\n",
       "      <td>c1</td>\n",
       "      <td>2.577312</td>\n",
       "    </tr>\n",
       "    <tr>\n",
       "      <th>499996</th>\n",
       "      <td>AGATCAGAGCCTGCCAGCACTCTCCTCCAGGCTCCACCTACCGGCC...</td>\n",
       "      <td>di</td>\n",
       "      <td>c17</td>\n",
       "      <td>2.583788</td>\n",
       "    </tr>\n",
       "    <tr>\n",
       "      <th>499997</th>\n",
       "      <td>AGATCAGAGCCTGCCAGCACTCTCCTCCAGGCTCCACCTACCGGCC...</td>\n",
       "      <td>di</td>\n",
       "      <td>c2</td>\n",
       "      <td>2.561730</td>\n",
       "    </tr>\n",
       "    <tr>\n",
       "      <th>499998</th>\n",
       "      <td>AGATCAGAGCCTGCCAGCACTCTCCTCCAGGCTCCACCTACCGGCC...</td>\n",
       "      <td>di</td>\n",
       "      <td>c4</td>\n",
       "      <td>2.530760</td>\n",
       "    </tr>\n",
       "    <tr>\n",
       "      <th>499999</th>\n",
       "      <td>AGATCAGAGCCTGCCAGCACTCTCCTCCAGGCTCCACCTACCGGCC...</td>\n",
       "      <td>di</td>\n",
       "      <td>c6</td>\n",
       "      <td>2.615188</td>\n",
       "    </tr>\n",
       "  </tbody>\n",
       "</table>\n",
       "<p>500000 rows × 4 columns</p>\n",
       "</div>"
      ],
      "text/plain": [
       "                                                      seq shuffle cell_type  \\\n",
       "0       AAAAAAAAATGCGGAGCTGGAGTGAAGCTCCACCCTAAATTCCGCA...      di        c1   \n",
       "1       AAAAAAAAATGCGGAGCTGGAGTGAAGCTCCACCCTAAATTCCGCA...      di       c17   \n",
       "2       AAAAAAAAATGCGGAGCTGGAGTGAAGCTCCACCCTAAATTCCGCA...      di        c2   \n",
       "3       AAAAAAAAATGCGGAGCTGGAGTGAAGCTCCACCCTAAATTCCGCA...      di        c4   \n",
       "4       AAAAAAAAATGCGGAGCTGGAGTGAAGCTCCACCCTAAATTCCGCA...      di        c6   \n",
       "...                                                   ...     ...       ...   \n",
       "499995  AGATCAGAGCCTGCCAGCACTCTCCTCCAGGCTCCACCTACCGGCC...      di        c1   \n",
       "499996  AGATCAGAGCCTGCCAGCACTCTCCTCCAGGCTCCACCTACCGGCC...      di       c17   \n",
       "499997  AGATCAGAGCCTGCCAGCACTCTCCTCCAGGCTCCACCTACCGGCC...      di        c2   \n",
       "499998  AGATCAGAGCCTGCCAGCACTCTCCTCCAGGCTCCACCTACCGGCC...      di        c4   \n",
       "499999  AGATCAGAGCCTGCCAGCACTCTCCTCCAGGCTCCACCTACCGGCC...      di        c6   \n",
       "\n",
       "        pred_mass_center  \n",
       "0               2.133846  \n",
       "1               2.039298  \n",
       "2               2.257606  \n",
       "3               2.136955  \n",
       "4               2.073413  \n",
       "...                  ...  \n",
       "499995          2.577312  \n",
       "499996          2.583788  \n",
       "499997          2.561730  \n",
       "499998          2.530760  \n",
       "499999          2.615188  \n",
       "\n",
       "[500000 rows x 4 columns]"
      ]
     },
     "execution_count": 24,
     "metadata": {},
     "output_type": "execute_result"
    }
   ],
   "source": [
    "score_df_sample"
   ]
  },
  {
   "cell_type": "code",
   "execution_count": 25,
   "id": "5aea518b-4419-441e-a322-57d5f8136c62",
   "metadata": {
    "execution": {
     "iopub.execute_input": "2023-08-09T09:36:35.127497Z",
     "iopub.status.busy": "2023-08-09T09:36:35.127367Z",
     "iopub.status.idle": "2023-08-09T09:36:36.794778Z",
     "shell.execute_reply": "2023-08-09T09:36:36.794110Z",
     "shell.execute_reply.started": "2023-08-09T09:36:35.127486Z"
    },
    "tags": []
   },
   "outputs": [
    {
     "name": "stderr",
     "output_type": "stream",
     "text": [
      "/tmp/ipykernel_319699/2563659270.py:1: SettingWithCopyWarning: \n",
      "A value is trying to be set on a copy of a slice from a DataFrame.\n",
      "Try using .loc[row_indexer,col_indexer] = value instead\n",
      "\n",
      "See the caveats in the documentation: https://pandas.pydata.org/pandas-docs/stable/user_guide/indexing.html#returning-a-view-versus-a-copy\n",
      "  score_df_sample[\"a\"] = score_df_sample[\"seq\"].str.count(\"A\")\n",
      "/tmp/ipykernel_319699/2563659270.py:2: SettingWithCopyWarning: \n",
      "A value is trying to be set on a copy of a slice from a DataFrame.\n",
      "Try using .loc[row_indexer,col_indexer] = value instead\n",
      "\n",
      "See the caveats in the documentation: https://pandas.pydata.org/pandas-docs/stable/user_guide/indexing.html#returning-a-view-versus-a-copy\n",
      "  score_df_sample[\"c\"] = score_df_sample[\"seq\"].str.count(\"C\")\n",
      "/tmp/ipykernel_319699/2563659270.py:3: SettingWithCopyWarning: \n",
      "A value is trying to be set on a copy of a slice from a DataFrame.\n",
      "Try using .loc[row_indexer,col_indexer] = value instead\n",
      "\n",
      "See the caveats in the documentation: https://pandas.pydata.org/pandas-docs/stable/user_guide/indexing.html#returning-a-view-versus-a-copy\n",
      "  score_df_sample[\"g\"] = score_df_sample[\"seq\"].str.count(\"G\")\n",
      "/tmp/ipykernel_319699/2563659270.py:4: SettingWithCopyWarning: \n",
      "A value is trying to be set on a copy of a slice from a DataFrame.\n",
      "Try using .loc[row_indexer,col_indexer] = value instead\n",
      "\n",
      "See the caveats in the documentation: https://pandas.pydata.org/pandas-docs/stable/user_guide/indexing.html#returning-a-view-versus-a-copy\n",
      "  score_df_sample[\"t\"] = score_df_sample[\"seq\"].str.count(\"T\")\n"
     ]
    },
    {
     "data": {
      "text/html": [
       "<div>\n",
       "<style scoped>\n",
       "    .dataframe tbody tr th:only-of-type {\n",
       "        vertical-align: middle;\n",
       "    }\n",
       "\n",
       "    .dataframe tbody tr th {\n",
       "        vertical-align: top;\n",
       "    }\n",
       "\n",
       "    .dataframe thead th {\n",
       "        text-align: right;\n",
       "    }\n",
       "</style>\n",
       "<table border=\"1\" class=\"dataframe\">\n",
       "  <thead>\n",
       "    <tr style=\"text-align: right;\">\n",
       "      <th></th>\n",
       "      <th>seq</th>\n",
       "      <th>shuffle</th>\n",
       "      <th>cell_type</th>\n",
       "      <th>pred_mass_center</th>\n",
       "      <th>a</th>\n",
       "      <th>c</th>\n",
       "      <th>g</th>\n",
       "      <th>t</th>\n",
       "    </tr>\n",
       "  </thead>\n",
       "  <tbody>\n",
       "    <tr>\n",
       "      <th>0</th>\n",
       "      <td>AAAAAAAAATGCGGAGCTGGAGTGAAGCTCCACCCTAAATTCCGCA...</td>\n",
       "      <td>di</td>\n",
       "      <td>c1</td>\n",
       "      <td>2.133846</td>\n",
       "      <td>18</td>\n",
       "      <td>11</td>\n",
       "      <td>14</td>\n",
       "      <td>7</td>\n",
       "    </tr>\n",
       "    <tr>\n",
       "      <th>1</th>\n",
       "      <td>AAAAAAAAATGCGGAGCTGGAGTGAAGCTCCACCCTAAATTCCGCA...</td>\n",
       "      <td>di</td>\n",
       "      <td>c17</td>\n",
       "      <td>2.039298</td>\n",
       "      <td>18</td>\n",
       "      <td>11</td>\n",
       "      <td>14</td>\n",
       "      <td>7</td>\n",
       "    </tr>\n",
       "    <tr>\n",
       "      <th>2</th>\n",
       "      <td>AAAAAAAAATGCGGAGCTGGAGTGAAGCTCCACCCTAAATTCCGCA...</td>\n",
       "      <td>di</td>\n",
       "      <td>c2</td>\n",
       "      <td>2.257606</td>\n",
       "      <td>18</td>\n",
       "      <td>11</td>\n",
       "      <td>14</td>\n",
       "      <td>7</td>\n",
       "    </tr>\n",
       "    <tr>\n",
       "      <th>3</th>\n",
       "      <td>AAAAAAAAATGCGGAGCTGGAGTGAAGCTCCACCCTAAATTCCGCA...</td>\n",
       "      <td>di</td>\n",
       "      <td>c4</td>\n",
       "      <td>2.136955</td>\n",
       "      <td>18</td>\n",
       "      <td>11</td>\n",
       "      <td>14</td>\n",
       "      <td>7</td>\n",
       "    </tr>\n",
       "    <tr>\n",
       "      <th>4</th>\n",
       "      <td>AAAAAAAAATGCGGAGCTGGAGTGAAGCTCCACCCTAAATTCCGCA...</td>\n",
       "      <td>di</td>\n",
       "      <td>c6</td>\n",
       "      <td>2.073413</td>\n",
       "      <td>18</td>\n",
       "      <td>11</td>\n",
       "      <td>14</td>\n",
       "      <td>7</td>\n",
       "    </tr>\n",
       "    <tr>\n",
       "      <th>...</th>\n",
       "      <td>...</td>\n",
       "      <td>...</td>\n",
       "      <td>...</td>\n",
       "      <td>...</td>\n",
       "      <td>...</td>\n",
       "      <td>...</td>\n",
       "      <td>...</td>\n",
       "      <td>...</td>\n",
       "    </tr>\n",
       "    <tr>\n",
       "      <th>499995</th>\n",
       "      <td>AGATCAGAGCCTGCCAGCACTCTCCTCCAGGCTCCACCTACCGGCC...</td>\n",
       "      <td>di</td>\n",
       "      <td>c1</td>\n",
       "      <td>2.577312</td>\n",
       "      <td>10</td>\n",
       "      <td>22</td>\n",
       "      <td>11</td>\n",
       "      <td>7</td>\n",
       "    </tr>\n",
       "    <tr>\n",
       "      <th>499996</th>\n",
       "      <td>AGATCAGAGCCTGCCAGCACTCTCCTCCAGGCTCCACCTACCGGCC...</td>\n",
       "      <td>di</td>\n",
       "      <td>c17</td>\n",
       "      <td>2.583788</td>\n",
       "      <td>10</td>\n",
       "      <td>22</td>\n",
       "      <td>11</td>\n",
       "      <td>7</td>\n",
       "    </tr>\n",
       "    <tr>\n",
       "      <th>499997</th>\n",
       "      <td>AGATCAGAGCCTGCCAGCACTCTCCTCCAGGCTCCACCTACCGGCC...</td>\n",
       "      <td>di</td>\n",
       "      <td>c2</td>\n",
       "      <td>2.561730</td>\n",
       "      <td>10</td>\n",
       "      <td>22</td>\n",
       "      <td>11</td>\n",
       "      <td>7</td>\n",
       "    </tr>\n",
       "    <tr>\n",
       "      <th>499998</th>\n",
       "      <td>AGATCAGAGCCTGCCAGCACTCTCCTCCAGGCTCCACCTACCGGCC...</td>\n",
       "      <td>di</td>\n",
       "      <td>c4</td>\n",
       "      <td>2.530760</td>\n",
       "      <td>10</td>\n",
       "      <td>22</td>\n",
       "      <td>11</td>\n",
       "      <td>7</td>\n",
       "    </tr>\n",
       "    <tr>\n",
       "      <th>499999</th>\n",
       "      <td>AGATCAGAGCCTGCCAGCACTCTCCTCCAGGCTCCACCTACCGGCC...</td>\n",
       "      <td>di</td>\n",
       "      <td>c6</td>\n",
       "      <td>2.615188</td>\n",
       "      <td>10</td>\n",
       "      <td>22</td>\n",
       "      <td>11</td>\n",
       "      <td>7</td>\n",
       "    </tr>\n",
       "  </tbody>\n",
       "</table>\n",
       "<p>500000 rows × 8 columns</p>\n",
       "</div>"
      ],
      "text/plain": [
       "                                                      seq shuffle cell_type  \\\n",
       "0       AAAAAAAAATGCGGAGCTGGAGTGAAGCTCCACCCTAAATTCCGCA...      di        c1   \n",
       "1       AAAAAAAAATGCGGAGCTGGAGTGAAGCTCCACCCTAAATTCCGCA...      di       c17   \n",
       "2       AAAAAAAAATGCGGAGCTGGAGTGAAGCTCCACCCTAAATTCCGCA...      di        c2   \n",
       "3       AAAAAAAAATGCGGAGCTGGAGTGAAGCTCCACCCTAAATTCCGCA...      di        c4   \n",
       "4       AAAAAAAAATGCGGAGCTGGAGTGAAGCTCCACCCTAAATTCCGCA...      di        c6   \n",
       "...                                                   ...     ...       ...   \n",
       "499995  AGATCAGAGCCTGCCAGCACTCTCCTCCAGGCTCCACCTACCGGCC...      di        c1   \n",
       "499996  AGATCAGAGCCTGCCAGCACTCTCCTCCAGGCTCCACCTACCGGCC...      di       c17   \n",
       "499997  AGATCAGAGCCTGCCAGCACTCTCCTCCAGGCTCCACCTACCGGCC...      di        c2   \n",
       "499998  AGATCAGAGCCTGCCAGCACTCTCCTCCAGGCTCCACCTACCGGCC...      di        c4   \n",
       "499999  AGATCAGAGCCTGCCAGCACTCTCCTCCAGGCTCCACCTACCGGCC...      di        c6   \n",
       "\n",
       "        pred_mass_center   a   c   g  t  \n",
       "0               2.133846  18  11  14  7  \n",
       "1               2.039298  18  11  14  7  \n",
       "2               2.257606  18  11  14  7  \n",
       "3               2.136955  18  11  14  7  \n",
       "4               2.073413  18  11  14  7  \n",
       "...                  ...  ..  ..  .. ..  \n",
       "499995          2.577312  10  22  11  7  \n",
       "499996          2.583788  10  22  11  7  \n",
       "499997          2.561730  10  22  11  7  \n",
       "499998          2.530760  10  22  11  7  \n",
       "499999          2.615188  10  22  11  7  \n",
       "\n",
       "[500000 rows x 8 columns]"
      ]
     },
     "execution_count": 25,
     "metadata": {},
     "output_type": "execute_result"
    }
   ],
   "source": [
    "score_df_sample[\"a\"] = score_df_sample[\"seq\"].str.count(\"A\")\n",
    "score_df_sample[\"c\"] = score_df_sample[\"seq\"].str.count(\"C\")\n",
    "score_df_sample[\"g\"] = score_df_sample[\"seq\"].str.count(\"G\")\n",
    "score_df_sample[\"t\"] = score_df_sample[\"seq\"].str.count(\"T\")\n",
    "score_df_sample"
   ]
  },
  {
   "cell_type": "markdown",
   "id": "829e1e23",
   "metadata": {},
   "source": [
    "---"
   ]
  }
 ],
 "metadata": {
  "kernelspec": {
   "display_name": "Python [conda env:ml]",
   "language": "python",
   "name": "conda-env-ml-py"
  },
  "language_info": {
   "codemirror_mode": {
    "name": "ipython",
    "version": 3
   },
   "file_extension": ".py",
   "mimetype": "text/x-python",
   "name": "python",
   "nbconvert_exporter": "python",
   "pygments_lexer": "ipython3",
   "version": "3.11.3"
  },
  "vscode": {
   "interpreter": {
    "hash": "64b0dffe91cf8f88d3a84eea1f79c78b7512619aa8cb3e6f3df2fb7199efc743"
   }
  }
 },
 "nbformat": 4,
 "nbformat_minor": 5
}

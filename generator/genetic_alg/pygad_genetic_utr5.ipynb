{
 "cells": [
  {
   "cell_type": "code",
   "execution_count": 1,
   "id": "b8f45815",
   "metadata": {
    "execution": {
     "iopub.execute_input": "2023-08-12T14:07:14.931985Z",
     "iopub.status.busy": "2023-08-12T14:07:14.931576Z",
     "iopub.status.idle": "2023-08-12T14:07:42.951169Z",
     "shell.execute_reply": "2023-08-12T14:07:42.950578Z",
     "shell.execute_reply.started": "2023-08-12T14:07:14.931962Z"
    },
    "tags": []
   },
   "outputs": [],
   "source": [
    "import os\n",
    "import sys\n",
    "\n",
    "import itertools\n",
    "\n",
    "import numpy as np\n",
    "import pandas as pd\n",
    "import scipy.stats as ss\n",
    "import matplotlib.pyplot as plt\n",
    "import seaborn as sns\n",
    "\n",
    "from tqdm.notebook import tqdm\n",
    "\n",
    "import torch\n",
    "from torch.utils.data import DataLoader\n",
    "import pytorch_lightning as pl"
   ]
  },
  {
   "cell_type": "code",
   "execution_count": 2,
   "id": "a98c3b42-c160-4080-afc8-6f3b35215017",
   "metadata": {
    "execution": {
     "iopub.execute_input": "2023-08-12T14:07:42.953115Z",
     "iopub.status.busy": "2023-08-12T14:07:42.952729Z",
     "iopub.status.idle": "2023-08-12T14:07:43.060374Z",
     "shell.execute_reply": "2023-08-12T14:07:43.059661Z",
     "shell.execute_reply.started": "2023-08-12T14:07:42.953092Z"
    },
    "tags": []
   },
   "outputs": [],
   "source": [
    "import pygad"
   ]
  },
  {
   "cell_type": "code",
   "execution_count": 3,
   "id": "fe84d2fb-9b1c-4361-838b-909fb93bfd88",
   "metadata": {
    "execution": {
     "iopub.execute_input": "2023-08-12T14:07:43.061388Z",
     "iopub.status.busy": "2023-08-12T14:07:43.061145Z",
     "iopub.status.idle": "2023-08-12T14:07:43.078305Z",
     "shell.execute_reply": "2023-08-12T14:07:43.077613Z",
     "shell.execute_reply.started": "2023-08-12T14:07:43.061367Z"
    },
    "tags": []
   },
   "outputs": [],
   "source": [
    "sys.path.append(\"../../predictor/regression_multiple\")\n",
    "import dataset_regression as utrdata\n",
    "from lit_regressor import RNARegressor"
   ]
  },
  {
   "cell_type": "code",
   "execution_count": 4,
   "id": "c2e54199-e5f5-4b54-b8fa-64e7596b82ea",
   "metadata": {
    "execution": {
     "iopub.execute_input": "2023-08-12T14:07:43.079403Z",
     "iopub.status.busy": "2023-08-12T14:07:43.079177Z",
     "iopub.status.idle": "2023-08-12T14:07:43.092836Z",
     "shell.execute_reply": "2023-08-12T14:07:43.092201Z",
     "shell.execute_reply.started": "2023-08-12T14:07:43.079382Z"
    },
    "tags": []
   },
   "outputs": [],
   "source": [
    "class FitnessModel:\n",
    "    def __init__(\n",
    "        self,\n",
    "        model_path: str,\n",
    "        features: tuple,\n",
    "        construct_type: str,\n",
    "    ):\n",
    "        self.dataset_params = dict(\n",
    "            features=features,\n",
    "            construct_type=construct_type,\n",
    "            augment=False,\n",
    "            augment_test_time=False,\n",
    "            augment_kws=dict(\n",
    "                extend_left=0,\n",
    "                extend_right=0,\n",
    "                shift_left=0,\n",
    "                shift_right=0,\n",
    "                revcomp=False,\n",
    "            ),\n",
    "        )\n",
    "        if construct_type.lower() == \"utr3\":\n",
    "            self.celltype_codes = list(utrdata.CELLTYPE_CODES_UTR3.keys())\n",
    "        elif construct_type.lower() == \"utr5\":\n",
    "            self.celltype_codes = list(utrdata.CELLTYPE_CODES_UTR5.keys())\n",
    "        else:\n",
    "            raise ValueError(\"'' must be from ['utr3', 'utr5']\")\n",
    "\n",
    "        self.load_model(model_path)\n",
    "\n",
    "    def load_model(self, ckpt_path):\n",
    "        self.model = RNARegressor.load_from_checkpoint(ckpt_path)\n",
    "        progressbar_callback = pl.callbacks.TQDMProgressBar(refresh_rate=2.0)\n",
    "        self.trainer = pl.Trainer(\n",
    "            callbacks=[progressbar_callback],\n",
    "            logger=False,\n",
    "            accelerator=\"gpu\",\n",
    "            devices=1,\n",
    "            deterministic=True,\n",
    "        )\n",
    "\n",
    "    def fit(self, *args):\n",
    "        raise NotImplementedError()\n",
    "\n",
    "    def predict(self, seqs, celltype_codes=None):\n",
    "        df = self.create_seq_df(seqs, celltype_codes=celltype_codes)\n",
    "        ds = utrdata.UTRData(\n",
    "            df=df,\n",
    "            **self.dataset_params\n",
    "        )\n",
    "        dl = DataLoader(\n",
    "            ds,\n",
    "            batch_size=1024,\n",
    "            num_workers=10,\n",
    "            shuffle=False,\n",
    "            drop_last=False\n",
    "        )\n",
    "        prediction = self.trainer.predict(model=self.model, dataloaders=dl)\n",
    "\n",
    "        val_pred, _ = zip(*prediction)\n",
    "        val_pred = torch.concat(val_pred)\n",
    "        val_pred = val_pred.numpy()\n",
    "\n",
    "        df.drop([\"mass_center\", \"diff\"], axis=1, inplace=True)\n",
    "        df[\"pred_mass_center\"] = val_pred[:, 1]\n",
    "        return df\n",
    "\n",
    "    def predict_pairwise(self, seqs, celltype_codes=None):\n",
    "        assert len(celltype_codes) == 2\n",
    "        df = self.predict(seqs, celltype_codes=celltype_codes)\n",
    "        df_pivot = df.pivot(columns=\"cell_type\", index=[\"num\", \"seq\"], values=\"pred_mass_center\")\n",
    "        diff = df_pivot[celltype_codes[0]] - df_pivot[celltype_codes[1]]\n",
    "        return diff.to_numpy()\n",
    "\n",
    "    def create_seq_df(self, seqs, celltype_codes=None):\n",
    "        if celltype_codes is None:\n",
    "            celltype_codes = self.celltype_codes\n",
    "        df = pd.DataFrame({\"seq\": seqs} | {ct: 0.0 for ct in celltype_codes}).reset_index(names=\"num\")\n",
    "        df_long = df.melt(id_vars=[\"num\", \"seq\"], value_vars=celltype_codes, var_name=\"cell_type\", value_name=\"mass_center\")\n",
    "        df_long[\"diff\"] = 0.0\n",
    "        return df_long"
   ]
  },
  {
   "cell_type": "code",
   "execution_count": 5,
   "id": "01aa85de-44f3-45df-a783-3d9df729862c",
   "metadata": {
    "execution": {
     "iopub.execute_input": "2023-08-12T14:07:43.093531Z",
     "iopub.status.busy": "2023-08-12T14:07:43.093387Z",
     "iopub.status.idle": "2023-08-12T14:07:48.009668Z",
     "shell.execute_reply": "2023-08-12T14:07:48.008758Z",
     "shell.execute_reply.started": "2023-08-12T14:07:43.093518Z"
    },
    "tags": []
   },
   "outputs": [
    {
     "name": "stderr",
     "output_type": "stream",
     "text": [
      "GPU available: True (cuda), used: True\n",
      "TPU available: False, using: 0 TPU cores\n",
      "IPU available: False, using: 0 IPUs\n",
      "HPU available: False, using: 0 HPUs\n"
     ]
    }
   ],
   "source": [
    "ckpt_path = \"../../regression_multiple/model_validation/model-utr5-deltas-epoch=9-step=840.ckpt\"\n",
    "\n",
    "fitness_model = FitnessModel(\n",
    "    model_path=ckpt_path,\n",
    "    features=(\"sequence\", \"positional\", \"conditions\"),\n",
    "    construct_type=\"utr5\",\n",
    ")"
   ]
  },
  {
   "cell_type": "code",
   "execution_count": 6,
   "id": "56ac73d3-73fd-4836-bd07-d98185e36ae2",
   "metadata": {
    "execution": {
     "iopub.execute_input": "2023-08-12T14:07:48.011049Z",
     "iopub.status.busy": "2023-08-12T14:07:48.010807Z",
     "iopub.status.idle": "2023-08-12T14:07:48.014956Z",
     "shell.execute_reply": "2023-08-12T14:07:48.014333Z",
     "shell.execute_reply.started": "2023-08-12T14:07:48.011025Z"
    },
    "tags": []
   },
   "outputs": [],
   "source": [
    "INVERSE_CODES = {v: k for k, v in utrdata.CODES.items()}"
   ]
  },
  {
   "cell_type": "code",
   "execution_count": 7,
   "id": "b52d2729-c188-4e1c-b4c3-941aa64a9329",
   "metadata": {
    "execution": {
     "iopub.execute_input": "2023-08-12T14:07:48.017146Z",
     "iopub.status.busy": "2023-08-12T14:07:48.016742Z",
     "iopub.status.idle": "2023-08-12T14:07:48.020382Z",
     "shell.execute_reply": "2023-08-12T14:07:48.019899Z",
     "shell.execute_reply.started": "2023-08-12T14:07:48.017129Z"
    },
    "tags": []
   },
   "outputs": [],
   "source": [
    "def encode_seq_onehot(seq):\n",
    "    seq_enc = np.array([utrdata.CODES[i] for i in seq])\n",
    "    return seq_enc\n",
    "\n",
    "\n",
    "def decode_seq_onehot(arr):\n",
    "    seq = \"\".join([INVERSE_CODES[i] for i in arr])\n",
    "    return seq"
   ]
  },
  {
   "cell_type": "code",
   "execution_count": 8,
   "id": "635a8eb9-5c91-4281-b5d9-197ecb5b91e6",
   "metadata": {
    "execution": {
     "iopub.execute_input": "2023-08-12T14:07:48.021129Z",
     "iopub.status.busy": "2023-08-12T14:07:48.020969Z",
     "iopub.status.idle": "2023-08-12T14:07:48.024655Z",
     "shell.execute_reply": "2023-08-12T14:07:48.024034Z",
     "shell.execute_reply.started": "2023-08-12T14:07:48.021114Z"
    },
    "tags": []
   },
   "outputs": [],
   "source": [
    "CELL_TYPE_CODES = None  # pygad disallows use of itertools.partial for some reason\n",
    "\n",
    "def fitness_func(ga, batch, batch_idx):\n",
    "    seqs = pd.Series([decode_seq_onehot(arr) for arr in batch])\n",
    "    eorfs = -10 * seqs.str.contains(\"ATG\").to_numpy()\n",
    "    pred = fitness_model.predict_pairwise(seqs, celltype_codes=CELL_TYPE_CODES)\n",
    "    return pred + eorfs"
   ]
  },
  {
   "cell_type": "code",
   "execution_count": 9,
   "id": "0bddf365-d5f9-4903-b8ff-14b8b8e6a337",
   "metadata": {
    "execution": {
     "iopub.execute_input": "2023-08-12T14:07:48.026661Z",
     "iopub.status.busy": "2023-08-12T14:07:48.026002Z",
     "iopub.status.idle": "2023-08-12T14:07:48.303199Z",
     "shell.execute_reply": "2023-08-12T14:07:48.302545Z",
     "shell.execute_reply.started": "2023-08-12T14:07:48.026620Z"
    },
    "tags": []
   },
   "outputs": [
    {
     "data": {
      "text/plain": [
       "0        ATTGCTGCAGACGCTCACCCCAGACACTCACTGCACCGGAGTGAGC...\n",
       "1        TGGAAGGGCCGTGTTCGTGTTGGCAAAGAAGGTCGGCTGCTGAGCC...\n",
       "2        ACTTCCGTTGAGTTCCGCCTCGCCGTTTGTCCCTTGCGGTACCCGT...\n",
       "3        TTTGTCCCTTGCGGTACCCGTCCGCATACGAATCTAGCCCGGGAAC...\n",
       "4        ATACGAATCTAGCCCGGGAACCGAGTTGCGGGAGTGCGGTCTGTGC...\n",
       "                               ...                        \n",
       "21604    CTCCGGCTCGACGCCGGCTCTCTTTTTGACGCCCCGCCGCCGGGGT...\n",
       "21605    CGGCTGCGGCTGCGGCTGCGGCTGCTACTGCTACGCTCCTAGCTTG...\n",
       "21606    CCTGGAGCCTCCGCGCCGGCTCAGCCTGGGGGCGGGCTCCGGTCCG...\n",
       "21607    GCAGAGTCTGCGGACCCGGCGCCGAGGCGGCCACCCGAGACGCGGC...\n",
       "21608    CCGTCGTCTCCTCCGCGTCCCCGCCCGCCAGCTGCTGTCGGAGGTT...\n",
       "Name: seq, Length: 21609, dtype: object"
      ]
     },
     "execution_count": 9,
     "metadata": {},
     "output_type": "execute_result"
    }
   ],
   "source": [
    "src_data = pd.read_csv(\"../../data/UTR5_zinb_norm_singleref_2023-05-23.csv\")[\"seq\"].drop_duplicates().reset_index(drop=True)\n",
    "src_data"
   ]
  },
  {
   "cell_type": "code",
   "execution_count": 10,
   "id": "f525f688-a1a3-47e0-af5d-2363e61d2a85",
   "metadata": {
    "execution": {
     "iopub.execute_input": "2023-08-12T14:07:48.303976Z",
     "iopub.status.busy": "2023-08-12T14:07:48.303830Z",
     "iopub.status.idle": "2023-08-12T14:07:48.315788Z",
     "shell.execute_reply": "2023-08-12T14:07:48.315047Z",
     "shell.execute_reply.started": "2023-08-12T14:07:48.303964Z"
    }
   },
   "outputs": [],
   "source": [
    "from shuffle_dinucl import shuffle_seq_dinucl"
   ]
  },
  {
   "cell_type": "code",
   "execution_count": 11,
   "id": "6a886a59-6a30-4342-b460-e328263a91a3",
   "metadata": {
    "execution": {
     "iopub.execute_input": "2023-08-12T14:07:48.316590Z",
     "iopub.status.busy": "2023-08-12T14:07:48.316424Z",
     "iopub.status.idle": "2023-08-12T14:07:48.320322Z",
     "shell.execute_reply": "2023-08-12T14:07:48.319805Z",
     "shell.execute_reply.started": "2023-08-12T14:07:48.316576Z"
    }
   },
   "outputs": [],
   "source": [
    "def generate_initial_population(n: int, seqs=src_data):\n",
    "    if n <= seqs.shape[0]:\n",
    "        seqs = seqs.sample(n, replace=False)\n",
    "    else:\n",
    "        seqs = seqs.sample(n, replace=True)\n",
    "    seqs = seqs.apply(shuffle_seq_dinucl)\n",
    "    enc_seqs = np.stack([encode_seq_onehot(s) for s in seqs])\n",
    "    return enc_seqs"
   ]
  },
  {
   "cell_type": "code",
   "execution_count": null,
   "id": "fd03a46b-62fb-4191-8c38-78fa875df3b7",
   "metadata": {
    "execution": {
     "iopub.execute_input": "2023-08-12T14:07:48.325119Z",
     "iopub.status.busy": "2023-08-12T14:07:48.324988Z"
    },
    "scrolled": true,
    "tags": []
   },
   "outputs": [
    {
     "name": "stderr",
     "output_type": "stream",
     "text": [
      "You are using a CUDA device ('NVIDIA GeForce RTX 3090') that has Tensor Cores. To properly utilize them, you should set `torch.set_float32_matmul_precision('medium' | 'high')` which will trade-off precision for performance. For more details, read https://pytorch.org/docs/stable/generated/torch.set_float32_matmul_precision.html#torch.set_float32_matmul_precision\n",
      "LOCAL_RANK: 0 - CUDA_VISIBLE_DEVICES: [0,1]\n"
     ]
    },
    {
     "data": {
      "application/vnd.jupyter.widget-view+json": {
       "model_id": "a62dd55d7033482d97f09b1d60eaa59c",
       "version_major": 2,
       "version_minor": 0
      },
      "text/plain": [
       "Predicting: 0it [00:00, ?it/s]"
      ]
     },
     "metadata": {},
     "output_type": "display_data"
    },
    {
     "name": "stderr",
     "output_type": "stream",
     "text": [
      "You are using a CUDA device ('NVIDIA GeForce RTX 3090') that has Tensor Cores. To properly utilize them, you should set `torch.set_float32_matmul_precision('medium' | 'high')` which will trade-off precision for performance. For more details, read https://pytorch.org/docs/stable/generated/torch.set_float32_matmul_precision.html#torch.set_float32_matmul_precision\n",
      "LOCAL_RANK: 0 - CUDA_VISIBLE_DEVICES: [0,1]\n"
     ]
    },
    {
     "data": {
      "application/vnd.jupyter.widget-view+json": {
       "model_id": "4aa9b00663c14bf4ae191d5816c530ea",
       "version_major": 2,
       "version_minor": 0
      },
      "text/plain": [
       "Predicting: 0it [00:00, ?it/s]"
      ]
     },
     "metadata": {},
     "output_type": "display_data"
    },
    {
     "name": "stderr",
     "output_type": "stream",
     "text": [
      "You are using a CUDA device ('NVIDIA GeForce RTX 3090') that has Tensor Cores. To properly utilize them, you should set `torch.set_float32_matmul_precision('medium' | 'high')` which will trade-off precision for performance. For more details, read https://pytorch.org/docs/stable/generated/torch.set_float32_matmul_precision.html#torch.set_float32_matmul_precision\n",
      "LOCAL_RANK: 0 - CUDA_VISIBLE_DEVICES: [0,1]\n"
     ]
    },
    {
     "data": {
      "application/vnd.jupyter.widget-view+json": {
       "model_id": "74c092f2e77c4c4398742b55607173db",
       "version_major": 2,
       "version_minor": 0
      },
      "text/plain": [
       "Predicting: 0it [00:00, ?it/s]"
      ]
     },
     "metadata": {},
     "output_type": "display_data"
    },
    {
     "name": "stdout",
     "output_type": "stream",
     "text": [
      "Finished generation: 1\n"
     ]
    },
    {
     "name": "stderr",
     "output_type": "stream",
     "text": [
      "You are using a CUDA device ('NVIDIA GeForce RTX 3090') that has Tensor Cores. To properly utilize them, you should set `torch.set_float32_matmul_precision('medium' | 'high')` which will trade-off precision for performance. For more details, read https://pytorch.org/docs/stable/generated/torch.set_float32_matmul_precision.html#torch.set_float32_matmul_precision\n",
      "LOCAL_RANK: 0 - CUDA_VISIBLE_DEVICES: [0,1]\n"
     ]
    },
    {
     "data": {
      "application/vnd.jupyter.widget-view+json": {
       "model_id": "1460bea0bcb44f9e96cf885cf9621efc",
       "version_major": 2,
       "version_minor": 0
      },
      "text/plain": [
       "Predicting: 0it [00:00, ?it/s]"
      ]
     },
     "metadata": {},
     "output_type": "display_data"
    },
    {
     "name": "stderr",
     "output_type": "stream",
     "text": [
      "You are using a CUDA device ('NVIDIA GeForce RTX 3090') that has Tensor Cores. To properly utilize them, you should set `torch.set_float32_matmul_precision('medium' | 'high')` which will trade-off precision for performance. For more details, read https://pytorch.org/docs/stable/generated/torch.set_float32_matmul_precision.html#torch.set_float32_matmul_precision\n",
      "LOCAL_RANK: 0 - CUDA_VISIBLE_DEVICES: [0,1]\n"
     ]
    },
    {
     "data": {
      "application/vnd.jupyter.widget-view+json": {
       "model_id": "1877bc2df9b247129954cab7e80e0ca8",
       "version_major": 2,
       "version_minor": 0
      },
      "text/plain": [
       "Predicting: 0it [00:00, ?it/s]"
      ]
     },
     "metadata": {},
     "output_type": "display_data"
    },
    {
     "name": "stdout",
     "output_type": "stream",
     "text": [
      "Finished generation: 2\n"
     ]
    },
    {
     "name": "stderr",
     "output_type": "stream",
     "text": [
      "You are using a CUDA device ('NVIDIA GeForce RTX 3090') that has Tensor Cores. To properly utilize them, you should set `torch.set_float32_matmul_precision('medium' | 'high')` which will trade-off precision for performance. For more details, read https://pytorch.org/docs/stable/generated/torch.set_float32_matmul_precision.html#torch.set_float32_matmul_precision\n",
      "LOCAL_RANK: 0 - CUDA_VISIBLE_DEVICES: [0,1]\n"
     ]
    },
    {
     "data": {
      "application/vnd.jupyter.widget-view+json": {
       "model_id": "c59d77bebb874fea9a8b4dee10d9a6e1",
       "version_major": 2,
       "version_minor": 0
      },
      "text/plain": [
       "Predicting: 0it [00:00, ?it/s]"
      ]
     },
     "metadata": {},
     "output_type": "display_data"
    },
    {
     "name": "stderr",
     "output_type": "stream",
     "text": [
      "You are using a CUDA device ('NVIDIA GeForce RTX 3090') that has Tensor Cores. To properly utilize them, you should set `torch.set_float32_matmul_precision('medium' | 'high')` which will trade-off precision for performance. For more details, read https://pytorch.org/docs/stable/generated/torch.set_float32_matmul_precision.html#torch.set_float32_matmul_precision\n",
      "LOCAL_RANK: 0 - CUDA_VISIBLE_DEVICES: [0,1]\n"
     ]
    },
    {
     "data": {
      "application/vnd.jupyter.widget-view+json": {
       "model_id": "b91221bf819143ce93d048ebd03bcafa",
       "version_major": 2,
       "version_minor": 0
      },
      "text/plain": [
       "Predicting: 0it [00:00, ?it/s]"
      ]
     },
     "metadata": {},
     "output_type": "display_data"
    },
    {
     "name": "stdout",
     "output_type": "stream",
     "text": [
      "Finished generation: 3\n"
     ]
    },
    {
     "name": "stderr",
     "output_type": "stream",
     "text": [
      "You are using a CUDA device ('NVIDIA GeForce RTX 3090') that has Tensor Cores. To properly utilize them, you should set `torch.set_float32_matmul_precision('medium' | 'high')` which will trade-off precision for performance. For more details, read https://pytorch.org/docs/stable/generated/torch.set_float32_matmul_precision.html#torch.set_float32_matmul_precision\n",
      "LOCAL_RANK: 0 - CUDA_VISIBLE_DEVICES: [0,1]\n"
     ]
    },
    {
     "data": {
      "application/vnd.jupyter.widget-view+json": {
       "model_id": "bdb516ba4f2e43a5bc9ba05177a8bb9c",
       "version_major": 2,
       "version_minor": 0
      },
      "text/plain": [
       "Predicting: 0it [00:00, ?it/s]"
      ]
     },
     "metadata": {},
     "output_type": "display_data"
    },
    {
     "name": "stderr",
     "output_type": "stream",
     "text": [
      "You are using a CUDA device ('NVIDIA GeForce RTX 3090') that has Tensor Cores. To properly utilize them, you should set `torch.set_float32_matmul_precision('medium' | 'high')` which will trade-off precision for performance. For more details, read https://pytorch.org/docs/stable/generated/torch.set_float32_matmul_precision.html#torch.set_float32_matmul_precision\n",
      "LOCAL_RANK: 0 - CUDA_VISIBLE_DEVICES: [0,1]\n"
     ]
    },
    {
     "data": {
      "application/vnd.jupyter.widget-view+json": {
       "model_id": "a3154df332204455a9ad1009e1fd1445",
       "version_major": 2,
       "version_minor": 0
      },
      "text/plain": [
       "Predicting: 0it [00:00, ?it/s]"
      ]
     },
     "metadata": {},
     "output_type": "display_data"
    },
    {
     "name": "stdout",
     "output_type": "stream",
     "text": [
      "Finished generation: 4\n"
     ]
    }
   ],
   "source": [
    "def on_gen(ga_instance):\n",
    "    print(\"Finished generation:\", ga_instance.generations_completed)\n",
    "    # print(\"Best solution:\", *ga_instance.best_solution())\n",
    "\n",
    "\n",
    "n_obj = 10000\n",
    "\n",
    "generated = dict()\n",
    "num_genes = 50\n",
    "for seed, cell_types in itertools.product(range(1, 11), itertools.permutations(fitness_model.celltype_codes, 2)):\n",
    "    CELL_TYPE_CODES = cell_types\n",
    "    cell_type_tag = '-'.join(cell_types)\n",
    "    file_name = os.path.join(\"saved_utr5_v4\", f\"utr5-seed={seed}-genes={num_genes}-{cell_type_tag}.csv\")\n",
    "\n",
    "    np.random.seed(seed)\n",
    "    initial_population = generate_initial_population(n=n_obj)\n",
    "\n",
    "    ga_instance = pygad.GA(\n",
    "        # Basic parameters\n",
    "        random_seed=seed,\n",
    "        num_generations=25,\n",
    "        stop_criteria=\"saturate_10\",\n",
    "        initial_population=initial_population,\n",
    "        sol_per_pop=n_obj,\n",
    "        fitness_batch_size=n_obj,\n",
    "        on_generation=on_gen,\n",
    "        # Genes and fitness\n",
    "        fitness_func=fitness_func,\n",
    "        gene_space=np.arange(0, 4),\n",
    "        num_genes=num_genes,\n",
    "        # Mutation process\n",
    "        mutation_type=\"adaptive\",\n",
    "        mutation_probability=(0.2, 0.05),\n",
    "        num_parents_mating=n_obj // 2,\n",
    "        parent_selection_type=\"sss\",\n",
    "        # Crossover process\n",
    "        crossover_type=\"two_points\",  # \"single_point\", \"two_points\"\n",
    "        crossover_probability=0.1,\n",
    "        # Selection process\n",
    "        keep_parents=100,\n",
    "        keep_elitism=1,\n",
    "    )\n",
    "\n",
    "    ga_instance.run()\n",
    "    ga_instance.plot_fitness()\n",
    "    population = ga_instance.population\n",
    "    seqs = pd.Series([decode_seq_onehot(arr) for arr in population])\n",
    "\n",
    "    gen_df = fitness_model.predict(seqs)\n",
    "    gen_df.to_csv(file_name, index=False)\n",
    "    generated[cell_type_tag] = gen_df"
   ]
  },
  {
   "cell_type": "code",
   "execution_count": null,
   "id": "d03610da-4b34-4e50-b4f1-ab2ade00ed82",
   "metadata": {
    "tags": []
   },
   "outputs": [],
   "source": [
    "generated.keys()"
   ]
  }
 ],
 "metadata": {
  "kernelspec": {
   "display_name": "Python [conda env:ml]",
   "language": "python",
   "name": "conda-env-ml-py"
  },
  "language_info": {
   "codemirror_mode": {
    "name": "ipython",
    "version": 3
   },
   "file_extension": ".py",
   "mimetype": "text/x-python",
   "name": "python",
   "nbconvert_exporter": "python",
   "pygments_lexer": "ipython3",
   "version": "3.11.3"
  },
  "vscode": {
   "interpreter": {
    "hash": "64b0dffe91cf8f88d3a84eea1f79c78b7512619aa8cb3e6f3df2fb7199efc743"
   }
  }
 },
 "nbformat": 4,
 "nbformat_minor": 5
}

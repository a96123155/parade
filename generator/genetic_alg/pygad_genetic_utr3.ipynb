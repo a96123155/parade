{
 "cells": [
  {
   "cell_type": "code",
   "execution_count": 1,
   "id": "b8f45815",
   "metadata": {
    "execution": {
     "iopub.execute_input": "2023-08-09T16:13:14.523805Z",
     "iopub.status.busy": "2023-08-09T16:13:14.523611Z",
     "iopub.status.idle": "2023-08-09T16:13:16.880524Z",
     "shell.execute_reply": "2023-08-09T16:13:16.879834Z",
     "shell.execute_reply.started": "2023-08-09T16:13:14.523784Z"
    },
    "tags": []
   },
   "outputs": [],
   "source": [
    "import os\n",
    "import sys\n",
    "\n",
    "import itertools\n",
    "\n",
    "import numpy as np\n",
    "import pandas as pd\n",
    "import scipy.stats as ss\n",
    "import matplotlib.pyplot as plt\n",
    "import seaborn as sns\n",
    "\n",
    "from tqdm.notebook import tqdm\n",
    "\n",
    "import torch\n",
    "from torch.utils.data import DataLoader\n",
    "import pytorch_lightning as pl"
   ]
  },
  {
   "cell_type": "code",
   "execution_count": 2,
   "id": "a98c3b42-c160-4080-afc8-6f3b35215017",
   "metadata": {
    "execution": {
     "iopub.execute_input": "2023-08-09T16:13:16.882108Z",
     "iopub.status.busy": "2023-08-09T16:13:16.881763Z",
     "iopub.status.idle": "2023-08-09T16:13:16.889445Z",
     "shell.execute_reply": "2023-08-09T16:13:16.888876Z",
     "shell.execute_reply.started": "2023-08-09T16:13:16.882090Z"
    },
    "tags": []
   },
   "outputs": [],
   "source": [
    "import pygad"
   ]
  },
  {
   "cell_type": "code",
   "execution_count": 3,
   "id": "fe84d2fb-9b1c-4361-838b-909fb93bfd88",
   "metadata": {
    "execution": {
     "iopub.execute_input": "2023-08-09T16:13:16.890428Z",
     "iopub.status.busy": "2023-08-09T16:13:16.890247Z",
     "iopub.status.idle": "2023-08-09T16:13:16.893953Z",
     "shell.execute_reply": "2023-08-09T16:13:16.893470Z",
     "shell.execute_reply.started": "2023-08-09T16:13:16.890411Z"
    },
    "tags": []
   },
   "outputs": [],
   "source": [
    "sys.path.append(\"../../predictor/regression_multiple\")\n",
    "import dataset_regression as utrdata\n",
    "from lit_regressor import RNARegressor"
   ]
  },
  {
   "cell_type": "code",
   "execution_count": 4,
   "id": "c2e54199-e5f5-4b54-b8fa-64e7596b82ea",
   "metadata": {
    "execution": {
     "iopub.execute_input": "2023-08-09T16:13:16.894760Z",
     "iopub.status.busy": "2023-08-09T16:13:16.894528Z",
     "iopub.status.idle": "2023-08-09T16:13:16.905043Z",
     "shell.execute_reply": "2023-08-09T16:13:16.904354Z",
     "shell.execute_reply.started": "2023-08-09T16:13:16.894746Z"
    },
    "tags": []
   },
   "outputs": [],
   "source": [
    "class FitnessModel:\n",
    "    def __init__(\n",
    "        self,\n",
    "        model_path: str,\n",
    "        features: tuple,\n",
    "        construct_type: str,\n",
    "    ):\n",
    "        self.dataset_params = dict(\n",
    "            features=features,\n",
    "            construct_type=construct_type,\n",
    "            augment=False,\n",
    "            augment_test_time=False,\n",
    "            augment_kws=dict(\n",
    "                extend_left=0,\n",
    "                extend_right=0,\n",
    "                shift_left=0,\n",
    "                shift_right=0,\n",
    "                revcomp=False,\n",
    "            ),\n",
    "        )\n",
    "        if construct_type.lower() == \"utr3\":\n",
    "            self.celltype_codes = list(utrdata.CELLTYPE_CODES_UTR3.keys())\n",
    "        elif construct_type.lower() == \"utr5\":\n",
    "            self.celltype_codes = list(utrdata.CELLTYPE_CODES_UTR5.keys())\n",
    "        else:\n",
    "            raise ValueError(\"'' must be from ['utr3', 'utr5']\")\n",
    "\n",
    "        self.load_model(model_path)\n",
    "\n",
    "    def load_model(self, ckpt_path):\n",
    "        self.model = RNARegressor.load_from_checkpoint(ckpt_path)\n",
    "        progressbar_callback = pl.callbacks.TQDMProgressBar(refresh_rate=2.0)\n",
    "        self.trainer = pl.Trainer(\n",
    "            callbacks=[progressbar_callback],\n",
    "            logger=False,\n",
    "            accelerator=\"gpu\",\n",
    "            devices=[1],\n",
    "            deterministic=True,\n",
    "        )\n",
    "\n",
    "    def fit(self, *args):\n",
    "        raise NotImplementedError()\n",
    "\n",
    "    def predict(self, seqs, celltype_codes=None):\n",
    "        df = self.create_seq_df(seqs, celltype_codes=celltype_codes)\n",
    "        ds = utrdata.UTRData(\n",
    "            df=df,\n",
    "            **self.dataset_params\n",
    "        )\n",
    "        dl = DataLoader(\n",
    "            ds,\n",
    "            batch_size=1024,\n",
    "            num_workers=10,\n",
    "            shuffle=False,\n",
    "            drop_last=False\n",
    "        )\n",
    "        prediction = self.trainer.predict(model=self.model, dataloaders=dl)\n",
    "\n",
    "        val_pred, _ = zip(*prediction)\n",
    "        val_pred = torch.concat(val_pred)\n",
    "        val_pred = val_pred.numpy()\n",
    "\n",
    "        df.drop([\"mass_center\", \"diff\"], axis=1, inplace=True)\n",
    "        df[\"pred_mass_center\"] = val_pred[:, 1]\n",
    "        return df\n",
    "\n",
    "    def predict_pairwise(self, seqs, celltype_codes=None):\n",
    "        assert len(celltype_codes) == 2\n",
    "        df = self.predict(seqs, celltype_codes=celltype_codes)\n",
    "        df_pivot = df.pivot(columns=\"cell_type\", index=[\"num\", \"seq\"], values=\"pred_mass_center\")\n",
    "        diff = df_pivot[celltype_codes[0]] - df_pivot[celltype_codes[1]]\n",
    "        return diff.to_numpy()\n",
    "\n",
    "    def create_seq_df(self, seqs, celltype_codes=None):\n",
    "        if celltype_codes is None:\n",
    "            celltype_codes = self.celltype_codes\n",
    "        df = pd.DataFrame({\"seq\": seqs} | {ct: 0.0 for ct in celltype_codes}).reset_index(names=\"num\")\n",
    "        df_long = df.melt(id_vars=[\"num\", \"seq\"], value_vars=celltype_codes, var_name=\"cell_type\", value_name=\"mass_center\")\n",
    "        df_long[\"diff\"] = 0.0\n",
    "        return df_long"
   ]
  },
  {
   "cell_type": "code",
   "execution_count": 5,
   "id": "01aa85de-44f3-45df-a783-3d9df729862c",
   "metadata": {
    "execution": {
     "iopub.execute_input": "2023-08-09T16:13:16.906176Z",
     "iopub.status.busy": "2023-08-09T16:13:16.905912Z",
     "iopub.status.idle": "2023-08-09T16:13:19.131929Z",
     "shell.execute_reply": "2023-08-09T16:13:19.131213Z",
     "shell.execute_reply.started": "2023-08-09T16:13:16.906151Z"
    },
    "tags": []
   },
   "outputs": [
    {
     "name": "stderr",
     "output_type": "stream",
     "text": [
      "/home/arsen_l/.miniconda3/envs/ml/lib/python3.11/site-packages/pytorch_lightning/utilities/migration/utils.py:49: PossibleUserWarning: The loaded checkpoint was produced with Lightning v2.0.4, which is newer than your current Lightning version: v2.0.2\n",
      "  rank_zero_warn(\n",
      "GPU available: True (cuda), used: True\n",
      "TPU available: False, using: 0 TPU cores\n",
      "IPU available: False, using: 0 IPUs\n",
      "HPU available: False, using: 0 HPUs\n"
     ]
    }
   ],
   "source": [
    "ckpt_path = \"../../regression_multiple/model_validation/model-utr3-deltas-epoch=9-step=1330.ckpt\"\n",
    "\n",
    "fitness_model = FitnessModel(\n",
    "    model_path=ckpt_path,\n",
    "    features=(\"sequence\", \"positional\", \"conditions\"),\n",
    "    construct_type=\"utr3\",\n",
    ")"
   ]
  },
  {
   "cell_type": "code",
   "execution_count": 6,
   "id": "4d2f8d1d-b6b9-4709-8b04-c187c2a89c85",
   "metadata": {
    "execution": {
     "iopub.execute_input": "2023-08-09T16:13:19.132973Z",
     "iopub.status.busy": "2023-08-09T16:13:19.132737Z",
     "iopub.status.idle": "2023-08-09T16:13:19.139071Z",
     "shell.execute_reply": "2023-08-09T16:13:19.138247Z",
     "shell.execute_reply.started": "2023-08-09T16:13:19.132957Z"
    },
    "tags": []
   },
   "outputs": [
    {
     "data": {
      "text/plain": [
       "['c1', 'c2', 'c4', 'c6', 'c13', 'c17']"
      ]
     },
     "execution_count": 6,
     "metadata": {},
     "output_type": "execute_result"
    }
   ],
   "source": [
    "fitness_model.celltype_codes.pop(fitness_model.celltype_codes.index(\"c10\"))\n",
    "fitness_model.celltype_codes"
   ]
  },
  {
   "cell_type": "code",
   "execution_count": 7,
   "id": "56ac73d3-73fd-4836-bd07-d98185e36ae2",
   "metadata": {
    "execution": {
     "iopub.execute_input": "2023-08-09T16:13:19.143191Z",
     "iopub.status.busy": "2023-08-09T16:13:19.142498Z",
     "iopub.status.idle": "2023-08-09T16:13:19.147578Z",
     "shell.execute_reply": "2023-08-09T16:13:19.146907Z",
     "shell.execute_reply.started": "2023-08-09T16:13:19.143147Z"
    },
    "tags": []
   },
   "outputs": [],
   "source": [
    "INVERSE_CODES = {v: k for k, v in utrdata.CODES.items()}"
   ]
  },
  {
   "cell_type": "code",
   "execution_count": 8,
   "id": "b52d2729-c188-4e1c-b4c3-941aa64a9329",
   "metadata": {
    "execution": {
     "iopub.execute_input": "2023-08-09T16:13:19.148455Z",
     "iopub.status.busy": "2023-08-09T16:13:19.148243Z",
     "iopub.status.idle": "2023-08-09T16:13:19.152393Z",
     "shell.execute_reply": "2023-08-09T16:13:19.151814Z",
     "shell.execute_reply.started": "2023-08-09T16:13:19.148433Z"
    },
    "tags": []
   },
   "outputs": [],
   "source": [
    "def encode_seq_onehot(seq):\n",
    "    seq_enc = np.array([utrdata.CODES[i] for i in seq])\n",
    "    return seq_enc\n",
    "\n",
    "\n",
    "def decode_seq_onehot(arr):\n",
    "    seq = \"\".join([INVERSE_CODES[i] for i in arr])\n",
    "    return seq"
   ]
  },
  {
   "cell_type": "code",
   "execution_count": 9,
   "id": "635a8eb9-5c91-4281-b5d9-197ecb5b91e6",
   "metadata": {
    "execution": {
     "iopub.execute_input": "2023-08-09T16:13:19.153305Z",
     "iopub.status.busy": "2023-08-09T16:13:19.153092Z",
     "iopub.status.idle": "2023-08-09T16:13:19.156957Z",
     "shell.execute_reply": "2023-08-09T16:13:19.156446Z",
     "shell.execute_reply.started": "2023-08-09T16:13:19.153285Z"
    },
    "tags": []
   },
   "outputs": [],
   "source": [
    "CELL_TYPE_CODES = None  # pygad disallows use of itertools.partial for some reason\n",
    "\n",
    "def fitness_func(ga, batch, batch_idx):\n",
    "    seqs = pd.Series([decode_seq_onehot(arr) for arr in batch])\n",
    "    #eorfs = -10 * seqs.str.contains(\"ATG\").to_numpy()\n",
    "    pred = fitness_model.predict_pairwise(seqs, celltype_codes=CELL_TYPE_CODES)\n",
    "    return pred  # pred + eorfs"
   ]
  },
  {
   "cell_type": "code",
   "execution_count": 10,
   "id": "4e35b315-7919-4414-9164-70b43e51b2ce",
   "metadata": {
    "execution": {
     "iopub.execute_input": "2023-08-09T16:13:19.158086Z",
     "iopub.status.busy": "2023-08-09T16:13:19.157630Z",
     "iopub.status.idle": "2023-08-09T16:13:19.792056Z",
     "shell.execute_reply": "2023-08-09T16:13:19.791410Z",
     "shell.execute_reply.started": "2023-08-09T16:13:19.158067Z"
    },
    "tags": []
   },
   "outputs": [
    {
     "data": {
      "text/plain": [
       "0        TGCAGTTTTGACCTCCCAGGCTCAAGCGATCCTCCTGCCTCAGCCT...\n",
       "1        ATCAAAAAGCAGGCCAGATTCTAATCAAAATCAGGTAAATTTTAAT...\n",
       "2        ATTTTAGTTTGCCCAAATAATATCTTGAAAATGCTCTGAATTTTAC...\n",
       "3        TTTCCCTTTTTCCCTCCCTCTATTCTCTTCACTAACATTGGAAATT...\n",
       "4        TTCCTTCAGAGAATTCTCCTTTTCTTCTATGTTTCTGACTGCAATA...\n",
       "                               ...                        \n",
       "28421    AATGGTAAAGATTTTTACTCAGTGTGTGCTGAAACACTAAATTAAA...\n",
       "28422    GCTAAAGCATTGCTTATTCAGTGGTATTCAGTAGATAAGATCTATT...\n",
       "28423    TGTGCTTCCTAAGAGTACAAACCTGAGCATATGTCCAGGCTTGCAA...\n",
       "28424    TAGGTGGTGATCTTAAATGGGTGAGATGGAACGAGAGCACACATTA...\n",
       "28425    AGGAGGCAACTGTGGCATTGCTTCCTTAACCAGCTCATGGTGTGTG...\n",
       "Name: seq, Length: 28426, dtype: object"
      ]
     },
     "execution_count": 10,
     "metadata": {},
     "output_type": "execute_result"
    }
   ],
   "source": [
    "src_data = pd.read_csv(\"../../data/UTR3_zinb_norm_singleref_2023-05-23.csv\")[\"seq\"].drop_duplicates().reset_index(drop=True)\n",
    "src_data"
   ]
  },
  {
   "cell_type": "code",
   "execution_count": 11,
   "id": "26d33ead-9680-46d8-b43b-e87128179f86",
   "metadata": {
    "execution": {
     "iopub.execute_input": "2023-08-09T16:13:19.792828Z",
     "iopub.status.busy": "2023-08-09T16:13:19.792682Z",
     "iopub.status.idle": "2023-08-09T16:13:19.796213Z",
     "shell.execute_reply": "2023-08-09T16:13:19.795604Z",
     "shell.execute_reply.started": "2023-08-09T16:13:19.792815Z"
    }
   },
   "outputs": [],
   "source": [
    "from shuffle_dinucl import shuffle_seq_dinucl"
   ]
  },
  {
   "cell_type": "code",
   "execution_count": 12,
   "id": "10572c44-1b1e-4e21-8d34-280bd7ea6719",
   "metadata": {
    "execution": {
     "iopub.execute_input": "2023-08-09T16:13:19.796855Z",
     "iopub.status.busy": "2023-08-09T16:13:19.796718Z",
     "iopub.status.idle": "2023-08-09T16:13:19.799933Z",
     "shell.execute_reply": "2023-08-09T16:13:19.799539Z",
     "shell.execute_reply.started": "2023-08-09T16:13:19.796842Z"
    }
   },
   "outputs": [],
   "source": [
    "def generate_initial_population(n: int, seqs=src_data):\n",
    "    if n <= seqs.shape[0]:\n",
    "        seqs = seqs.sample(n, replace=False)\n",
    "    else:\n",
    "        seqs = seqs.sample(n, replace=True)\n",
    "    seqs = seqs.apply(shuffle_seq_dinucl)\n",
    "    enc_seqs = np.stack([encode_seq_onehot(s) for s in seqs])\n",
    "    return enc_seqs"
   ]
  },
  {
   "cell_type": "code",
   "execution_count": null,
   "id": "fd03a46b-62fb-4191-8c38-78fa875df3b7",
   "metadata": {
    "scrolled": true,
    "tags": []
   },
   "outputs": [],
   "source": [
    "def on_gen(ga_instance):\n",
    "    print(\"Finished generation:\", ga_instance.generations_completed)\n",
    "    # print(\"Best solution:\", *ga_instance.best_solution())\n",
    "\n",
    "\n",
    "n_obj = 10000\n",
    "\n",
    "generated = dict()\n",
    "num_genes = 240\n",
    "for seed, cell_types in itertools.product(range(1, 11), itertools.permutations(fitness_model.celltype_codes, 2)):\n",
    "    CELL_TYPE_CODES = cell_types\n",
    "    cell_type_tag = '-'.join(cell_types)\n",
    "    file_name = os.path.join(\"saved_utr3_v3\", f\"utr3-seed={seed}-genes={num_genes}-{cell_type_tag}.csv\")\n",
    "    \n",
    "    np.random.seed(seed)\n",
    "    initial_population = generate_initial_population(n=n_obj)\n",
    "\n",
    "    ga_instance = pygad.GA(\n",
    "        # Basic parameters\n",
    "        random_seed=seed,\n",
    "        num_generations=25,\n",
    "        stop_criteria=\"saturate_10\",\n",
    "        initial_population=initial_population,\n",
    "        sol_per_pop=n_obj,\n",
    "        fitness_batch_size=n_obj,\n",
    "        on_generation=on_gen,\n",
    "        # Genes and fitness\n",
    "        fitness_func=fitness_func,\n",
    "        gene_space=np.arange(0, 4),\n",
    "        num_genes=num_genes,\n",
    "        # Mutation process\n",
    "        mutation_type=\"adaptive\",\n",
    "        mutation_probability=(0.2, 0.05),\n",
    "        num_parents_mating=n_obj // 2,\n",
    "        parent_selection_type=\"sss\",\n",
    "        # Crossover process\n",
    "        crossover_type=\"two_points\",  # \"single_point\", \"two_points\"\n",
    "        crossover_probability=0.1,\n",
    "        # Selection process\n",
    "        keep_parents=100,\n",
    "        keep_elitism=1,\n",
    "    )\n",
    "\n",
    "    ga_instance.run()\n",
    "    ga_instance.plot_fitness()\n",
    "    population = ga_instance.population\n",
    "    seqs = pd.Series([decode_seq_onehot(arr) for arr in population])\n",
    "\n",
    "    gen_df = fitness_model.predict(seqs)\n",
    "    gen_df.to_csv(file_name, index=False)\n",
    "    generated[cell_type_tag] = gen_df"
   ]
  },
  {
   "cell_type": "code",
   "execution_count": null,
   "id": "d03610da-4b34-4e50-b4f1-ab2ade00ed82",
   "metadata": {
    "tags": []
   },
   "outputs": [],
   "source": [
    "generated.keys()"
   ]
  },
  {
   "cell_type": "markdown",
   "id": "829e1e23",
   "metadata": {},
   "source": [
    "---"
   ]
  }
 ],
 "metadata": {
  "kernelspec": {
   "display_name": "Python [conda env:ml]",
   "language": "python",
   "name": "conda-env-ml-py"
  },
  "language_info": {
   "codemirror_mode": {
    "name": "ipython",
    "version": 3
   },
   "file_extension": ".py",
   "mimetype": "text/x-python",
   "name": "python",
   "nbconvert_exporter": "python",
   "pygments_lexer": "ipython3",
   "version": "3.11.3"
  },
  "vscode": {
   "interpreter": {
    "hash": "64b0dffe91cf8f88d3a84eea1f79c78b7512619aa8cb3e6f3df2fb7199efc743"
   }
  }
 },
 "nbformat": 4,
 "nbformat_minor": 5
}

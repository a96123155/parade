{
 "cells": [
  {
   "cell_type": "code",
   "execution_count": 1,
   "id": "b8f45815",
   "metadata": {
    "execution": {
     "iopub.execute_input": "2024-10-13T14:50:46.705083Z",
     "iopub.status.busy": "2024-10-13T14:50:46.704413Z",
     "iopub.status.idle": "2024-10-13T14:50:56.854442Z",
     "shell.execute_reply": "2024-10-13T14:50:56.853046Z",
     "shell.execute_reply.started": "2024-10-13T14:50:46.705007Z"
    },
    "tags": []
   },
   "outputs": [],
   "source": [
    "import math\n",
    "\n",
    "from typing import Optional, List, Tuple\n",
    "\n",
    "from collections import OrderedDict\n",
    "\n",
    "import numpy as np\n",
    "import pandas as pd\n",
    "import scipy.stats as ss\n",
    "import matplotlib.pyplot as plt\n",
    "import seaborn as sns\n",
    "\n",
    "from tqdm.auto import tqdm as tqdm_auto\n",
    "from tqdm.notebook import tqdm\n",
    "\n",
    "import torch\n",
    "import torch.nn as nn\n",
    "import torch.nn.functional as F\n",
    "from torch.utils.data import DataLoader\n",
    "import pytorch_lightning as pl"
   ]
  },
  {
   "cell_type": "markdown",
   "id": "2254ec04-ebb2-4891-9cac-e31f8059fa88",
   "metadata": {},
   "source": [
    "In this tutorial, it is shown how to use the PARADE neural network for training on new data from scratch."
   ]
  },
  {
   "cell_type": "markdown",
   "id": "9c0b8fa2-a425-4cc2-b3bf-5c25f91a54eb",
   "metadata": {},
   "source": [
    "### Defining PARADE infrastructure\n",
    "\n",
    "In the following cells, PARADE infrastructural code is defined, as PyTorch Dataset class and additional classes required for sequence string encoding."
   ]
  },
  {
   "cell_type": "code",
   "execution_count": 2,
   "id": "c262e174-96e2-4cb6-b8b7-03d78bace87a",
   "metadata": {
    "execution": {
     "iopub.execute_input": "2024-10-13T14:50:56.859079Z",
     "iopub.status.busy": "2024-10-13T14:50:56.857730Z",
     "iopub.status.idle": "2024-10-13T14:50:56.870141Z",
     "shell.execute_reply": "2024-10-13T14:50:56.869090Z",
     "shell.execute_reply.started": "2024-10-13T14:50:56.859012Z"
    }
   },
   "outputs": [],
   "source": [
    "class Seq2Tensor(nn.Module):\n",
    "    CODES = {\n",
    "        \"A\": 0,\n",
    "        \"C\": 1,\n",
    "        \"G\": 2,\n",
    "        \"T\": 3,\n",
    "        \"N\": 4,\n",
    "    }\n",
    "\n",
    "    def __init__(self):\n",
    "        super().__init__()\n",
    "\n",
    "    @staticmethod\n",
    "    def n2id(n):\n",
    "        return Seq2Tensor.CODES[n]\n",
    "\n",
    "    def forward(self, seq):\n",
    "        seq = [self.n2id(x) for x in seq.upper()]\n",
    "        code = torch.tensor(seq)\n",
    "        code = F.one_hot(code, num_classes=5)\n",
    "\n",
    "        code[code[:, 4] == 1] = 0.25\n",
    "        code = code[:, :4].float()\n",
    "        return code.transpose(0, 1)"
   ]
  },
  {
   "cell_type": "code",
   "execution_count": 3,
   "id": "2fb17e9b-5f35-400e-8d51-68e0bb8cfd3c",
   "metadata": {
    "execution": {
     "iopub.execute_input": "2024-10-13T14:50:56.872917Z",
     "iopub.status.busy": "2024-10-13T14:50:56.872074Z",
     "iopub.status.idle": "2024-10-13T14:50:56.881490Z",
     "shell.execute_reply": "2024-10-13T14:50:56.880577Z",
     "shell.execute_reply.started": "2024-10-13T14:50:56.872873Z"
    }
   },
   "outputs": [],
   "source": [
    "class Condition2Tensor(nn.Module):\n",
    "    def __init__(self, num_conditions, condition_codes):\n",
    "        super().__init__()\n",
    "        self.num_conditions = num_conditions\n",
    "        self.condition_codes = condition_codes\n",
    "\n",
    "    def forward(self, condition):\n",
    "        code = self.condition_codes[condition]\n",
    "        code = torch.tensor(code)\n",
    "        code = F.one_hot(code, num_classes=self.num_conditions)\n",
    "\n",
    "        return code.float()"
   ]
  },
  {
   "cell_type": "code",
   "execution_count": 4,
   "id": "d5749725-caeb-417a-b6b8-8eef631783ff",
   "metadata": {
    "execution": {
     "iopub.execute_input": "2024-10-13T14:50:56.884098Z",
     "iopub.status.busy": "2024-10-13T14:50:56.883323Z",
     "iopub.status.idle": "2024-10-13T14:50:56.905604Z",
     "shell.execute_reply": "2024-10-13T14:50:56.904516Z",
     "shell.execute_reply.started": "2024-10-13T14:50:56.884054Z"
    },
    "tags": []
   },
   "outputs": [],
   "source": [
    "class SequenceData(torch.utils.data.Dataset):\n",
    "    def __init__(\n",
    "        self,\n",
    "        df: pd.DataFrame,\n",
    "        seq_col: str = \"seq\",\n",
    "        predict_cols: Optional[List[str]] = None,\n",
    "        condition_col: Optional[str] = None,\n",
    "        conditions: Optional[List[str] | Tuple[str]] = None,\n",
    "    ):\n",
    "        \"\"\"\n",
    "        :param: df (pandas.DataFrame): a DataFrame that contains necessary information\n",
    "        :param: seq_col (str): name of the column in `df` with sequence strings\n",
    "        :param: predict_cols (List[str]): list of column names in `df` with target variables\n",
    "        :param: condition_col (Optional[str]): name of the column in `df` with conditional\n",
    "                variable that is added to input\n",
    "        :param: conditions (Optional[List]): list of all possible conditions for `condition_col`\n",
    "        \"\"\"\n",
    "        self.data = df\n",
    "        self.seq_col = seq_col\n",
    "        self.yield_targets = (predict_cols is not None)\n",
    "        if self.yield_targets:\n",
    "            self.predict_cols = predict_cols\n",
    "        self.use_conditions = (condition_col is not None)\n",
    "        if self.use_conditions:\n",
    "            self.condition_col = condition_col\n",
    "            self.condition_codes = {code: i for i, code in enumerate(conditions)}\n",
    "            self.num_conditions = len(self.condition_codes)\n",
    "\n",
    "        # Data preparation\n",
    "        self.s2t = Seq2Tensor()\n",
    "        if self.use_conditions:\n",
    "            self.c2t = Condition2Tensor(num_conditions=self.num_conditions, condition_codes=self.condition_codes)\n",
    "\n",
    "        self.prepare_data(df)\n",
    "\n",
    "    def prepare_data(self, df: pd.DataFrame):\n",
    "        self.features = ['sequence']\n",
    "        self.seqs = df[self.seq_col]\n",
    "        if self.yield_targets:\n",
    "            self.targets = df[self.predict_cols].to_numpy(dtype=np.float32)\n",
    "        if self.use_conditions:\n",
    "            self.conditions = df[self.condition_col]\n",
    "            self.features.append('conditions')\n",
    "\n",
    "    def get_num_channels(self):\n",
    "        if self.use_conditions:\n",
    "            return 4 + self.num_conditions\n",
    "        else:\n",
    "            return 4\n",
    "\n",
    "    def __len__(self):\n",
    "        return len(self.data)\n",
    "\n",
    "    def __getitem__(self, index):\n",
    "        channel_groups = dict()\n",
    "        seq = self.s2t(self.seqs.iloc[index])\n",
    "        channel_groups['sequence'] = seq\n",
    "\n",
    "        if self.use_conditions:\n",
    "            condition = self.c2t(self.conditions.iloc[index])\n",
    "            condition_chs = condition[:, None].broadcast_to((condition.shape[0], seq.shape[-1]))\n",
    "            channel_groups['conditions'] = condition_chs\n",
    "\n",
    "        to_concat = [channel_groups[k] for k in self.features]\n",
    "        compiled_seq = torch.concat(to_concat)\n",
    "\n",
    "        if self.yield_targets:\n",
    "            targets = self.targets[index]\n",
    "            return (compiled_seq, targets)\n",
    "        else:\n",
    "            return (compiled_seq,)"
   ]
  },
  {
   "cell_type": "markdown",
   "id": "96c321e3-e636-4e72-89e5-6602d2c8a93e",
   "metadata": {},
   "source": [
    "Here, the neural network classes are defined:"
   ]
  },
  {
   "cell_type": "code",
   "execution_count": 5,
   "id": "7356579f-8c67-40dc-9564-2747e196d64d",
   "metadata": {
    "execution": {
     "iopub.execute_input": "2024-10-13T14:50:56.908575Z",
     "iopub.status.busy": "2024-10-13T14:50:56.907659Z",
     "iopub.status.idle": "2024-10-13T14:50:56.918633Z",
     "shell.execute_reply": "2024-10-13T14:50:56.917526Z",
     "shell.execute_reply.started": "2024-10-13T14:50:56.908525Z"
    },
    "tags": []
   },
   "outputs": [],
   "source": [
    "class SELayer(nn.Module):\n",
    "    \"\"\"\n",
    "    Squeeze-and-Excite layer.\n",
    "    Parameters\n",
    "    ----------\n",
    "    inp : int\n",
    "        Middle layer size.\n",
    "    oup : int\n",
    "        Input and ouput size.\n",
    "    reduction : int, optional\n",
    "        Reduction parameter. The default is 4.\n",
    "    \"\"\"\n",
    "\n",
    "    def __init__(self, inp, oup, reduction=4):\n",
    "        super(SELayer, self).__init__()\n",
    "        self.fc = nn.Sequential(\n",
    "            nn.Linear(oup, int(inp // reduction)),\n",
    "            nn.SiLU(),\n",
    "            nn.Linear(int(inp // reduction), oup),\n",
    "            nn.Sigmoid()\n",
    "        )\n",
    "\n",
    "    def forward(self, x):\n",
    "        b, c, _, = x.size()\n",
    "        y = x.view(b, c, -1).mean(dim=2)\n",
    "        y = self.fc(y).view(b, c, 1)\n",
    "        return x * y"
   ]
  },
  {
   "cell_type": "code",
   "execution_count": 6,
   "id": "1e9c13b0-e173-4308-bd5c-475784730eff",
   "metadata": {
    "execution": {
     "iopub.execute_input": "2024-10-13T14:50:56.921562Z",
     "iopub.status.busy": "2024-10-13T14:50:56.920818Z",
     "iopub.status.idle": "2024-10-13T14:50:56.963025Z",
     "shell.execute_reply": "2024-10-13T14:50:56.961623Z",
     "shell.execute_reply.started": "2024-10-13T14:50:56.921519Z"
    },
    "tags": []
   },
   "outputs": [],
   "source": [
    "class LegNetModule(nn.Module):\n",
    "    __constants__ = ('ks', 'resize_factor')\n",
    "\n",
    "    def __init__(\n",
    "        self,\n",
    "        in_channels: int = 4,\n",
    "        out_channels: int = 1,\n",
    "        conv_sizes: Tuple[int] = (128, 64, 64, 32, 32),\n",
    "        mapper_size: int = 128,\n",
    "        linear_sizes: Optional[Tuple[int]] = (64,),\n",
    "        ks: int = 5,\n",
    "        resize_factor: int = 4,\n",
    "        use_max_pooling: bool = False,\n",
    "        activation: nn.Module = nn.SiLU,\n",
    "        final_activation: nn.Module = nn.Identity,\n",
    "        filter_per_group: int = 2,\n",
    "        se_reduction: int = 4,\n",
    "        bn_momentum: float = 0.1\n",
    "    ):\n",
    "        super().__init__()\n",
    "        self.in_channels = in_channels\n",
    "        self.out_channels = out_channels\n",
    "        self.conv_sizes = conv_sizes\n",
    "        self.mapper_size = mapper_size\n",
    "        self.linear_sizes = linear_sizes\n",
    "        self.resize_factor = resize_factor\n",
    "        self.use_max_pooling = use_max_pooling\n",
    "        self.se_reduction = se_reduction\n",
    "        self.bn_momentum = bn_momentum\n",
    "        seqextblocks = OrderedDict()\n",
    "\n",
    "        block = nn.Sequential(\n",
    "            nn.Conv1d(\n",
    "                in_channels=self.in_channels,\n",
    "                out_channels=self.conv_sizes[0],\n",
    "                kernel_size=ks,\n",
    "                padding='same',\n",
    "                bias=False\n",
    "            ),\n",
    "            nn.BatchNorm1d(self.conv_sizes[0],\n",
    "                           momentum=self.bn_momentum),\n",
    "            activation()\n",
    "        )\n",
    "        seqextblocks['blc0'] = block\n",
    "\n",
    "        for ind, (prev_sz, sz) in enumerate(zip(self.conv_sizes[:-1], self.conv_sizes[1:])):\n",
    "            block = nn.Sequential(\n",
    "                nn.Conv1d(\n",
    "                    in_channels=prev_sz,\n",
    "                    out_channels=sz * self.resize_factor,\n",
    "                    kernel_size=1,\n",
    "                    padding='same',\n",
    "                    bias=False\n",
    "                ),\n",
    "                nn.BatchNorm1d(sz * self.resize_factor,\n",
    "                               momentum=self.bn_momentum),\n",
    "                activation(),\n",
    "\n",
    "                nn.Conv1d(\n",
    "                    in_channels=sz * self.resize_factor,\n",
    "                    out_channels=sz * self.resize_factor,\n",
    "                    kernel_size=ks,\n",
    "                    groups=sz * self.resize_factor // filter_per_group,\n",
    "                    padding='same',\n",
    "                    bias=False\n",
    "                ),\n",
    "                nn.BatchNorm1d(sz * self.resize_factor,\n",
    "                               momentum=self.bn_momentum),\n",
    "                activation(),\n",
    "                SELayer(prev_sz, sz * self.resize_factor, reduction=self.se_reduction),\n",
    "                nn.Conv1d(\n",
    "                    in_channels=sz * self.resize_factor,\n",
    "                    out_channels=prev_sz,\n",
    "                    kernel_size=1,\n",
    "                    padding='same',\n",
    "                    bias=False\n",
    "                ),\n",
    "                nn.BatchNorm1d(prev_sz,\n",
    "                               momentum=self.bn_momentum),\n",
    "                activation(),\n",
    "            )\n",
    "            seqextblocks[f'inv_res_blc{ind}'] = block\n",
    "            block = nn.Sequential(\n",
    "                nn.Conv1d(\n",
    "                    in_channels=2 * prev_sz,\n",
    "                    out_channels=sz,\n",
    "                    kernel_size=ks,\n",
    "                    padding='same',\n",
    "                    bias=False\n",
    "                ),\n",
    "                nn.BatchNorm1d(sz,\n",
    "                               momentum=self.bn_momentum),\n",
    "                activation(),\n",
    "            )\n",
    "            seqextblocks[f'resize_blc{ind}'] = block\n",
    "\n",
    "        if self.use_max_pooling:\n",
    "            self.maxpooling = nn.MaxPool1d(kernel_size=2, stride=2)\n",
    "        else:\n",
    "            self.maxpooling = nn.Identity()\n",
    "\n",
    "        self.seqextractor = nn.ModuleDict(seqextblocks)\n",
    "\n",
    "        self.mapper = block = nn.Sequential(\n",
    "            nn.Conv1d(\n",
    "                in_channels=self.conv_sizes[-1],\n",
    "                out_channels=self.mapper_size,\n",
    "                kernel_size=1,\n",
    "                padding='same',\n",
    "            ),\n",
    "        )\n",
    "\n",
    "        self.avgpooling = nn.Sequential(\n",
    "            nn.AdaptiveAvgPool1d(1),\n",
    "            nn.Flatten(),\n",
    "        )\n",
    "\n",
    "        if self.linear_sizes is not None:\n",
    "            first_linear = nn.Sequential(\n",
    "                nn.Dropout(0.1),\n",
    "                nn.Linear(self.mapper_size, self.linear_sizes[0]),\n",
    "                nn.BatchNorm1d(self.linear_sizes[0],\n",
    "                               momentum=self.bn_momentum),\n",
    "                activation()\n",
    "            )\n",
    "\n",
    "            linear_blocks = list()\n",
    "            for prev_sz, sz in zip(self.linear_sizes[:-1], self.linear_sizes[1:]):\n",
    "                block = nn.Sequential(\n",
    "                    nn.Dropout(0.1),\n",
    "                    nn.Linear(prev_sz, sz),\n",
    "                    nn.BatchNorm1d(sz,\n",
    "                                   momentum=self.bn_momentum),\n",
    "                    activation()\n",
    "                )\n",
    "                linear_blocks.append(block)\n",
    "\n",
    "            last_linear = nn.Sequential(\n",
    "                nn.Linear(self.linear_sizes[-1], self.out_channels),\n",
    "                final_activation()\n",
    "            )\n",
    "\n",
    "            self.linear = nn.Sequential(\n",
    "                nn.Dropout(0.1),\n",
    "                first_linear,\n",
    "                *linear_blocks,\n",
    "                last_linear,\n",
    "            )\n",
    "        else:\n",
    "            self.linear = nn.Sequential(\n",
    "                nn.Linear(self.mapper_size, self.out_channels),\n",
    "                final_activation()\n",
    "            )\n",
    "\n",
    "    def feature_extractor(self, x):\n",
    "        x = self.seqextractor['blc0'](x)\n",
    "\n",
    "        for i in range(len(self.conv_sizes) - 1):\n",
    "            x = torch.cat([x, self.seqextractor[f'inv_res_blc{i}'](x)], dim=1)\n",
    "            x = self.seqextractor[f'resize_blc{i}'](x)\n",
    "            x = self.maxpooling(x)\n",
    "        return x\n",
    "\n",
    "    def forward(self, x):\n",
    "        x = self.feature_extractor(x)\n",
    "        x = self.mapper(x)\n",
    "        x = self.avgpooling(x)\n",
    "        x = self.linear(x)\n",
    "        return x"
   ]
  },
  {
   "cell_type": "markdown",
   "id": "66df9fd7-ad92-4d56-945a-c46be4e59afd",
   "metadata": {},
   "source": [
    "Here, the PyTorch-Lightning wrapper is defined"
   ]
  },
  {
   "cell_type": "code",
   "execution_count": 7,
   "id": "44fb34a0-879c-4c68-9a89-951fd21116cb",
   "metadata": {
    "execution": {
     "iopub.execute_input": "2024-10-13T14:50:56.969798Z",
     "iopub.status.busy": "2024-10-13T14:50:56.968553Z",
     "iopub.status.idle": "2024-10-13T14:50:56.996310Z",
     "shell.execute_reply": "2024-10-13T14:50:56.994905Z",
     "shell.execute_reply.started": "2024-10-13T14:50:56.969731Z"
    },
    "tags": []
   },
   "outputs": [],
   "source": [
    "class LightningLegNet(pl.LightningModule):\n",
    "    def __init__(\n",
    "        self,\n",
    "        # train_params=TRAIN_DEFAULTS.copy(),\n",
    "        model_class: nn.Module,\n",
    "        model_kws: dict,\n",
    "        criterion_class: nn.Module = nn.BCEWithLogitsLoss,\n",
    "        criterion_kws: Optional[dict] = None,\n",
    "        optimizer_class: torch.optim.Optimizer = torch.optim.AdamW,\n",
    "        optimizer_kws: Optional[dict] = dict(\n",
    "            lr=0.01,\n",
    "            weight_decay=0.1,\n",
    "        ),\n",
    "        lr_scheduler_class: torch.optim.lr_scheduler.LRScheduler = torch.optim.lr_scheduler.OneCycleLR,\n",
    "        lr_scheduler_kws: Optional[dict] = dict(\n",
    "            max_lr=0.01,\n",
    "            steps_per_epoch=128,\n",
    "            epochs=40,\n",
    "            pct_start=0.3,\n",
    "            three_phase=False,\n",
    "            cycle_momentum=True\n",
    "        ),\n",
    "    ):\n",
    "        super().__init__()\n",
    "        self.save_hyperparameters()\n",
    "\n",
    "        self.model_name = self.hparams.model_class.__name__\n",
    "        self.model = self.hparams.model_class(**self.hparams.model_kws)\n",
    "        self.model.apply(self.initialize_weights)\n",
    "\n",
    "        if self.hparams.criterion_kws is None:\n",
    "            self.criterion = self.hparams.criterion_class()\n",
    "        else:\n",
    "            self.criterion = self.hparams.criterion_class(**self.hparams.criterion_kws)\n",
    "\n",
    "    @staticmethod\n",
    "    def initialize_weights(m):\n",
    "        if isinstance(m, nn.Conv1d):\n",
    "            n = m.kernel_size[0] * m.out_channels\n",
    "            m.weight.data.normal_(0, math.sqrt(2 / n))\n",
    "            if m.bias is not None:\n",
    "                nn.init.constant_(m.bias.data, 0)\n",
    "        elif isinstance(m, nn.BatchNorm1d):\n",
    "            nn.init.constant_(m.weight.data, 1)\n",
    "            nn.init.constant_(m.bias.data, 0)\n",
    "        elif isinstance(m, nn.Linear):\n",
    "            m.weight.data.normal_(0, 0.001)\n",
    "            if m.bias is not None:\n",
    "                nn.init.constant_(m.bias.data, 0)\n",
    "\n",
    "    def compute_loss(self, batch):\n",
    "        seqs, real = batch\n",
    "        pred = self.model(seqs)\n",
    "        loss = self.criterion(pred, real)\n",
    "        return loss\n",
    "\n",
    "    def training_step(self, batch, batch_idx):\n",
    "        loss = self.compute_loss(batch)\n",
    "        self.log(\"train_loss\", loss, on_step=True, on_epoch=True)\n",
    "        return loss\n",
    "\n",
    "    def predict_step(self, batch, batch_idx):\n",
    "        seqs, *_ = batch\n",
    "        pred = self.model(seqs)\n",
    "        return pred\n",
    "\n",
    "    def validation_step(self, batch, batch_idx):\n",
    "        loss = self.compute_loss(batch)\n",
    "        self.log(\"val_loss\", loss, on_step=True, on_epoch=True)\n",
    "        return loss\n",
    "\n",
    "    def configure_optimizers(self):\n",
    "        optimizer = self.hparams.optimizer_class(\n",
    "            self.model.parameters(),\n",
    "            **self.hparams.optimizer_kws\n",
    "        )\n",
    "        # optimizer = Lion(model.parameters(), lr=max_lr, weight_decay=weight_decay)\n",
    "        if self.hparams.lr_scheduler_class is None:\n",
    "            return optimizer\n",
    "        else:\n",
    "            lr_scheduler = self.hparams.lr_scheduler_class(\n",
    "                optimizer,\n",
    "                **self.hparams.lr_scheduler_kws\n",
    "            )\n",
    "            return {\n",
    "                \"optimizer\": optimizer,\n",
    "                \"lr_scheduler\": {\n",
    "                    \"scheduler\": lr_scheduler,\n",
    "                    \"interval\": \"step\",\n",
    "                    \"frequency\": 1,\n",
    "                    \"monitor\": \"val_loss\",\n",
    "                    \"strict\": True,\n",
    "                    \"name\": self.hparams.lr_scheduler_class.__name__,\n",
    "                },\n",
    "            }"
   ]
  },
  {
   "cell_type": "markdown",
   "id": "6e499667-0eae-4e02-8908-5b1344c4032c",
   "metadata": {},
   "source": [
    "### Loading data"
   ]
  },
  {
   "cell_type": "markdown",
   "id": "a701462d-c8fa-4cd1-a507-bde12a0e9d58",
   "metadata": {},
   "source": [
    "Here, two important NN training options are configured:\n",
    "\n",
    "These options are defined in the same way as they were in predictor NN, but may require tuning for your data."
   ]
  },
  {
   "cell_type": "code",
   "execution_count": 8,
   "id": "c0fb96bf-c7af-4c94-86be-c5fb151bbbfe",
   "metadata": {
    "execution": {
     "iopub.execute_input": "2024-10-13T14:50:56.999846Z",
     "iopub.status.busy": "2024-10-13T14:50:56.998770Z",
     "iopub.status.idle": "2024-10-13T14:50:57.005184Z",
     "shell.execute_reply": "2024-10-13T14:50:57.003953Z",
     "shell.execute_reply.started": "2024-10-13T14:50:56.999780Z"
    },
    "tags": []
   },
   "outputs": [],
   "source": [
    "BATCH_SIZE = 1024\n",
    "EPOCHS = 10"
   ]
  },
  {
   "cell_type": "markdown",
   "id": "199ad863-5200-40d9-ad04-ec28bfd0230c",
   "metadata": {},
   "source": [
    "Load your train dataset and divide it into two distinct Pandas DataFrame's: one for training and one for validation."
   ]
  },
  {
   "cell_type": "code",
   "execution_count": 9,
   "id": "ca3929a5",
   "metadata": {
    "execution": {
     "iopub.execute_input": "2024-10-13T14:50:57.008179Z",
     "iopub.status.busy": "2024-10-13T14:50:57.007309Z",
     "iopub.status.idle": "2024-10-13T14:50:58.707353Z",
     "shell.execute_reply": "2024-10-13T14:50:58.705955Z",
     "shell.execute_reply.started": "2024-10-13T14:50:57.008128Z"
    },
    "tags": []
   },
   "outputs": [],
   "source": [
    "df = pd.read_csv(\"./UTR3_zscores_replicateagg.csv\")"
   ]
  },
  {
   "cell_type": "code",
   "execution_count": 10,
   "id": "a001bec4-31a7-436d-a2d9-78c518c8b5b0",
   "metadata": {
    "execution": {
     "iopub.execute_input": "2024-10-13T14:50:58.710715Z",
     "iopub.status.busy": "2024-10-13T14:50:58.709713Z",
     "iopub.status.idle": "2024-10-13T14:50:58.795246Z",
     "shell.execute_reply": "2024-10-13T14:50:58.793824Z",
     "shell.execute_reply.started": "2024-10-13T14:50:58.710655Z"
    },
    "tags": []
   },
   "outputs": [],
   "source": [
    "splits = dict(tuple(df.groupby('fold')))\n",
    "for split_df in splits.values():\n",
    "    split_df.reset_index(drop=True, inplace=True)\n",
    "\n",
    "train_df = splits[\"train\"]\n",
    "val_df = splits[\"val\"]\n",
    "test_df = splits[\"test\"]"
   ]
  },
  {
   "cell_type": "code",
   "execution_count": 11,
   "id": "0d733f4d-ff3e-424e-8fdd-ecdff15ae8ce",
   "metadata": {
    "execution": {
     "iopub.execute_input": "2024-10-13T14:50:58.798635Z",
     "iopub.status.busy": "2024-10-13T14:50:58.797634Z",
     "iopub.status.idle": "2024-10-13T14:50:58.834832Z",
     "shell.execute_reply": "2024-10-13T14:50:58.833572Z",
     "shell.execute_reply.started": "2024-10-13T14:50:58.798577Z"
    },
    "tags": []
   },
   "outputs": [
    {
     "data": {
      "text/html": [
       "<div>\n",
       "<style scoped>\n",
       "    .dataframe tbody tr th:only-of-type {\n",
       "        vertical-align: middle;\n",
       "    }\n",
       "\n",
       "    .dataframe tbody tr th {\n",
       "        vertical-align: top;\n",
       "    }\n",
       "\n",
       "    .dataframe thead th {\n",
       "        text-align: right;\n",
       "    }\n",
       "</style>\n",
       "<table border=\"1\" class=\"dataframe\">\n",
       "  <thead>\n",
       "    <tr style=\"text-align: right;\">\n",
       "      <th></th>\n",
       "      <th>seq</th>\n",
       "      <th>cell_type</th>\n",
       "      <th>fold</th>\n",
       "      <th>1</th>\n",
       "      <th>2</th>\n",
       "      <th>3</th>\n",
       "      <th>4</th>\n",
       "      <th>mass_center</th>\n",
       "      <th>mass_center_mean</th>\n",
       "      <th>diff</th>\n",
       "      <th>zscore</th>\n",
       "      <th>mass_center_std</th>\n",
       "    </tr>\n",
       "  </thead>\n",
       "  <tbody>\n",
       "    <tr>\n",
       "      <th>0</th>\n",
       "      <td>AAAAAAAAAAAAAAAAAAAAAAAAAAAAAATTTCCATGGCTAACTA...</td>\n",
       "      <td>c1</td>\n",
       "      <td>train</td>\n",
       "      <td>6.809279</td>\n",
       "      <td>5.843161</td>\n",
       "      <td>5.836944</td>\n",
       "      <td>23.948600</td>\n",
       "      <td>3.105728</td>\n",
       "      <td>2.860766</td>\n",
       "      <td>0.244962</td>\n",
       "      <td>1.165330</td>\n",
       "      <td>0.210208</td>\n",
       "    </tr>\n",
       "    <tr>\n",
       "      <th>1</th>\n",
       "      <td>AAAAAAAAAAAAAAAAAAAAAAAAAAAAAATTTCCATGGCTAACTA...</td>\n",
       "      <td>c13</td>\n",
       "      <td>train</td>\n",
       "      <td>42.009822</td>\n",
       "      <td>34.532234</td>\n",
       "      <td>32.334772</td>\n",
       "      <td>56.966098</td>\n",
       "      <td>2.628650</td>\n",
       "      <td>2.860766</td>\n",
       "      <td>-0.232116</td>\n",
       "      <td>-1.104220</td>\n",
       "      <td>0.210208</td>\n",
       "    </tr>\n",
       "    <tr>\n",
       "      <th>2</th>\n",
       "      <td>AAAAAAAAAAAAAAAAAAAAAAAAAAAAAATTTCCATGGCTAACTA...</td>\n",
       "      <td>c17</td>\n",
       "      <td>train</td>\n",
       "      <td>50.033644</td>\n",
       "      <td>45.049730</td>\n",
       "      <td>54.291393</td>\n",
       "      <td>110.129539</td>\n",
       "      <td>2.865176</td>\n",
       "      <td>2.860766</td>\n",
       "      <td>0.004410</td>\n",
       "      <td>0.020978</td>\n",
       "      <td>0.210208</td>\n",
       "    </tr>\n",
       "    <tr>\n",
       "      <th>3</th>\n",
       "      <td>AAAAAAAAAAAAAAAAAAAAAAAAAAAAAATTTCCATGGCTAACTA...</td>\n",
       "      <td>c2</td>\n",
       "      <td>train</td>\n",
       "      <td>26.001559</td>\n",
       "      <td>44.713552</td>\n",
       "      <td>22.349163</td>\n",
       "      <td>57.504485</td>\n",
       "      <td>2.739573</td>\n",
       "      <td>2.860766</td>\n",
       "      <td>-0.121193</td>\n",
       "      <td>-0.576539</td>\n",
       "      <td>0.210208</td>\n",
       "    </tr>\n",
       "    <tr>\n",
       "      <th>4</th>\n",
       "      <td>AAAAAAAAAAAAAAAAAAAAAAAAAAAAAATTTCCATGGCTAACTA...</td>\n",
       "      <td>c4</td>\n",
       "      <td>train</td>\n",
       "      <td>12.116972</td>\n",
       "      <td>26.338286</td>\n",
       "      <td>33.479228</td>\n",
       "      <td>67.473281</td>\n",
       "      <td>3.121235</td>\n",
       "      <td>2.860766</td>\n",
       "      <td>0.260469</td>\n",
       "      <td>1.239099</td>\n",
       "      <td>0.210208</td>\n",
       "    </tr>\n",
       "  </tbody>\n",
       "</table>\n",
       "</div>"
      ],
      "text/plain": [
       "                                                 seq cell_type   fold  \\\n",
       "0  AAAAAAAAAAAAAAAAAAAAAAAAAAAAAATTTCCATGGCTAACTA...        c1  train   \n",
       "1  AAAAAAAAAAAAAAAAAAAAAAAAAAAAAATTTCCATGGCTAACTA...       c13  train   \n",
       "2  AAAAAAAAAAAAAAAAAAAAAAAAAAAAAATTTCCATGGCTAACTA...       c17  train   \n",
       "3  AAAAAAAAAAAAAAAAAAAAAAAAAAAAAATTTCCATGGCTAACTA...        c2  train   \n",
       "4  AAAAAAAAAAAAAAAAAAAAAAAAAAAAAATTTCCATGGCTAACTA...        c4  train   \n",
       "\n",
       "           1          2          3           4  mass_center  mass_center_mean  \\\n",
       "0   6.809279   5.843161   5.836944   23.948600     3.105728          2.860766   \n",
       "1  42.009822  34.532234  32.334772   56.966098     2.628650          2.860766   \n",
       "2  50.033644  45.049730  54.291393  110.129539     2.865176          2.860766   \n",
       "3  26.001559  44.713552  22.349163   57.504485     2.739573          2.860766   \n",
       "4  12.116972  26.338286  33.479228   67.473281     3.121235          2.860766   \n",
       "\n",
       "       diff    zscore  mass_center_std  \n",
       "0  0.244962  1.165330         0.210208  \n",
       "1 -0.232116 -1.104220         0.210208  \n",
       "2  0.004410  0.020978         0.210208  \n",
       "3 -0.121193 -0.576539         0.210208  \n",
       "4  0.260469  1.239099         0.210208  "
      ]
     },
     "execution_count": 11,
     "metadata": {},
     "output_type": "execute_result"
    }
   ],
   "source": [
    "train_df.head(5)"
   ]
  },
  {
   "cell_type": "markdown",
   "id": "20347a11-f979-4e6e-bca0-ec6889ce902a",
   "metadata": {},
   "source": [
    "Create `SequenceData` datasets that fits to your data"
   ]
  },
  {
   "cell_type": "code",
   "execution_count": 12,
   "id": "9ad80016-327a-4ce5-ba0c-25126f29ab7e",
   "metadata": {
    "execution": {
     "iopub.execute_input": "2024-10-13T14:50:58.838323Z",
     "iopub.status.busy": "2024-10-13T14:50:58.837262Z",
     "iopub.status.idle": "2024-10-13T14:50:58.924205Z",
     "shell.execute_reply": "2024-10-13T14:50:58.922845Z",
     "shell.execute_reply.started": "2024-10-13T14:50:58.838259Z"
    },
    "tags": []
   },
   "outputs": [
    {
     "data": {
      "text/plain": [
       "\u001b[0;31mSignature:\u001b[0m\n",
       "\u001b[0mSequenceData\u001b[0m\u001b[0;34m.\u001b[0m\u001b[0m__init__\u001b[0m\u001b[0;34m(\u001b[0m\u001b[0;34m\u001b[0m\n",
       "\u001b[0;34m\u001b[0m    \u001b[0mself\u001b[0m\u001b[0;34m,\u001b[0m\u001b[0;34m\u001b[0m\n",
       "\u001b[0;34m\u001b[0m    \u001b[0mdf\u001b[0m\u001b[0;34m:\u001b[0m \u001b[0mpandas\u001b[0m\u001b[0;34m.\u001b[0m\u001b[0mcore\u001b[0m\u001b[0;34m.\u001b[0m\u001b[0mframe\u001b[0m\u001b[0;34m.\u001b[0m\u001b[0mDataFrame\u001b[0m\u001b[0;34m,\u001b[0m\u001b[0;34m\u001b[0m\n",
       "\u001b[0;34m\u001b[0m    \u001b[0mseq_col\u001b[0m\u001b[0;34m:\u001b[0m \u001b[0mstr\u001b[0m \u001b[0;34m=\u001b[0m \u001b[0;34m'seq'\u001b[0m\u001b[0;34m,\u001b[0m\u001b[0;34m\u001b[0m\n",
       "\u001b[0;34m\u001b[0m    \u001b[0mpredict_cols\u001b[0m\u001b[0;34m:\u001b[0m \u001b[0mOptional\u001b[0m\u001b[0;34m[\u001b[0m\u001b[0mList\u001b[0m\u001b[0;34m[\u001b[0m\u001b[0mstr\u001b[0m\u001b[0;34m]\u001b[0m\u001b[0;34m]\u001b[0m \u001b[0;34m=\u001b[0m \u001b[0;32mNone\u001b[0m\u001b[0;34m,\u001b[0m\u001b[0;34m\u001b[0m\n",
       "\u001b[0;34m\u001b[0m    \u001b[0mcondition_col\u001b[0m\u001b[0;34m:\u001b[0m \u001b[0mOptional\u001b[0m\u001b[0;34m[\u001b[0m\u001b[0mstr\u001b[0m\u001b[0;34m]\u001b[0m \u001b[0;34m=\u001b[0m \u001b[0;32mNone\u001b[0m\u001b[0;34m,\u001b[0m\u001b[0;34m\u001b[0m\n",
       "\u001b[0;34m\u001b[0m    \u001b[0mconditions\u001b[0m\u001b[0;34m:\u001b[0m \u001b[0mUnion\u001b[0m\u001b[0;34m[\u001b[0m\u001b[0mList\u001b[0m\u001b[0;34m[\u001b[0m\u001b[0mstr\u001b[0m\u001b[0;34m]\u001b[0m\u001b[0;34m,\u001b[0m \u001b[0mTuple\u001b[0m\u001b[0;34m[\u001b[0m\u001b[0mstr\u001b[0m\u001b[0;34m]\u001b[0m\u001b[0;34m,\u001b[0m \u001b[0mNoneType\u001b[0m\u001b[0;34m]\u001b[0m \u001b[0;34m=\u001b[0m \u001b[0;32mNone\u001b[0m\u001b[0;34m,\u001b[0m\u001b[0;34m\u001b[0m\n",
       "\u001b[0;34m\u001b[0m\u001b[0;34m)\u001b[0m\u001b[0;34m\u001b[0m\u001b[0;34m\u001b[0m\u001b[0m\n",
       "\u001b[0;31mDocstring:\u001b[0m\n",
       ":param: df (pandas.DataFrame): a DataFrame that contains necessary information\n",
       ":param: seq_col (str): name of the column in `df` with sequence strings\n",
       ":param: predict_cols (List[str]): list of column names in `df` with target variables\n",
       ":param: condition_col (Optional[str]): name of the column in `df` with conditional\n",
       "        variable that is added to input\n",
       ":param: conditions (Optional[List]): list of all possible conditions for `condition_col`\n",
       "\u001b[0;31mFile:\u001b[0m      /tmp/ipykernel_555998/574279579.py\n",
       "\u001b[0;31mType:\u001b[0m      function"
      ]
     },
     "metadata": {},
     "output_type": "display_data"
    }
   ],
   "source": [
    "?SequenceData.__init__"
   ]
  },
  {
   "cell_type": "code",
   "execution_count": 13,
   "id": "d4812bc3-6c36-47ec-9afb-2af859197adf",
   "metadata": {
    "execution": {
     "iopub.execute_input": "2024-10-13T14:50:58.927712Z",
     "iopub.status.busy": "2024-10-13T14:50:58.927108Z",
     "iopub.status.idle": "2024-10-13T14:50:58.951556Z",
     "shell.execute_reply": "2024-10-13T14:50:58.949871Z",
     "shell.execute_reply.started": "2024-10-13T14:50:58.927660Z"
    },
    "tags": []
   },
   "outputs": [],
   "source": [
    "train_dataset = SequenceData(\n",
    "    df=train_df,\n",
    "    seq_col=\"seq\",\n",
    "    predict_cols=[\"mass_center\"],  # Must be a list, even if it is single\n",
    "    condition_col=\"cell_type\",\n",
    "    conditions=(\"c1\", \"c2\", \"c4\", \"c6\", \"c13\", \"c17\",),\n",
    ")\n",
    "\n",
    "val_dataset = SequenceData(\n",
    "    df=val_df,\n",
    "    seq_col=\"seq\",\n",
    "    predict_cols=[\"mass_center\"],  # Must be a list, even if it is single\n",
    "    condition_col=\"cell_type\",\n",
    "    conditions=(\"c1\", \"c2\", \"c4\", \"c6\", \"c13\", \"c17\",),\n",
    ")\n",
    "\n",
    "test_dataset = SequenceData(\n",
    "    df=test_df,\n",
    "    seq_col=\"seq\",\n",
    "    predict_cols=None,\n",
    "    condition_col=\"cell_type\",\n",
    "    conditions=(\"c1\", \"c2\", \"c4\", \"c6\", \"c13\", \"c17\",),\n",
    ")"
   ]
  },
  {
   "cell_type": "code",
   "execution_count": 14,
   "id": "d6da5a9d-bd79-40c5-9392-d07113963d05",
   "metadata": {
    "execution": {
     "iopub.execute_input": "2024-10-13T14:50:58.954381Z",
     "iopub.status.busy": "2024-10-13T14:50:58.953699Z",
     "iopub.status.idle": "2024-10-13T14:50:58.961525Z",
     "shell.execute_reply": "2024-10-13T14:50:58.960359Z",
     "shell.execute_reply.started": "2024-10-13T14:50:58.954317Z"
    },
    "tags": []
   },
   "outputs": [],
   "source": [
    "assert train_dataset.get_num_channels() == val_dataset.get_num_channels()"
   ]
  },
  {
   "cell_type": "markdown",
   "id": "9418b729-a8f8-4f17-b356-a2737040e4ba",
   "metadata": {},
   "source": [
    "### Creating Model object"
   ]
  },
  {
   "cell_type": "markdown",
   "id": "07ea8020-c7bc-49f1-b80d-92e0cac08bc6",
   "metadata": {},
   "source": [
    "Create a Lightning-wrapped model. Here, it is done automatically based on previous cells"
   ]
  },
  {
   "cell_type": "code",
   "execution_count": 15,
   "id": "ec4198b2-2ced-4a74-abe4-47da98983e3e",
   "metadata": {
    "execution": {
     "iopub.execute_input": "2024-10-13T14:50:58.963940Z",
     "iopub.status.busy": "2024-10-13T14:50:58.963228Z",
     "iopub.status.idle": "2024-10-13T14:50:58.978339Z",
     "shell.execute_reply": "2024-10-13T14:50:58.977191Z",
     "shell.execute_reply.started": "2024-10-13T14:50:58.963885Z"
    },
    "tags": []
   },
   "outputs": [
    {
     "name": "stderr",
     "output_type": "stream",
     "text": [
      "Global seed set to 42\n"
     ]
    },
    {
     "data": {
      "text/plain": [
       "42"
      ]
     },
     "execution_count": 15,
     "metadata": {},
     "output_type": "execute_result"
    }
   ],
   "source": [
    "SEED = 42\n",
    "pl.seed_everything(SEED)"
   ]
  },
  {
   "cell_type": "markdown",
   "id": "eda488b4-00ad-4945-9e04-318379e27400",
   "metadata": {},
   "source": [
    "Here, `DataLoaders` are created with recommended settings.\n",
    "\n",
    "One might need to change `num_workers` here to account for the device resources."
   ]
  },
  {
   "cell_type": "code",
   "execution_count": 16,
   "id": "29b4ded6-723b-440d-be51-4f92ff996524",
   "metadata": {
    "execution": {
     "iopub.execute_input": "2024-10-13T14:50:58.980802Z",
     "iopub.status.busy": "2024-10-13T14:50:58.980120Z",
     "iopub.status.idle": "2024-10-13T14:50:58.991043Z",
     "shell.execute_reply": "2024-10-13T14:50:58.989820Z",
     "shell.execute_reply.started": "2024-10-13T14:50:58.980749Z"
    },
    "tags": []
   },
   "outputs": [],
   "source": [
    "dl_train = DataLoader(\n",
    "    train_dataset,\n",
    "    batch_size=BATCH_SIZE,\n",
    "    num_workers=16,\n",
    "    shuffle=True,\n",
    "    drop_last=True,  # The last batch with size < `batch_size` is dropped\n",
    ")\n",
    "dl_val = DataLoader(\n",
    "    val_dataset,\n",
    "    batch_size=BATCH_SIZE,\n",
    "    num_workers=16,\n",
    "    shuffle=False,\n",
    "    drop_last=False,\n",
    ")\n",
    "dl_test = DataLoader(\n",
    "    test_dataset,\n",
    "    batch_size=BATCH_SIZE,\n",
    "    num_workers=16,\n",
    "    shuffle=False,\n",
    "    drop_last=False,\n",
    ")"
   ]
  },
  {
   "cell_type": "markdown",
   "id": "7aa2c851-b55c-437b-9d72-90e1ffcdb38a",
   "metadata": {},
   "source": [
    "The Lightning Model is defined in the next cell and can be tuned to your liking.\n",
    "\n",
    "In this example, `MSELoss` is used for loss function, `AdamW` as optimizer with `OneCycleLR` schedule.\n",
    "\n",
    "These parameters can be changed for your particular task, e.g. for binary classification, it is recommended to change `criterion_class` to `BCEWithLogitsLoss` (no additional changes are needed)."
   ]
  },
  {
   "cell_type": "code",
   "execution_count": 17,
   "id": "4fa267c9-bca7-4daf-969a-fee3cd1445a7",
   "metadata": {
    "execution": {
     "iopub.execute_input": "2024-10-13T14:50:58.993616Z",
     "iopub.status.busy": "2024-10-13T14:50:58.993120Z",
     "iopub.status.idle": "2024-10-13T14:50:59.073995Z",
     "shell.execute_reply": "2024-10-13T14:50:59.072056Z",
     "shell.execute_reply.started": "2024-10-13T14:50:58.993570Z"
    },
    "tags": []
   },
   "outputs": [],
   "source": [
    "model = LightningLegNet(\n",
    "    model_class=LegNetModule,\n",
    "    model_kws=dict(\n",
    "        in_channels=train_dataset.get_num_channels(),\n",
    "        out_channels=1,\n",
    "        conv_sizes=(128, 64, 64, 32, 32),\n",
    "        mapper_size=128,\n",
    "        linear_sizes=None,\n",
    "        ks=5,\n",
    "        activation=nn.SiLU,\n",
    "        final_activation=nn.Identity,\n",
    "    ),\n",
    "    criterion_class=nn.MSELoss,\n",
    "    # FOR BINARY CLASSIFICATION, CHANGE `criterion_class` TO THE FOLLOWING:\n",
    "    # criterion_class=nn.BCEWithLogitsLoss,\n",
    "    # NOTICE THAT THE TARGET VARIABLE MUST ALSO MATCH\n",
    "    criterion_kws=dict(),\n",
    "    optimizer_class=torch.optim.AdamW,\n",
    "    optimizer_kws=dict(\n",
    "        lr=0.01,\n",
    "        weight_decay=0.1,\n",
    "    ),\n",
    "    lr_scheduler_class=torch.optim.lr_scheduler.OneCycleLR,\n",
    "    lr_scheduler_kws=dict(\n",
    "        max_lr=0.01,\n",
    "        steps_per_epoch=train_dataset.__len__() // BATCH_SIZE,\n",
    "        epochs=EPOCHS,\n",
    "        pct_start=0.3,\n",
    "        three_phase=False,\n",
    "        cycle_momentum=True,\n",
    "    ),\n",
    ")"
   ]
  },
  {
   "cell_type": "code",
   "execution_count": 18,
   "id": "764aa32d-6907-46e1-a571-075f5e075def",
   "metadata": {
    "execution": {
     "iopub.execute_input": "2024-10-13T14:50:59.077775Z",
     "iopub.status.busy": "2024-10-13T14:50:59.076618Z",
     "iopub.status.idle": "2024-10-13T15:02:06.492631Z",
     "shell.execute_reply": "2024-10-13T15:02:06.478954Z",
     "shell.execute_reply.started": "2024-10-13T14:50:59.077708Z"
    },
    "tags": []
   },
   "outputs": [
    {
     "name": "stderr",
     "output_type": "stream",
     "text": [
      "GPU available: True (cuda), used: True\n",
      "TPU available: False, using: 0 TPU cores\n",
      "IPU available: False, using: 0 IPUs\n",
      "HPU available: False, using: 0 HPUs\n",
      "You are using a CUDA device ('NVIDIA GeForce RTX 3090') that has Tensor Cores. To properly utilize them, you should set `torch.set_float32_matmul_precision('medium' | 'high')` which will trade-off precision for performance. For more details, read https://pytorch.org/docs/stable/generated/torch.set_float32_matmul_precision.html#torch.set_float32_matmul_precision\n",
      "/home/arsen_l/.miniconda3/envs/ml/lib/python3.11/site-packages/pytorch_lightning/callbacks/model_checkpoint.py:612: UserWarning: Checkpoint directory /home/arsen_l/rna-legnet/wp4_benchmarks_figures/rna-legnet/regression_multiple/saved_xxx exists and is not empty.\n",
      "  rank_zero_warn(f\"Checkpoint directory {dirpath} exists and is not empty.\")\n",
      "LOCAL_RANK: 0 - CUDA_VISIBLE_DEVICES: [0,1]\n",
      "\n",
      "  | Name      | Type         | Params\n",
      "-------------------------------------------\n",
      "0 | model     | LegNetModule | 330 K \n",
      "1 | criterion | MSELoss      | 0     \n",
      "-------------------------------------------\n",
      "330 K     Trainable params\n",
      "0         Non-trainable params\n",
      "330 K     Total params\n",
      "1.323     Total estimated model params size (MB)\n"
     ]
    },
    {
     "data": {
      "application/vnd.jupyter.widget-view+json": {
       "model_id": "6f6a4dd90ffd4337ac0440319e8049e4",
       "version_major": 2,
       "version_minor": 0
      },
      "text/plain": [
       "Training: 0it [00:00, ?it/s]"
      ]
     },
     "metadata": {},
     "output_type": "display_data"
    },
    {
     "data": {
      "application/vnd.jupyter.widget-view+json": {
       "model_id": "",
       "version_major": 2,
       "version_minor": 0
      },
      "text/plain": [
       "Validation: 0it [00:00, ?it/s]"
      ]
     },
     "metadata": {},
     "output_type": "display_data"
    },
    {
     "data": {
      "application/vnd.jupyter.widget-view+json": {
       "model_id": "",
       "version_major": 2,
       "version_minor": 0
      },
      "text/plain": [
       "Validation: 0it [00:00, ?it/s]"
      ]
     },
     "metadata": {},
     "output_type": "display_data"
    },
    {
     "data": {
      "application/vnd.jupyter.widget-view+json": {
       "model_id": "",
       "version_major": 2,
       "version_minor": 0
      },
      "text/plain": [
       "Validation: 0it [00:00, ?it/s]"
      ]
     },
     "metadata": {},
     "output_type": "display_data"
    },
    {
     "data": {
      "application/vnd.jupyter.widget-view+json": {
       "model_id": "",
       "version_major": 2,
       "version_minor": 0
      },
      "text/plain": [
       "Validation: 0it [00:00, ?it/s]"
      ]
     },
     "metadata": {},
     "output_type": "display_data"
    },
    {
     "data": {
      "application/vnd.jupyter.widget-view+json": {
       "model_id": "",
       "version_major": 2,
       "version_minor": 0
      },
      "text/plain": [
       "Validation: 0it [00:00, ?it/s]"
      ]
     },
     "metadata": {},
     "output_type": "display_data"
    },
    {
     "data": {
      "application/vnd.jupyter.widget-view+json": {
       "model_id": "",
       "version_major": 2,
       "version_minor": 0
      },
      "text/plain": [
       "Validation: 0it [00:00, ?it/s]"
      ]
     },
     "metadata": {},
     "output_type": "display_data"
    },
    {
     "data": {
      "application/vnd.jupyter.widget-view+json": {
       "model_id": "",
       "version_major": 2,
       "version_minor": 0
      },
      "text/plain": [
       "Validation: 0it [00:00, ?it/s]"
      ]
     },
     "metadata": {},
     "output_type": "display_data"
    },
    {
     "data": {
      "application/vnd.jupyter.widget-view+json": {
       "model_id": "",
       "version_major": 2,
       "version_minor": 0
      },
      "text/plain": [
       "Validation: 0it [00:00, ?it/s]"
      ]
     },
     "metadata": {},
     "output_type": "display_data"
    },
    {
     "data": {
      "application/vnd.jupyter.widget-view+json": {
       "model_id": "",
       "version_major": 2,
       "version_minor": 0
      },
      "text/plain": [
       "Validation: 0it [00:00, ?it/s]"
      ]
     },
     "metadata": {},
     "output_type": "display_data"
    },
    {
     "data": {
      "application/vnd.jupyter.widget-view+json": {
       "model_id": "",
       "version_major": 2,
       "version_minor": 0
      },
      "text/plain": [
       "Validation: 0it [00:00, ?it/s]"
      ]
     },
     "metadata": {},
     "output_type": "display_data"
    },
    {
     "name": "stderr",
     "output_type": "stream",
     "text": [
      "`Trainer.fit` stopped: `max_epochs=10` reached.\n"
     ]
    }
   ],
   "source": [
    "checkpoint_callback = pl.callbacks.ModelCheckpoint(\n",
    "    dirpath=\"saved_xxx\",\n",
    "    save_top_k=1,\n",
    "    save_last=False,\n",
    "    monitor=\"val_loss\",\n",
    "    mode=\"min\"\n",
    ")\n",
    "progressbar_callback = pl.callbacks.TQDMProgressBar(refresh_rate=0.5)\n",
    "\n",
    "logger = pl.loggers.tensorboard.TensorBoardLogger(\"tb_logs\", name=model.model_name)\n",
    "trainer = pl.Trainer(\n",
    "    callbacks=[checkpoint_callback, progressbar_callback],\n",
    "    logger=logger,\n",
    "    accelerator=\"gpu\",\n",
    "    devices=1,\n",
    "    deterministic=True,\n",
    "    max_epochs=EPOCHS,\n",
    "    num_sanity_val_steps=0,\n",
    "    # UNCOMMENT THE FOLLOWING LINES TO USE GRADIENT CLIPPING:\n",
    "    # gradient_clip_val=1e-5,\n",
    "    # gradient_clip_algorithm=\"norm\",\n",
    ")\n",
    "trainer.fit(model=model, train_dataloaders=dl_train, val_dataloaders=dl_val)"
   ]
  },
  {
   "cell_type": "code",
   "execution_count": 20,
   "id": "3446dbcb-1c1e-46ac-a1d8-11465aaa22e0",
   "metadata": {
    "execution": {
     "iopub.execute_input": "2024-10-13T15:02:31.896184Z",
     "iopub.status.busy": "2024-10-13T15:02:31.894950Z",
     "iopub.status.idle": "2024-10-13T15:02:59.016448Z",
     "shell.execute_reply": "2024-10-13T15:02:59.014762Z",
     "shell.execute_reply.started": "2024-10-13T15:02:31.896110Z"
    },
    "tags": []
   },
   "outputs": [
    {
     "name": "stderr",
     "output_type": "stream",
     "text": [
      "You are using a CUDA device ('NVIDIA GeForce RTX 3090') that has Tensor Cores. To properly utilize them, you should set `torch.set_float32_matmul_precision('medium' | 'high')` which will trade-off precision for performance. For more details, read https://pytorch.org/docs/stable/generated/torch.set_float32_matmul_precision.html#torch.set_float32_matmul_precision\n",
      "LOCAL_RANK: 0 - CUDA_VISIBLE_DEVICES: [0,1]\n"
     ]
    },
    {
     "data": {
      "application/vnd.jupyter.widget-view+json": {
       "model_id": "93a79ba39e9e4c728fa7645c1e10a564",
       "version_major": 2,
       "version_minor": 0
      },
      "text/plain": [
       "Predicting: 0it [00:00, ?it/s]"
      ]
     },
     "metadata": {},
     "output_type": "display_data"
    }
   ],
   "source": [
    "best_model = LightningLegNet.load_from_checkpoint(checkpoint_callback.best_model_path)\n",
    "prediction = trainer.predict(model=best_model, dataloaders=dl_test)\n",
    "prediction = torch.concat(prediction).numpy()"
   ]
  },
  {
   "cell_type": "markdown",
   "id": "b0412852-09a8-43cb-b0e0-552ba3dd6955",
   "metadata": {},
   "source": [
    "### Post-model analysis"
   ]
  },
  {
   "cell_type": "markdown",
   "id": "05be9eb0-a008-439c-9d78-6cb1629552f2",
   "metadata": {},
   "source": [
    "Here, a basic estimation of Pearson's correlation coefficient is performed"
   ]
  },
  {
   "cell_type": "code",
   "execution_count": 26,
   "id": "e31aee14-23e0-4240-9664-5a9289d91a9b",
   "metadata": {
    "execution": {
     "iopub.execute_input": "2024-10-13T15:03:59.372284Z",
     "iopub.status.busy": "2024-10-13T15:03:59.371382Z",
     "iopub.status.idle": "2024-10-13T15:03:59.384822Z",
     "shell.execute_reply": "2024-10-13T15:03:59.382714Z",
     "shell.execute_reply.started": "2024-10-13T15:03:59.372207Z"
    },
    "tags": []
   },
   "outputs": [],
   "source": [
    "predicted_values = prediction[:, 0]\n",
    "target_values = test_df[\"mass_center\"]"
   ]
  },
  {
   "cell_type": "code",
   "execution_count": 29,
   "id": "038be6b4-d8ff-4286-bf50-41856a93b31a",
   "metadata": {
    "execution": {
     "iopub.execute_input": "2024-10-13T15:04:34.724976Z",
     "iopub.status.busy": "2024-10-13T15:04:34.724029Z",
     "iopub.status.idle": "2024-10-13T15:04:34.775735Z",
     "shell.execute_reply": "2024-10-13T15:04:34.770618Z",
     "shell.execute_reply.started": "2024-10-13T15:04:34.724893Z"
    },
    "tags": []
   },
   "outputs": [],
   "source": [
    "R = ss.pearsonr(predicted_values, target_values).statistic"
   ]
  },
  {
   "cell_type": "code",
   "execution_count": 56,
   "id": "3ad9cf55-7265-4a4a-9816-f9ae7b23b524",
   "metadata": {
    "execution": {
     "iopub.execute_input": "2024-10-13T15:14:02.224809Z",
     "iopub.status.busy": "2024-10-13T15:14:02.224268Z",
     "iopub.status.idle": "2024-10-13T15:14:02.893966Z",
     "shell.execute_reply": "2024-10-13T15:14:02.887291Z",
     "shell.execute_reply.started": "2024-10-13T15:14:02.224778Z"
    },
    "tags": []
   },
   "outputs": [
    {
     "data": {
      "image/png": "[encoded data removed]",
      "text/plain": [
       "<Figure size 600x600 with 1 Axes>"
      ]
     },
     "metadata": {},
     "output_type": "display_data"
    }
   ],
   "source": [
    "fig, ax = plt.subplots(figsize=(6, 6))\n",
    "ax.scatter(target_values, predicted_values, marker=\".\", alpha=0.33)\n",
    "\n",
    "ax.set_xlabel(\"Target variable\", fontsize=16)\n",
    "ax.set_ylabel(\"Predicted variable\", fontsize=16)\n",
    "\n",
    "ax.set_title(\"Correlation\", fontsize=18)\n",
    "\n",
    "# Axis limits\n",
    "axlim = tuple(map(max, zip(ax.get_xlim(), ax.get_ylim())))\n",
    "ax.set_xlim(axlim)\n",
    "ax.set_ylim(axlim)\n",
    "\n",
    "# Diagonal line\n",
    "line_x = target_values.mean()\n",
    "ax.axline([line_x, line_x], slope=1, color=\"k\", ls=\"--\", lw=1)\n",
    "\n",
    "ax.text(0.1, 0.9, f\"$R = {R:.04f}$\", fontsize=14, transform=ax.transAxes)\n",
    "\n",
    "for spine in [\"top\", \"right\"]:\n",
    "    ax.spines[spine].set_visible(False)\n",
    "fig.show()\n",
    "# fig.savefig(\"test.svg\")"
   ]
  },
  {
   "cell_type": "markdown",
   "id": "829e1e23",
   "metadata": {},
   "source": [
    "---"
   ]
  }
 ],
 "metadata": {
  "kernelspec": {
   "display_name": "Python [conda env:ml]",
   "language": "python",
   "name": "conda-env-ml-py"
  },
  "language_info": {
   "codemirror_mode": {
    "name": "ipython",
    "version": 3
   },
   "file_extension": ".py",
   "mimetype": "text/x-python",
   "name": "python",
   "nbconvert_exporter": "python",
   "pygments_lexer": "ipython3",
   "version": "3.11.3"
  },
  "vscode": {
   "interpreter": {
    "hash": "64b0dffe91cf8f88d3a84eea1f79c78b7512619aa8cb3e6f3df2fb7199efc743"
   }
  }
 },
 "nbformat": 4,
 "nbformat_minor": 5
}
